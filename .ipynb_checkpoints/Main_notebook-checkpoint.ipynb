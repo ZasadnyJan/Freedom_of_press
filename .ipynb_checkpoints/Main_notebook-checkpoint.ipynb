{
 "cells": [
  {
   "cell_type": "markdown",
   "id": "06dd437c",
   "metadata": {
    "toc": true
   },
   "source": [
    "<h1>Table of Contents<span class=\"tocSkip\"></span></h1>\n",
    "<div class=\"toc\"><ul class=\"toc-item\"><li><span><a href=\"#Imports\" data-toc-modified-id=\"Imports-1\"><span class=\"toc-item-num\">1&nbsp;&nbsp;</span>Imports</a></span></li><li><span><a href=\"#Data-loading-and-processing\" data-toc-modified-id=\"Data-loading-and-processing-2\"><span class=\"toc-item-num\">2&nbsp;&nbsp;</span>Data loading and processing</a></span></li><li><span><a href=\"#Basic-information\" data-toc-modified-id=\"Basic-information-3\"><span class=\"toc-item-num\">3&nbsp;&nbsp;</span>Basic information</a></span></li><li><span><a href=\"#Freedom-of-press-across-the-world\" data-toc-modified-id=\"Freedom-of-press-across-the-world-4\"><span class=\"toc-item-num\">4&nbsp;&nbsp;</span>Freedom of press across the world</a></span><ul class=\"toc-item\"><li><span><a href=\"#Freedom-of-press-by-continent\" data-toc-modified-id=\"Freedom-of-press-by-continent-4.1\"><span class=\"toc-item-num\">4.1&nbsp;&nbsp;</span>Freedom of press by continent</a></span></li><li><span><a href=\"#Change-across-the-years\" data-toc-modified-id=\"Change-across-the-years-4.2\"><span class=\"toc-item-num\">4.2&nbsp;&nbsp;</span>Change across the years</a></span></li></ul></li><li><span><a href=\"#Government-forms-and-freedom-of-press\" data-toc-modified-id=\"Government-forms-and-freedom-of-press-5\"><span class=\"toc-item-num\">5&nbsp;&nbsp;</span>Government forms and freedom of press</a></span><ul class=\"toc-item\"><li><span><a href=\"#Governments-of-the-world\" data-toc-modified-id=\"Governments-of-the-world-5.1\"><span class=\"toc-item-num\">5.1&nbsp;&nbsp;</span>Governments of the world</a></span></li><li><span><a href=\"#Freedom-of-press-in-democratic-and-autocratic-regimes-(TODO:-Change-header-text)\" data-toc-modified-id=\"Freedom-of-press-in-democratic-and-autocratic-regimes-(TODO:-Change-header-text)-5.2\"><span class=\"toc-item-num\">5.2&nbsp;&nbsp;</span>Freedom of press in democratic and autocratic regimes (TODO: Change header text)</a></span></li></ul></li></ul></div>"
   ]
  },
  {
   "cell_type": "markdown",
   "id": "c914b983",
   "metadata": {},
   "source": [
    "## Imports"
   ]
  },
  {
   "cell_type": "code",
   "execution_count": 1,
   "id": "6f23ce4b",
   "metadata": {},
   "outputs": [],
   "source": [
    "import numpy as np\n",
    "import pandas as pd\n",
    "import matplotlib.pyplot as plt\n",
    "import seaborn as sns\n",
    "import sqlite3\n",
    "import plotly.express as px\n",
    "import plotly\n",
    "import math\n",
    "import pycountry_convert\n",
    "\n",
    "from pycountry import countries\n",
    "from IPython.core.display import HTML, display"
   ]
  },
  {
   "cell_type": "markdown",
   "id": "6a7ded34",
   "metadata": {},
   "source": [
    "## Data loading and processing"
   ]
  },
  {
   "cell_type": "code",
   "execution_count": 2,
   "id": "0257c77a",
   "metadata": {},
   "outputs": [],
   "source": [
    "reign=pd.read_csv(\"REIGN_2021_6.csv\")\n",
    "press_index=pd.read_csv(\"World Press Index 2021.csv\")\n",
    "continents=pd.read_csv(\"country-and-continent-codes.csv\")"
   ]
  },
  {
   "cell_type": "code",
   "execution_count": 3,
   "id": "82b480f7",
   "metadata": {
    "scrolled": true
   },
   "outputs": [],
   "source": [
    "def add_alpha_2(row):\n",
    "    try:\n",
    "        alpha_2=countries.search_fuzzy(row)[0].alpha_2\n",
    "    except LookupError:\n",
    "        alpha_2=None\n",
    "    return alpha_2\n",
    "\n",
    "def add_alpha_3(row):\n",
    "    try:\n",
    "        alpha_3=countries.search_fuzzy(row)[0].alpha_3\n",
    "    except LookupError:\n",
    "        alpha_3=None\n",
    "    return alpha_3"
   ]
  },
  {
   "cell_type": "code",
   "execution_count": 4,
   "id": "b2530ac8",
   "metadata": {},
   "outputs": [
    {
     "data": {
      "text/html": [
       "<div>\n",
       "<style scoped>\n",
       "    .dataframe tbody tr th:only-of-type {\n",
       "        vertical-align: middle;\n",
       "    }\n",
       "\n",
       "    .dataframe tbody tr th {\n",
       "        vertical-align: top;\n",
       "    }\n",
       "\n",
       "    .dataframe thead th {\n",
       "        text-align: right;\n",
       "    }\n",
       "</style>\n",
       "<table border=\"1\" class=\"dataframe\">\n",
       "  <thead>\n",
       "    <tr style=\"text-align: right;\">\n",
       "      <th></th>\n",
       "      <th>Country Name</th>\n",
       "      <th>Abuse Score 2021</th>\n",
       "      <th>Underlying Situation Score 2021</th>\n",
       "      <th>Global Score 2021</th>\n",
       "      <th>Global Score 2020</th>\n",
       "      <th>Global Score 2019</th>\n",
       "      <th>alpha_2</th>\n",
       "      <th>alpha_3</th>\n",
       "      <th>ccode</th>\n",
       "      <th>country</th>\n",
       "      <th>leader</th>\n",
       "      <th>year</th>\n",
       "      <th>government</th>\n",
       "      <th>gov_democracy</th>\n",
       "      <th>Continent_Name</th>\n",
       "      <th>Change</th>\n",
       "    </tr>\n",
       "  </thead>\n",
       "  <tbody>\n",
       "    <tr>\n",
       "      <th>0</th>\n",
       "      <td>Norway</td>\n",
       "      <td>0.00</td>\n",
       "      <td>6.72</td>\n",
       "      <td>6.72</td>\n",
       "      <td>7.84</td>\n",
       "      <td>7.82</td>\n",
       "      <td>NO</td>\n",
       "      <td>NOR</td>\n",
       "      <td>385.0</td>\n",
       "      <td>Norway</td>\n",
       "      <td>Solberg</td>\n",
       "      <td>2021.0</td>\n",
       "      <td>Parliamentary Democracy</td>\n",
       "      <td>1.0</td>\n",
       "      <td>Europe</td>\n",
       "      <td>-1.10</td>\n",
       "    </tr>\n",
       "    <tr>\n",
       "      <th>1</th>\n",
       "      <td>Finland</td>\n",
       "      <td>0.00</td>\n",
       "      <td>6.99</td>\n",
       "      <td>6.99</td>\n",
       "      <td>7.93</td>\n",
       "      <td>7.90</td>\n",
       "      <td>FI</td>\n",
       "      <td>FIN</td>\n",
       "      <td>375.0</td>\n",
       "      <td>Finland</td>\n",
       "      <td>Sanna Marin</td>\n",
       "      <td>2021.0</td>\n",
       "      <td>Parliamentary Democracy</td>\n",
       "      <td>1.0</td>\n",
       "      <td>Europe</td>\n",
       "      <td>-0.91</td>\n",
       "    </tr>\n",
       "    <tr>\n",
       "      <th>2</th>\n",
       "      <td>Sweden</td>\n",
       "      <td>0.00</td>\n",
       "      <td>7.24</td>\n",
       "      <td>7.24</td>\n",
       "      <td>9.25</td>\n",
       "      <td>8.31</td>\n",
       "      <td>SE</td>\n",
       "      <td>SWE</td>\n",
       "      <td>380.0</td>\n",
       "      <td>Sweden</td>\n",
       "      <td>Lofven</td>\n",
       "      <td>2021.0</td>\n",
       "      <td>Parliamentary Democracy</td>\n",
       "      <td>1.0</td>\n",
       "      <td>Europe</td>\n",
       "      <td>-1.07</td>\n",
       "    </tr>\n",
       "    <tr>\n",
       "      <th>3</th>\n",
       "      <td>Denmark</td>\n",
       "      <td>0.00</td>\n",
       "      <td>8.57</td>\n",
       "      <td>8.57</td>\n",
       "      <td>8.13</td>\n",
       "      <td>9.87</td>\n",
       "      <td>DK</td>\n",
       "      <td>DNK</td>\n",
       "      <td>390.0</td>\n",
       "      <td>Denmark</td>\n",
       "      <td>Mette Frederiksen</td>\n",
       "      <td>2021.0</td>\n",
       "      <td>Parliamentary Democracy</td>\n",
       "      <td>1.0</td>\n",
       "      <td>Europe</td>\n",
       "      <td>-1.30</td>\n",
       "    </tr>\n",
       "    <tr>\n",
       "      <th>4</th>\n",
       "      <td>Costa Rica</td>\n",
       "      <td>10.99</td>\n",
       "      <td>8.21</td>\n",
       "      <td>8.76</td>\n",
       "      <td>10.53</td>\n",
       "      <td>12.24</td>\n",
       "      <td>CR</td>\n",
       "      <td>CRI</td>\n",
       "      <td>94.0</td>\n",
       "      <td>Costa Rica</td>\n",
       "      <td>Carlos Alvarado Quesada</td>\n",
       "      <td>2021.0</td>\n",
       "      <td>Presidential Democracy</td>\n",
       "      <td>1.0</td>\n",
       "      <td>North America</td>\n",
       "      <td>-3.48</td>\n",
       "    </tr>\n",
       "  </tbody>\n",
       "</table>\n",
       "</div>"
      ],
      "text/plain": [
       "  Country Name  Abuse Score 2021  Underlying Situation Score 2021  \\\n",
       "0       Norway              0.00                             6.72   \n",
       "1      Finland              0.00                             6.99   \n",
       "2       Sweden              0.00                             7.24   \n",
       "3      Denmark              0.00                             8.57   \n",
       "4   Costa Rica             10.99                             8.21   \n",
       "\n",
       "   Global Score 2021  Global Score 2020  Global Score 2019 alpha_2 alpha_3  \\\n",
       "0               6.72               7.84               7.82      NO     NOR   \n",
       "1               6.99               7.93               7.90      FI     FIN   \n",
       "2               7.24               9.25               8.31      SE     SWE   \n",
       "3               8.57               8.13               9.87      DK     DNK   \n",
       "4               8.76              10.53              12.24      CR     CRI   \n",
       "\n",
       "   ccode     country                   leader    year  \\\n",
       "0  385.0      Norway                  Solberg  2021.0   \n",
       "1  375.0     Finland              Sanna Marin  2021.0   \n",
       "2  380.0      Sweden                   Lofven  2021.0   \n",
       "3  390.0     Denmark        Mette Frederiksen  2021.0   \n",
       "4   94.0  Costa Rica  Carlos Alvarado Quesada  2021.0   \n",
       "\n",
       "                government  gov_democracy Continent_Name  Change  \n",
       "0  Parliamentary Democracy            1.0         Europe   -1.10  \n",
       "1  Parliamentary Democracy            1.0         Europe   -0.91  \n",
       "2  Parliamentary Democracy            1.0         Europe   -1.07  \n",
       "3  Parliamentary Democracy            1.0         Europe   -1.30  \n",
       "4   Presidential Democracy            1.0  North America   -3.48  "
      ]
     },
     "execution_count": 4,
     "metadata": {},
     "output_type": "execute_result"
    }
   ],
   "source": [
    "\n",
    "### Get only latest relevant info from REIGN dataset\n",
    "\n",
    "reign_latest=pd.DataFrame(columns=reign.columns)\n",
    "reign_grouped=reign.groupby(\"country\")\n",
    "for name, group in reign_grouped:\n",
    "    latest=group.sort_values(by=\"year\",ascending=False).iloc[0,:]\n",
    "    reign_latest=reign_latest.append(latest)\n",
    "reign_latest=reign_latest.reset_index()[['ccode','country','leader','year','government','gov_democracy']]\n",
    "reign_latest.head()\n",
    "\n",
    "### Add country codes\n",
    "\n",
    "#### REIGN\n",
    "\n",
    "#drop countries that no longer exist\n",
    "reign_latest=reign_latest.query(\"country not in ['Czechoslovakia','Germany East','Soviet Union','Vietnam South','Yemen South','Yugoslavia']\")\n",
    "#replace other countries with official names\n",
    "map_dict={'Cape Verde':'Cabo Verde',\n",
    "          'Cen African Rep':'Central African Republic',\n",
    "          'Congo-Brz':'Congo',\n",
    "          'Congo/Zaire':'Congo, The Democratic Republic of the',\n",
    "         'East Timor':'Timor-Leste',\n",
    "         'Guinea Bissau':'Guinea-Bissau',\n",
    "         'Ivory Coast':'Côte d\\'Ivoire',\n",
    "         'Korea North':'Korea, Democratic People\\'s Republic of',\n",
    "         'Korea South':'Korea, Republic of',\n",
    "         'Laos':'Lao People\\'s Democratic Republic',\n",
    "         'St Kitts and Nevis':'Saint Kitts and Nevis',\n",
    "         'St Lucia':'Saint Lucia',\n",
    "         'St Vincent':'Saint Vincent and the Grenadines',\n",
    "         'Swaziland':'Eswatini',\n",
    "         'UKG':'United Kingdom'}\n",
    "reign_latest['country']=reign_latest['country'].map(map_dict).fillna(reign_latest['country'])\n",
    "#add country codes\n",
    "reign_latest['alpha_2']=reign_latest['country'].apply(lambda x: add_alpha_2(x))\n",
    "reign_latest['alpha_3']=reign_latest['country'].apply(lambda x: add_alpha_3(x))\n",
    "\n",
    "#Niger gets the wrong code, need to fix it \n",
    "reign_latest.loc[reign_latest['country']=='Niger','alpha_2']='NE'\n",
    "reign_latest.loc[reign_latest['country']=='Niger','alpha_3']='NER'\n",
    "#### press_index\n",
    "\n",
    "press_clean=press_index.copy()\n",
    "\n",
    "#drop countries which don't exist in the reign dataset\n",
    "press_clean=press_clean.query(\"`Country Name` not in ['Northern Cyprus','Hong Kong S.A.R.','Somaliland']\")\n",
    "\n",
    "#replace countries with official names\n",
    "map_dict={'South Korea':'Korea, Republic of',\n",
    "          'Ivory Coast':'Côte d\\'Ivoire',\n",
    "          'East Timor':'Timor-Leste',\n",
    "          'Guinea Bissau':'Guinea-Bissau',\n",
    "          'Republic of Congo':'Congo',\n",
    "          'Democratic Republic of the Congo':'Congo, The Democratic Republic of the',\n",
    "          'Laos':'Lao People\\'s Democratic Republic',\n",
    "          'North Korea':'Korea, Democratic People\\'s Republic of'}\n",
    "press_clean['Country Name']=press_clean['Country Name'].map(map_dict).fillna(press_clean['Country Name'])\n",
    "\n",
    "#OECS is a tricky special case \n",
    "oecs_countries=['Antigua and Barbuda','Dominica','Grenada','Saint Kitts and Nevis','Saint Lucia','Saint Vincent and the Grenadines']\n",
    "\n",
    "for country in oecs_countries:\n",
    "    row=press_clean[press_clean['Country Name']=='OECS'].copy()\n",
    "    row['Country Name']=country\n",
    "    #row.reset_index(drop=True, inplace=True)\n",
    "    press_clean=press_clean.append(row,ignore_index=True)\n",
    "\n",
    "press_clean=press_clean.query(\"`Country Name` not in ['OECS']\")\n",
    "press_clean['alpha_2']=press_clean['Country Name'].apply(lambda x: add_alpha_2(x))\n",
    "press_clean['alpha_3']=press_clean['Country Name'].apply(lambda x: add_alpha_3(x))\n",
    "#Niger gets the wrong code, need to fix it \n",
    "press_clean.loc[press_clean['Country Name']=='Niger','alpha_2']='NE'\n",
    "press_clean.loc[press_clean['Country Name']=='Niger','alpha_3']='NER'\n",
    "\n",
    "oecs_row=press_clean[press_clean['Country Name']=='OECS'].copy()\n",
    "oecs_row['Country Name']='Grenada'\n",
    "\n",
    "\n",
    "press_clean[press_clean['Country Name']=='Serbia']\n",
    "\n",
    "### Combine dataframes\n",
    "\n",
    "continents=continents.rename(columns={'Two_Letter_Country_Code':'alpha_2'})\n",
    "continents=continents[['Continent_Name','alpha_2']]\n",
    "continents.head()\n",
    "\n",
    "combined=pd.merge(press_clean,reign_latest,how=\"left\", on=[\"alpha_2\",\"alpha_3\"])\n",
    "\n",
    "#Add continents\n",
    "combined=pd.merge(combined,continents,how=\"left\", on=[\"alpha_2\"])\n",
    "#namibia is for some reason not in the continents data frame\n",
    "combined.loc[23,'Continent_Name']='Africa'\n",
    "\n",
    "#Some continent changes to be consistent with map geojsons\n",
    "combined.loc[combined['country']=='Samoa','Continent_Name']='Asia'\n",
    "combined.loc[combined['country']=='Tonga','Continent_Name']='Asia'\n",
    "\n",
    "combined_with_change=combined.copy()\n",
    "combined_with_change['Change']=combined_with_change.apply(lambda x: x['Global Score 2021']-x['Global Score 2019'], axis=1)\n",
    "combined_with_change.head()"
   ]
  },
  {
   "cell_type": "markdown",
   "id": "411a695b",
   "metadata": {},
   "source": [
    "## Basic information\n"
   ]
  },
  {
   "cell_type": "code",
   "execution_count": 5,
   "id": "9176ed38",
   "metadata": {
    "scrolled": true
   },
   "outputs": [
    {
     "name": "stdout",
     "output_type": "stream",
     "text": [
      "34.83251366120217\n"
     ]
    }
   ],
   "source": [
    "## avg. index\n",
    "print(press_clean['Global Score 2021'].mean())"
   ]
  },
  {
   "cell_type": "markdown",
   "id": "e348faba",
   "metadata": {},
   "source": [
    "## Freedom of press across the world"
   ]
  },
  {
   "cell_type": "markdown",
   "id": "60bd6cc3",
   "metadata": {},
   "source": [
    "TODO: Here put the global map of global and abuse score and race chart "
   ]
  },
  {
   "cell_type": "code",
   "execution_count": 6,
   "id": "72b151f5",
   "metadata": {
    "scrolled": true
   },
   "outputs": [
    {
     "data": {
      "text/html": [
       "<div class=\"flourish-embed flourish-map\" data-src=\"visualisation/6552777\"><script src=\"https://public.flourish.studio/resources/embed.js\"></script></div>"
      ],
      "text/plain": [
       "<IPython.core.display.HTML object>"
      ]
     },
     "execution_count": 6,
     "metadata": {},
     "output_type": "execute_result"
    }
   ],
   "source": [
    "HTML('''<div class=\"flourish-embed flourish-map\" data-src=\"visualisation/6552777\"><script src=\"https://public.flourish.studio/resources/embed.js\"></script></div>''')"
   ]
  },
  {
   "cell_type": "markdown",
   "id": "4d167949",
   "metadata": {},
   "source": [
    "TODO: Country ranking top 10/ bottom 10"
   ]
  },
  {
   "cell_type": "code",
   "execution_count": 7,
   "id": "4b59df50",
   "metadata": {},
   "outputs": [
    {
     "data": {
      "text/html": [
       "<div class=\"flourish-embed flourish-bar-chart-race\" data-src=\"visualisation/6581484\"><script src=\"https://public.flourish.studio/resources/embed.js\"></script></div>"
      ],
      "text/plain": [
       "<IPython.core.display.HTML object>"
      ]
     },
     "execution_count": 7,
     "metadata": {},
     "output_type": "execute_result"
    }
   ],
   "source": [
    "HTML(\"\"\"<div class=\"flourish-embed flourish-bar-chart-race\" data-src=\"visualisation/6581484\"><script src=\"https://public.flourish.studio/resources/embed.js\"></script></div>\"\"\")"
   ]
  },
  {
   "cell_type": "markdown",
   "id": "596e0875",
   "metadata": {},
   "source": [
    "TODO: What is abuse score again"
   ]
  },
  {
   "cell_type": "code",
   "execution_count": 8,
   "id": "8b3298c7",
   "metadata": {
    "scrolled": false
   },
   "outputs": [
    {
     "data": {
      "text/html": [
       "<div class=\"flourish-embed flourish-map\" data-src=\"visualisation/6554015\"><script src=\"https://public.flourish.studio/resources/embed.js\"></script></div>"
      ],
      "text/plain": [
       "<IPython.core.display.HTML object>"
      ]
     },
     "execution_count": 8,
     "metadata": {},
     "output_type": "execute_result"
    }
   ],
   "source": [
    "HTML('''<div class=\"flourish-embed flourish-map\" data-src=\"visualisation/6554015\"><script src=\"https://public.flourish.studio/resources/embed.js\"></script></div>''')"
   ]
  },
  {
   "cell_type": "markdown",
   "id": "e7a50d76",
   "metadata": {},
   "source": [
    "TODO: Country ranking top 10/ bottom 10"
   ]
  },
  {
   "cell_type": "markdown",
   "id": "92686cae",
   "metadata": {},
   "source": [
    "### Freedom of press by continent"
   ]
  },
  {
   "cell_type": "code",
   "execution_count": 9,
   "id": "3b666a18",
   "metadata": {
    "scrolled": false
   },
   "outputs": [
    {
     "name": "stdout",
     "output_type": "stream",
     "text": [
      "Continent_Name\n",
      "Africa           38.101887\n",
      "Asia             45.635000\n",
      "Europe           25.261200\n",
      "North America    28.881905\n",
      "Oceania          20.657500\n",
      "South America    31.411667\n",
      "Name: Global Score 2021, dtype: float64\n"
     ]
    }
   ],
   "source": [
    "#avg. indexes by continent\n",
    "print(combined.groupby('Continent_Name')['Global Score 2021'].mean())"
   ]
  },
  {
   "cell_type": "markdown",
   "id": "527af5ad",
   "metadata": {},
   "source": [
    "#### Asia"
   ]
  },
  {
   "cell_type": "code",
   "execution_count": 10,
   "id": "9c817415",
   "metadata": {
    "scrolled": true
   },
   "outputs": [
    {
     "data": {
      "text/html": [
       "<div class=\"flourish-embed flourish-map\" data-src=\"visualisation/6554053\" data-height=\"500px\"><script src=\"https://public.flourish.studio/resources/embed.js\"></script></div>"
      ],
      "text/plain": [
       "<IPython.core.display.HTML object>"
      ]
     },
     "execution_count": 10,
     "metadata": {},
     "output_type": "execute_result"
    }
   ],
   "source": [
    "HTML('''<div class=\"flourish-embed flourish-map\" data-src=\"visualisation/6554053\" data-height=\"500px\"><script src=\"https://public.flourish.studio/resources/embed.js\"></script></div>''')"
   ]
  },
  {
   "cell_type": "markdown",
   "id": "43c21419",
   "metadata": {},
   "source": [
    "#### Africa"
   ]
  },
  {
   "cell_type": "code",
   "execution_count": 11,
   "id": "94805297",
   "metadata": {},
   "outputs": [
    {
     "data": {
      "text/html": [
       "<div class=\"flourish-embed flourish-map\" data-src=\"visualisation/6554077\" data-height=\"500px\"><script src=\"https://public.flourish.studio/resources/embed.js\"></script></div>"
      ],
      "text/plain": [
       "<IPython.core.display.HTML object>"
      ]
     },
     "execution_count": 11,
     "metadata": {},
     "output_type": "execute_result"
    }
   ],
   "source": [
    "HTML('''<div class=\"flourish-embed flourish-map\" data-src=\"visualisation/6554077\" data-height=\"500px\"><script src=\"https://public.flourish.studio/resources/embed.js\"></script></div>''')"
   ]
  },
  {
   "cell_type": "markdown",
   "id": "49f1d9d2",
   "metadata": {},
   "source": [
    "#### Europe"
   ]
  },
  {
   "cell_type": "code",
   "execution_count": 12,
   "id": "f02b947d",
   "metadata": {},
   "outputs": [
    {
     "data": {
      "text/html": [
       "<div class=\"flourish-embed flourish-map\" data-src=\"visualisation/6554210\" data-height=\"500px\"><script src=\"https://public.flourish.studio/resources/embed.js\"></script></div>"
      ],
      "text/plain": [
       "<IPython.core.display.HTML object>"
      ]
     },
     "execution_count": 12,
     "metadata": {},
     "output_type": "execute_result"
    }
   ],
   "source": [
    "HTML('''<div class=\"flourish-embed flourish-map\" data-src=\"visualisation/6554210\" data-height=\"500px\"><script src=\"https://public.flourish.studio/resources/embed.js\"></script></div>''')"
   ]
  },
  {
   "cell_type": "markdown",
   "id": "f651bc11",
   "metadata": {},
   "source": [
    "#### North America"
   ]
  },
  {
   "cell_type": "code",
   "execution_count": 13,
   "id": "cff42d40",
   "metadata": {},
   "outputs": [
    {
     "data": {
      "text/html": [
       "<div class=\"flourish-embed flourish-map\" data-src=\"visualisation/6554108\" data-height=\"500px\"><script src=\"https://public.flourish.studio/resources/embed.js\"></script></div>"
      ],
      "text/plain": [
       "<IPython.core.display.HTML object>"
      ]
     },
     "execution_count": 13,
     "metadata": {},
     "output_type": "execute_result"
    }
   ],
   "source": [
    "HTML('''<div class=\"flourish-embed flourish-map\" data-src=\"visualisation/6554108\" data-height=\"500px\"><script src=\"https://public.flourish.studio/resources/embed.js\"></script></div>''')"
   ]
  },
  {
   "cell_type": "markdown",
   "id": "159a6f46",
   "metadata": {},
   "source": [
    "#### South America"
   ]
  },
  {
   "cell_type": "code",
   "execution_count": 14,
   "id": "e83a79fe",
   "metadata": {},
   "outputs": [
    {
     "data": {
      "text/html": [
       "<div class=\"flourish-embed flourish-map\" data-src=\"visualisation/6554130\" data-height=\"500px\"><script src=\"https://public.flourish.studio/resources/embed.js\"></script></div>"
      ],
      "text/plain": [
       "<IPython.core.display.HTML object>"
      ]
     },
     "execution_count": 14,
     "metadata": {},
     "output_type": "execute_result"
    }
   ],
   "source": [
    "HTML('''<div class=\"flourish-embed flourish-map\" data-src=\"visualisation/6554130\" data-height=\"500px\"><script src=\"https://public.flourish.studio/resources/embed.js\"></script></div>''')"
   ]
  },
  {
   "cell_type": "markdown",
   "id": "02b10405",
   "metadata": {},
   "source": [
    "#### Oceania"
   ]
  },
  {
   "cell_type": "code",
   "execution_count": 15,
   "id": "61455432",
   "metadata": {},
   "outputs": [
    {
     "data": {
      "text/html": [
       "<div class=\"flourish-embed flourish-map\" data-src=\"visualisation/6554273\" data-height=\"500px\"><script src=\"https://public.flourish.studio/resources/embed.js\"></script></div>"
      ],
      "text/plain": [
       "<IPython.core.display.HTML object>"
      ]
     },
     "execution_count": 15,
     "metadata": {},
     "output_type": "execute_result"
    }
   ],
   "source": [
    "HTML('''<div class=\"flourish-embed flourish-map\" data-src=\"visualisation/6554273\" data-height=\"500px\"><script src=\"https://public.flourish.studio/resources/embed.js\"></script></div>''')"
   ]
  },
  {
   "cell_type": "markdown",
   "id": "dc20a1a9",
   "metadata": {},
   "source": [
    "TODO: Here put per-continent maps along with avg. scores per continent and best, worst countries per continent"
   ]
  },
  {
   "cell_type": "markdown",
   "id": "d427eed4",
   "metadata": {},
   "source": [
    "### Change across the years"
   ]
  },
  {
   "cell_type": "markdown",
   "id": "3218fb4f",
   "metadata": {},
   "source": [
    "TODO: Here put the global change map and biggest +/- changes ranking"
   ]
  },
  {
   "cell_type": "code",
   "execution_count": 16,
   "id": "24f3e34b",
   "metadata": {
    "scrolled": false
   },
   "outputs": [
    {
     "data": {
      "text/html": [
       "<div class=\"flourish-embed flourish-map\" data-src=\"visualisation/6554682\"><script src=\"https://public.flourish.studio/resources/embed.js\"></script></div>"
      ],
      "text/plain": [
       "<IPython.core.display.HTML object>"
      ]
     },
     "execution_count": 16,
     "metadata": {},
     "output_type": "execute_result"
    }
   ],
   "source": [
    "HTML('''<div class=\"flourish-embed flourish-map\" data-src=\"visualisation/6554682\"><script src=\"https://public.flourish.studio/resources/embed.js\"></script></div>''')"
   ]
  },
  {
   "cell_type": "markdown",
   "id": "5c202c12",
   "metadata": {},
   "source": [
    "## Government forms and freedom of press"
   ]
  },
  {
   "cell_type": "markdown",
   "id": "8f0f554c",
   "metadata": {},
   "source": [
    "TODO: What is democracy vs. autocracy, some cool sounding hypothesis"
   ]
  },
  {
   "cell_type": "markdown",
   "id": "8fcfc6d4",
   "metadata": {},
   "source": [
    "TODO: Pie chart of gov forms in the world"
   ]
  },
  {
   "cell_type": "markdown",
   "id": "09819183",
   "metadata": {},
   "source": [
    "TODO: Avg. scores per regime"
   ]
  },
  {
   "cell_type": "markdown",
   "id": "067f51ce",
   "metadata": {},
   "source": [
    "### Governments of the world"
   ]
  },
  {
   "cell_type": "markdown",
   "id": "f09aa486",
   "metadata": {},
   "source": [
    "TODO: Map of govs (try to format nicely with choropleth so that democratic countries are different shades of one color and dictatorships are different shades of another)"
   ]
  },
  {
   "cell_type": "code",
   "execution_count": 17,
   "id": "496a7ee8",
   "metadata": {},
   "outputs": [
    {
     "data": {
      "text/html": [
       "<div class=\"flourish-embed flourish-map\" data-src=\"visualisation/6554762\"><script src=\"https://public.flourish.studio/resources/embed.js\"></script></div>"
      ],
      "text/plain": [
       "<IPython.core.display.HTML object>"
      ]
     },
     "execution_count": 17,
     "metadata": {},
     "output_type": "execute_result"
    }
   ],
   "source": [
    "HTML('''<div class=\"flourish-embed flourish-map\" data-src=\"visualisation/6554762\"><script src=\"https://public.flourish.studio/resources/embed.js\"></script></div>''')"
   ]
  },
  {
   "cell_type": "markdown",
   "id": "f54222b0",
   "metadata": {},
   "source": [
    "### Freedom of press in democratic and autocratic regimes (TODO: Change header text)"
   ]
  },
  {
   "cell_type": "markdown",
   "id": "c8c0954d",
   "metadata": {},
   "source": [
    "TODO: best and worst democratic and autocratic countries"
   ]
  },
  {
   "cell_type": "markdown",
   "id": "f0bd2edf",
   "metadata": {},
   "source": [
    "TODO: Cards of top and bottom countries with leader photos and flags"
   ]
  }
 ],
 "metadata": {
  "hide_input": false,
  "kernelspec": {
   "display_name": "Python 3",
   "language": "python",
   "name": "python3"
  },
  "language_info": {
   "codemirror_mode": {
    "name": "ipython",
    "version": 3
   },
   "file_extension": ".py",
   "mimetype": "text/x-python",
   "name": "python",
   "nbconvert_exporter": "python",
   "pygments_lexer": "ipython3",
   "version": "3.7.10"
  },
  "toc": {
   "base_numbering": 1,
   "nav_menu": {},
   "number_sections": true,
   "sideBar": true,
   "skip_h1_title": true,
   "title_cell": "Table of Contents",
   "title_sidebar": "Contents",
   "toc_cell": true,
   "toc_position": {},
   "toc_section_display": true,
   "toc_window_display": false
  },
  "varInspector": {
   "cols": {
    "lenName": 16,
    "lenType": 16,
    "lenVar": 40
   },
   "kernels_config": {
    "python": {
     "delete_cmd_postfix": "",
     "delete_cmd_prefix": "del ",
     "library": "var_list.py",
     "varRefreshCmd": "print(var_dic_list())"
    },
    "r": {
     "delete_cmd_postfix": ") ",
     "delete_cmd_prefix": "rm(",
     "library": "var_list.r",
     "varRefreshCmd": "cat(var_dic_list()) "
    }
   },
   "position": {
    "height": "686.85px",
    "left": "1550px",
    "right": "20px",
    "top": "120px",
    "width": "350px"
   },
   "types_to_exclude": [
    "module",
    "function",
    "builtin_function_or_method",
    "instance",
    "_Feature"
   ],
   "window_display": true
  }
 },
 "nbformat": 4,
 "nbformat_minor": 5
}
