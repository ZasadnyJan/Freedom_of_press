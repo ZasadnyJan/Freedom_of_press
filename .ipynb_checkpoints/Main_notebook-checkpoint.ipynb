{
 "cells": [
  {
   "cell_type": "markdown",
   "id": "special-college",
   "metadata": {
    "papermill": {
     "duration": 0.051948,
     "end_time": "2021-07-08T13:07:40.636182",
     "exception": false,
     "start_time": "2021-07-08T13:07:40.584234",
     "status": "completed"
    },
    "tags": []
   },
   "source": [
    "<h1 style=\"color:blue;  border-radius: 25px; font-family: Helvetica, sans-serif; font-size:350%;text-align:center;font-weight: bold;\">Governments vs Freedom of press<br> EDA </h1>"
   ]
  },
  {
   "cell_type": "markdown",
   "id": "obvious-geology",
   "metadata": {
    "papermill": {
     "duration": 0.050002,
     "end_time": "2021-07-08T13:07:40.736805",
     "exception": false,
     "start_time": "2021-07-08T13:07:40.686803",
     "status": "completed"
    },
    "tags": [],
    "toc": true
   },
   "source": [
    "<h1>Table of Contents<span class=\"tocSkip\"></span></h1>\n",
    "<div class=\"toc\"><ul class=\"toc-item\"><li><span><a href=\"#Introduction\" data-toc-modified-id=\"Introduction-1\"><span class=\"toc-item-num\">1&nbsp;&nbsp;</span>Introduction</a></span><ul class=\"toc-item\"><li><span><a href=\"#Objectives\" data-toc-modified-id=\"Objectives-1.1\"><span class=\"toc-item-num\">1.1&nbsp;&nbsp;</span>Objectives</a></span></li><li><span><a href=\"#World-Press-Freedom-Index\" data-toc-modified-id=\"World-Press-Freedom-Index-1.2\"><span class=\"toc-item-num\">1.2&nbsp;&nbsp;</span>World Press Freedom Index</a></span></li><li><span><a href=\"#REIGN\" data-toc-modified-id=\"REIGN-1.3\"><span class=\"toc-item-num\">1.3&nbsp;&nbsp;</span>REIGN</a></span></li></ul></li><li><span><a href=\"#Imports\" data-toc-modified-id=\"Imports-2\"><span class=\"toc-item-num\">2&nbsp;&nbsp;</span>Imports</a></span></li><li><span><a href=\"#Data-loading-and-processing\" data-toc-modified-id=\"Data-loading-and-processing-3\"><span class=\"toc-item-num\">3&nbsp;&nbsp;</span>Data loading and processing</a></span></li><li><span><a href=\"#Freedom-of-press-across-the-world\" data-toc-modified-id=\"Freedom-of-press-across-the-world-4\"><span class=\"toc-item-num\">4&nbsp;&nbsp;</span>Freedom of press across the world</a></span><ul class=\"toc-item\"><li><span><a href=\"#Freedom-of-press-by-continent\" data-toc-modified-id=\"Freedom-of-press-by-continent-4.1\"><span class=\"toc-item-num\">4.1&nbsp;&nbsp;</span>Freedom of press by continent</a></span></li><li><span><a href=\"#Change-across-the-years\" data-toc-modified-id=\"Change-across-the-years-4.2\"><span class=\"toc-item-num\">4.2&nbsp;&nbsp;</span>Change across the years</a></span></li></ul></li><li><span><a href=\"#Government-forms-and-freedom-of-press\" data-toc-modified-id=\"Government-forms-and-freedom-of-press-5\"><span class=\"toc-item-num\">5&nbsp;&nbsp;</span>Government forms and freedom of press</a></span><ul class=\"toc-item\"><li><span><a href=\"#Governments-of-the-world\" data-toc-modified-id=\"Governments-of-the-world-5.1\"><span class=\"toc-item-num\">5.1&nbsp;&nbsp;</span>Governments of the world</a></span></li><li><span><a href=\"#The-most-and-the-least-free-countries-per-government-type\" data-toc-modified-id=\"The-most-and-the-least-free-countries-per-government-type-5.2\"><span class=\"toc-item-num\">5.2&nbsp;&nbsp;</span>The most and the least free countries per government type</a></span></li></ul></li><li><span><a href=\"#Summary\" data-toc-modified-id=\"Summary-6\"><span class=\"toc-item-num\">6&nbsp;&nbsp;</span>Summary</a></span></li></ul></div>"
   ]
  },
  {
   "cell_type": "markdown",
   "id": "major-prairie",
   "metadata": {
    "papermill": {
     "duration": 0.051492,
     "end_time": "2021-07-08T13:07:40.838528",
     "exception": false,
     "start_time": "2021-07-08T13:07:40.787036",
     "status": "completed"
    },
    "tags": []
   },
   "source": [
    "## **Introduction**"
   ]
  },
  {
   "cell_type": "markdown",
   "id": "conscious-discovery",
   "metadata": {
    "papermill": {
     "duration": 0.051551,
     "end_time": "2021-07-08T13:07:40.940623",
     "exception": false,
     "start_time": "2021-07-08T13:07:40.889072",
     "status": "completed"
    },
    "tags": []
   },
   "source": [
    "<h1 style=\"color:black;background-color:white;font-family: Helvetica, sans-serif; font-size:150%;text-align:center; font-weight: 500;\">\"<span style=\"color: #006eff\">Everyone has the right to freedom of opinion and expression</span>; this right includes freedom to hold opinions without interference, and to seek, receive, and impart information and ideas through any media regardless of frontiers\"</h1>\n",
    "<h1 style=\"color:black;background-color:white;font-family: Helvetica, sans-serif; font-size:150%;text-align:right; font-weight: 400;\">- <a href=\"https://www.un.org/en/about-us/universal-declaration-of-human-rights/\">Universal Declaration of Human Rights</a> </h1>"
   ]
  },
  {
   "cell_type": "markdown",
   "id": "referenced-there",
   "metadata": {
    "papermill": {
     "duration": 0.050642,
     "end_time": "2021-07-08T13:07:41.041598",
     "exception": false,
     "start_time": "2021-07-08T13:07:40.990956",
     "status": "completed"
    },
    "tags": []
   },
   "source": [
    "### **Objectives**"
   ]
  },
  {
   "cell_type": "markdown",
   "id": "solid-logic",
   "metadata": {
    "papermill": {
     "duration": 0.050749,
     "end_time": "2021-07-08T13:07:41.143373",
     "exception": false,
     "start_time": "2021-07-08T13:07:41.092624",
     "status": "completed"
    },
    "tags": []
   },
   "source": [
    "**Freedom of the press** is the principle that communication and expression through various media, including printed and electronic media, especially published materials, should be considered a right to be exercised freely. - [Wikipedia](https://en.wikipedia.org/wiki/Freedom_of_the_press)\n",
    "\n"
   ]
  },
  {
   "cell_type": "markdown",
   "id": "progressive-convention",
   "metadata": {
    "papermill": {
     "duration": 0.051389,
     "end_time": "2021-07-08T13:07:41.245050",
     "exception": false,
     "start_time": "2021-07-08T13:07:41.193661",
     "status": "completed"
    },
    "tags": []
   },
   "source": [
    "The objective of this **Data Analysis** notebook is to showcase varying degrees of **Freedom of the press** around the world depending on geographical location and political situation present in each country.\n",
    "\n",
    "By utilising data provided by the **World Press Freedom Index** and **REIGN** datasets, my aim is to demonstrate which government forms are implemented in different countries in the world, which countries have the most and least free press and help understand a massive gap in **Freedom of the press** between democratic and non-democratic countries"
   ]
  },
  {
   "cell_type": "markdown",
   "id": "angry-musical",
   "metadata": {
    "papermill": {
     "duration": 0.050429,
     "end_time": "2021-07-08T13:07:41.347835",
     "exception": false,
     "start_time": "2021-07-08T13:07:41.297406",
     "status": "completed"
    },
    "tags": []
   },
   "source": [
    "<h1 style=\"color:black;background-color:white;font-family: Helvetica, sans-serif; font-size:120%;text-align:center; font-weight: 500;\">If you have enjoyed this notebook, please consider leaving an <span style=\"color: blue\">upvote</span>. Comments are also very welcome. Thank you!</h1>"
   ]
  },
  {
   "cell_type": "markdown",
   "id": "removed-playlist",
   "metadata": {
    "papermill": {
     "duration": 0.052636,
     "end_time": "2021-07-08T13:07:41.451025",
     "exception": false,
     "start_time": "2021-07-08T13:07:41.398389",
     "status": "completed"
    },
    "tags": []
   },
   "source": [
    "### **World Press Freedom Index**"
   ]
  },
  {
   "cell_type": "markdown",
   "id": "special-detector",
   "metadata": {
    "papermill": {
     "duration": 0.050902,
     "end_time": "2021-07-08T13:07:41.554766",
     "exception": false,
     "start_time": "2021-07-08T13:07:41.503864",
     "status": "completed"
    },
    "tags": []
   },
   "source": [
    "![](https://rsf.org/sites/default/files/styles/rsf_full/public/visuel_rsfindex_2021_cp_0.png?itok=1l526eUL&timestamp=1618819976)"
   ]
  },
  {
   "cell_type": "markdown",
   "id": "automotive-giving",
   "metadata": {
    "papermill": {
     "duration": 0.050076,
     "end_time": "2021-07-08T13:07:41.656164",
     "exception": false,
     "start_time": "2021-07-08T13:07:41.606088",
     "status": "completed"
    },
    "tags": []
   },
   "source": [
    "The Index **ranks 180 countries and regions according to the level of freedom available to journalists.** It is a snapshot of the media freedom situation based on an evaluation of pluralism, independence of the media, quality of legislative framework and safety of journalists in each country and region.\n",
    "\n",
    "It is created annualy by [Reporters Without Borders](https://rsf.org/en/world-press-freedom-index) - An international non-profit and non-governmental organization with the stated aim of **safeguarding the right to freedom of information.** \n",
    "\n",
    "For more information visit [The official website](https://rsf.org/en/ranking) or [The World Press Index dataset on Kaggle](https://www.kaggle.com/jaykumar1607/world-press-index-20192021)"
   ]
  },
  {
   "cell_type": "markdown",
   "id": "historical-philip",
   "metadata": {
    "papermill": {
     "duration": 0.050055,
     "end_time": "2021-07-08T13:07:41.756573",
     "exception": false,
     "start_time": "2021-07-08T13:07:41.706518",
     "status": "completed"
    },
    "tags": []
   },
   "source": [
    "### **REIGN**"
   ]
  },
  {
   "cell_type": "markdown",
   "id": "european-range",
   "metadata": {
    "papermill": {
     "duration": 0.051285,
     "end_time": "2021-07-08T13:07:41.858073",
     "exception": false,
     "start_time": "2021-07-08T13:07:41.806788",
     "status": "completed"
    },
    "tags": []
   },
   "source": [
    "![](https://www.oneearthfuture.org/sites/default/files/world_country_flags.jpg)"
   ]
  },
  {
   "cell_type": "markdown",
   "id": "middle-least",
   "metadata": {
    "papermill": {
     "duration": 0.053246,
     "end_time": "2021-07-08T13:07:41.961446",
     "exception": false,
     "start_time": "2021-07-08T13:07:41.908200",
     "status": "completed"
    },
    "tags": []
   },
   "source": [
    "Developed by Curtis Bell, the Rulers, Elections, and Irregular Governance (REIGN) dataset describes **political conditions in every country** each and every month. \n",
    "\n",
    "The dataset covers **more than 200 countries** for each month they were independent, January 1950 to the present. REIGN was created by gathering original data, compiling other datasets on political conditions, reviewing their coding rules, and updating all information to the present.\n",
    "\n",
    "For more information visit [The official website](https://oefdatascience.github.io/REIGN.github.io/) or [The REIGN dataset on Kaggle](https://www.kaggle.com/janzasadny/rulers-elections-and-irregular-governance)"
   ]
  },
  {
   "cell_type": "markdown",
   "id": "serial-testimony",
   "metadata": {
    "papermill": {
     "duration": 0.051878,
     "end_time": "2021-07-08T13:07:42.065177",
     "exception": false,
     "start_time": "2021-07-08T13:07:42.013299",
     "status": "completed"
    },
    "tags": []
   },
   "source": [
    "## **Imports**"
   ]
  },
  {
   "cell_type": "code",
   "execution_count": 1,
   "id": "double-dakota",
   "metadata": {
    "_kg_hide-input": true,
    "_kg_hide-output": true,
    "execution": {
     "iopub.execute_input": "2021-07-08T13:07:42.171659Z",
     "iopub.status.busy": "2021-07-08T13:07:42.170474Z",
     "iopub.status.idle": "2021-07-08T13:07:54.742904Z",
     "shell.execute_reply": "2021-07-08T13:07:54.742210Z",
     "shell.execute_reply.started": "2021-07-08T13:02:34.609612Z"
    },
    "papermill": {
     "duration": 12.626903,
     "end_time": "2021-07-08T13:07:54.743089",
     "exception": false,
     "start_time": "2021-07-08T13:07:42.116186",
     "status": "completed"
    },
    "tags": []
   },
   "outputs": [
    {
     "name": "stdout",
     "output_type": "stream",
     "text": [
      "Collecting pycountry-convert\r\n",
      "  Downloading pycountry_convert-0.7.2-py3-none-any.whl (13 kB)\r\n",
      "Collecting pprintpp>=0.3.0\r\n",
      "  Downloading pprintpp-0.4.0-py2.py3-none-any.whl (16 kB)\r\n",
      "Collecting repoze.lru>=0.7\r\n",
      "  Downloading repoze.lru-0.7-py3-none-any.whl (10 kB)\r\n",
      "Requirement already satisfied: wheel>=0.30.0 in /opt/conda/lib/python3.7/site-packages (from pycountry-convert) (0.36.2)\r\n",
      "Collecting pytest-mock>=1.6.3\r\n",
      "  Downloading pytest_mock-3.6.1-py3-none-any.whl (12 kB)\r\n",
      "Collecting pytest-cov>=2.5.1\r\n",
      "  Downloading pytest_cov-2.12.1-py2.py3-none-any.whl (20 kB)\r\n",
      "Requirement already satisfied: pycountry>=16.11.27.1 in /opt/conda/lib/python3.7/site-packages (from pycountry-convert) (20.7.3)\r\n",
      "Requirement already satisfied: pytest>=3.4.0 in /opt/conda/lib/python3.7/site-packages (from pycountry-convert) (6.2.3)\r\n",
      "Requirement already satisfied: iniconfig in /opt/conda/lib/python3.7/site-packages (from pytest>=3.4.0->pycountry-convert) (1.1.1)\r\n",
      "Requirement already satisfied: packaging in /opt/conda/lib/python3.7/site-packages (from pytest>=3.4.0->pycountry-convert) (20.9)\r\n",
      "Requirement already satisfied: py>=1.8.2 in /opt/conda/lib/python3.7/site-packages (from pytest>=3.4.0->pycountry-convert) (1.10.0)\r\n",
      "Requirement already satisfied: attrs>=19.2.0 in /opt/conda/lib/python3.7/site-packages (from pytest>=3.4.0->pycountry-convert) (20.3.0)\r\n",
      "Requirement already satisfied: toml in /opt/conda/lib/python3.7/site-packages (from pytest>=3.4.0->pycountry-convert) (0.10.2)\r\n",
      "Requirement already satisfied: pluggy<1.0.0a1,>=0.12 in /opt/conda/lib/python3.7/site-packages (from pytest>=3.4.0->pycountry-convert) (0.13.1)\r\n",
      "Requirement already satisfied: importlib-metadata>=0.12 in /opt/conda/lib/python3.7/site-packages (from pytest>=3.4.0->pycountry-convert) (3.4.0)\r\n",
      "Requirement already satisfied: zipp>=0.5 in /opt/conda/lib/python3.7/site-packages (from importlib-metadata>=0.12->pytest>=3.4.0->pycountry-convert) (3.4.1)\r\n",
      "Requirement already satisfied: typing-extensions>=3.6.4 in /opt/conda/lib/python3.7/site-packages (from importlib-metadata>=0.12->pytest>=3.4.0->pycountry-convert) (3.7.4.3)\r\n",
      "Collecting coverage>=5.2.1\r\n",
      "  Downloading coverage-5.5-cp37-cp37m-manylinux2010_x86_64.whl (242 kB)\r\n",
      "\u001b[K     |████████████████████████████████| 242 kB 2.9 MB/s \r\n",
      "\u001b[?25hRequirement already satisfied: pyparsing>=2.0.2 in /opt/conda/lib/python3.7/site-packages (from packaging->pytest>=3.4.0->pycountry-convert) (2.4.7)\r\n",
      "Installing collected packages: coverage, repoze.lru, pytest-mock, pytest-cov, pprintpp, pycountry-convert\r\n",
      "Successfully installed coverage-5.5 pprintpp-0.4.0 pycountry-convert-0.7.2 pytest-cov-2.12.1 pytest-mock-3.6.1 repoze.lru-0.7\r\n"
     ]
    }
   ],
   "source": [
    "!pip install pycountry-convert\n",
    "import numpy as np\n",
    "import pandas as pd\n",
    "import matplotlib.pyplot as plt\n",
    "import seaborn as sns\n",
    "import sqlite3\n",
    "import plotly.express as px\n",
    "import plotly\n",
    "import math\n",
    "import pycountry_convert\n",
    "import plotly.graph_objects as go\n",
    "\n",
    "from pycountry import countries\n",
    "from IPython.core.display import HTML, display\n",
    "from plotly.subplots import make_subplots"
   ]
  },
  {
   "cell_type": "markdown",
   "id": "juvenile-arizona",
   "metadata": {
    "papermill": {
     "duration": 0.055175,
     "end_time": "2021-07-08T13:07:54.854460",
     "exception": false,
     "start_time": "2021-07-08T13:07:54.799285",
     "status": "completed"
    },
    "tags": []
   },
   "source": [
    "## **Data loading and processing**"
   ]
  },
  {
   "cell_type": "code",
   "execution_count": 2,
   "id": "better-center",
   "metadata": {
    "_kg_hide-input": true,
    "execution": {
     "iopub.execute_input": "2021-07-08T13:07:54.973064Z",
     "iopub.status.busy": "2021-07-08T13:07:54.972355Z",
     "iopub.status.idle": "2021-07-08T13:07:56.191774Z",
     "shell.execute_reply": "2021-07-08T13:07:56.191205Z",
     "shell.execute_reply.started": "2021-07-08T13:02:40.535147Z"
    },
    "papermill": {
     "duration": 1.281778,
     "end_time": "2021-07-08T13:07:56.191932",
     "exception": false,
     "start_time": "2021-07-08T13:07:54.910154",
     "status": "completed"
    },
    "tags": []
   },
   "outputs": [],
   "source": [
    "reign = pd.read_csv(\"../input/rulers-elections-and-irregular-governance/REIGN_dataset/REIGN_2021_6.csv\")\n",
    "press_index = pd.read_csv(\"../input/world-press-index-20192021/World Press Index 2021.csv\")\n",
    "continents = pd.read_csv(\"../input/countryandcontinentcodes/country-and-continent-codes.csv\")"
   ]
  },
  {
   "cell_type": "code",
   "execution_count": 3,
   "id": "checked-solomon",
   "metadata": {
    "_kg_hide-input": true,
    "execution": {
     "iopub.execute_input": "2021-07-08T13:07:56.311438Z",
     "iopub.status.busy": "2021-07-08T13:07:56.310658Z",
     "iopub.status.idle": "2021-07-08T13:07:56.313924Z",
     "shell.execute_reply": "2021-07-08T13:07:56.314456Z",
     "shell.execute_reply.started": "2021-07-08T13:02:41.048181Z"
    },
    "papermill": {
     "duration": 0.066547,
     "end_time": "2021-07-08T13:07:56.314632",
     "exception": false,
     "start_time": "2021-07-08T13:07:56.248085",
     "status": "completed"
    },
    "scrolled": true,
    "tags": []
   },
   "outputs": [],
   "source": [
    "def add_alpha_2(row):\n",
    "    try:\n",
    "        alpha_2 = countries.search_fuzzy(row)[0].alpha_2\n",
    "    except LookupError:\n",
    "        alpha_2 = None\n",
    "    return alpha_2\n",
    "\n",
    "\n",
    "def add_alpha_3(row):\n",
    "    try:\n",
    "        alpha_3 = countries.search_fuzzy(row)[0].alpha_3\n",
    "    except LookupError:\n",
    "        alpha_3 = None\n",
    "    return alpha_3"
   ]
  },
  {
   "cell_type": "code",
   "execution_count": 4,
   "id": "ready-kennedy",
   "metadata": {
    "_kg_hide-input": true,
    "execution": {
     "iopub.execute_input": "2021-07-08T13:07:56.439232Z",
     "iopub.status.busy": "2021-07-08T13:07:56.438024Z",
     "iopub.status.idle": "2021-07-08T13:09:03.957471Z",
     "shell.execute_reply": "2021-07-08T13:09:03.958006Z",
     "shell.execute_reply.started": "2021-07-08T13:02:41.055763Z"
    },
    "papermill": {
     "duration": 67.582415,
     "end_time": "2021-07-08T13:09:03.958198",
     "exception": false,
     "start_time": "2021-07-08T13:07:56.375783",
     "status": "completed"
    },
    "scrolled": true,
    "tags": []
   },
   "outputs": [
    {
     "data": {
      "text/html": [
       "<div>\n",
       "<style scoped>\n",
       "    .dataframe tbody tr th:only-of-type {\n",
       "        vertical-align: middle;\n",
       "    }\n",
       "\n",
       "    .dataframe tbody tr th {\n",
       "        vertical-align: top;\n",
       "    }\n",
       "\n",
       "    .dataframe thead th {\n",
       "        text-align: right;\n",
       "    }\n",
       "</style>\n",
       "<table border=\"1\" class=\"dataframe\">\n",
       "  <thead>\n",
       "    <tr style=\"text-align: right;\">\n",
       "      <th></th>\n",
       "      <th>Country Name</th>\n",
       "      <th>Abuse Score 2021</th>\n",
       "      <th>Underlying Situation Score 2021</th>\n",
       "      <th>Global Score 2021</th>\n",
       "      <th>Global Score 2020</th>\n",
       "      <th>Global Score 2019</th>\n",
       "      <th>alpha_2</th>\n",
       "      <th>alpha_3</th>\n",
       "      <th>leader</th>\n",
       "      <th>government</th>\n",
       "      <th>gov_democracy</th>\n",
       "      <th>Continent_Name</th>\n",
       "      <th>Change</th>\n",
       "    </tr>\n",
       "  </thead>\n",
       "  <tbody>\n",
       "    <tr>\n",
       "      <th>47</th>\n",
       "      <td>Romania</td>\n",
       "      <td>0.00</td>\n",
       "      <td>24.91</td>\n",
       "      <td>24.91</td>\n",
       "      <td>25.91</td>\n",
       "      <td>25.67</td>\n",
       "      <td>RO</td>\n",
       "      <td>ROU</td>\n",
       "      <td>Iohannis</td>\n",
       "      <td>Parliamentary Democracy</td>\n",
       "      <td>Democracy</td>\n",
       "      <td>Europe</td>\n",
       "      <td>-0.76</td>\n",
       "    </tr>\n",
       "    <tr>\n",
       "      <th>70</th>\n",
       "      <td>Argentina</td>\n",
       "      <td>10.99</td>\n",
       "      <td>28.99</td>\n",
       "      <td>28.99</td>\n",
       "      <td>28.78</td>\n",
       "      <td>28.30</td>\n",
       "      <td>AR</td>\n",
       "      <td>ARG</td>\n",
       "      <td>Fernandez</td>\n",
       "      <td>Presidential Democracy</td>\n",
       "      <td>Democracy</td>\n",
       "      <td>South America</td>\n",
       "      <td>0.69</td>\n",
       "    </tr>\n",
       "    <tr>\n",
       "      <th>99</th>\n",
       "      <td>Liberia</td>\n",
       "      <td>27.73</td>\n",
       "      <td>33.36</td>\n",
       "      <td>33.36</td>\n",
       "      <td>32.25</td>\n",
       "      <td>31.49</td>\n",
       "      <td>LR</td>\n",
       "      <td>LBR</td>\n",
       "      <td>Weah</td>\n",
       "      <td>Presidential Democracy</td>\n",
       "      <td>Democracy</td>\n",
       "      <td>Africa</td>\n",
       "      <td>1.87</td>\n",
       "    </tr>\n",
       "    <tr>\n",
       "      <th>3</th>\n",
       "      <td>Denmark</td>\n",
       "      <td>0.00</td>\n",
       "      <td>8.57</td>\n",
       "      <td>8.57</td>\n",
       "      <td>8.13</td>\n",
       "      <td>9.87</td>\n",
       "      <td>DK</td>\n",
       "      <td>DNK</td>\n",
       "      <td>Mette Frederiksen</td>\n",
       "      <td>Parliamentary Democracy</td>\n",
       "      <td>Democracy</td>\n",
       "      <td>Europe</td>\n",
       "      <td>-1.30</td>\n",
       "    </tr>\n",
       "    <tr>\n",
       "      <th>1</th>\n",
       "      <td>Finland</td>\n",
       "      <td>0.00</td>\n",
       "      <td>6.99</td>\n",
       "      <td>6.99</td>\n",
       "      <td>7.93</td>\n",
       "      <td>7.90</td>\n",
       "      <td>FI</td>\n",
       "      <td>FIN</td>\n",
       "      <td>Sanna Marin</td>\n",
       "      <td>Parliamentary Democracy</td>\n",
       "      <td>Democracy</td>\n",
       "      <td>Europe</td>\n",
       "      <td>-0.91</td>\n",
       "    </tr>\n",
       "  </tbody>\n",
       "</table>\n",
       "</div>"
      ],
      "text/plain": [
       "   Country Name  Abuse Score 2021  Underlying Situation Score 2021  \\\n",
       "47      Romania              0.00                            24.91   \n",
       "70    Argentina             10.99                            28.99   \n",
       "99      Liberia             27.73                            33.36   \n",
       "3       Denmark              0.00                             8.57   \n",
       "1       Finland              0.00                             6.99   \n",
       "\n",
       "    Global Score 2021  Global Score 2020  Global Score 2019 alpha_2 alpha_3  \\\n",
       "47              24.91              25.91              25.67      RO     ROU   \n",
       "70              28.99              28.78              28.30      AR     ARG   \n",
       "99              33.36              32.25              31.49      LR     LBR   \n",
       "3                8.57               8.13               9.87      DK     DNK   \n",
       "1                6.99               7.93               7.90      FI     FIN   \n",
       "\n",
       "               leader               government gov_democracy Continent_Name  \\\n",
       "47           Iohannis  Parliamentary Democracy     Democracy         Europe   \n",
       "70          Fernandez   Presidential Democracy     Democracy  South America   \n",
       "99               Weah   Presidential Democracy     Democracy         Africa   \n",
       "3   Mette Frederiksen  Parliamentary Democracy     Democracy         Europe   \n",
       "1         Sanna Marin  Parliamentary Democracy     Democracy         Europe   \n",
       "\n",
       "    Change  \n",
       "47   -0.76  \n",
       "70    0.69  \n",
       "99    1.87  \n",
       "3    -1.30  \n",
       "1    -0.91  "
      ]
     },
     "execution_count": 4,
     "metadata": {},
     "output_type": "execute_result"
    }
   ],
   "source": [
    "# Get only latest relevant info from REIGN dataset\n",
    "\n",
    "reign_latest = pd.DataFrame(columns=reign.columns)\n",
    "reign_grouped = reign.groupby(\"country\")\n",
    "for name, group in reign_grouped:\n",
    "    latest = group.sort_values(by=\"year\", ascending=False).iloc[0, :]\n",
    "    reign_latest = reign_latest.append(latest)\n",
    "reign_latest = reign_latest.reset_index(\n",
    ")[['ccode', 'country', 'leader', 'year', 'government', 'gov_democracy']]\n",
    "reign_latest.head()\n",
    "\n",
    "# REIGN\n",
    "\n",
    "# drop countries that no longer exist\n",
    "reign_latest = reign_latest.query(\n",
    "    \"country not in ['Czechoslovakia','Germany East','Soviet Union','Vietnam South','Yemen South','Yugoslavia']\")\n",
    "\n",
    "# replace some country names with official names\n",
    "map_dict = {'Cape Verde': 'Cabo Verde',\n",
    "            'Cen African Rep': 'Central African Republic',\n",
    "            'Congo-Brz': 'Congo',\n",
    "            'Congo/Zaire': 'Congo, The Democratic Republic of the',\n",
    "            'East Timor': 'Timor-Leste',\n",
    "            'Guinea Bissau': 'Guinea-Bissau',\n",
    "            'Korea North': 'Korea, Democratic People\\'s Republic of',\n",
    "            'Korea South': 'Korea, Republic of',\n",
    "            'Laos': 'Lao People\\'s Democratic Republic',\n",
    "            'St Kitts and Nevis': 'Saint Kitts and Nevis',\n",
    "            'St Lucia': 'Saint Lucia',\n",
    "            'St Vincent': 'Saint Vincent and the Grenadines',\n",
    "            'Swaziland': 'Eswatini',\n",
    "            'UKG': 'United Kingdom'}\n",
    "reign_latest['country'] = reign_latest['country'].map(\n",
    "    map_dict).fillna(reign_latest['country'])\n",
    "\n",
    "# adding Taiwan and Palestine, which are for some reason omitted\n",
    "reign_latest = reign_latest.append({'country': 'Taiwan', 'leader': 'Tsai Ing-wen',\n",
    "                                   'government': 'Presidential Democracy', 'gov_democracy': 1.0}, ignore_index=True)\n",
    "reign_latest = reign_latest.append({'country': 'Palestine', 'leader': 'Mahmoud Abbas',\n",
    "                                   'government': 'Presidential Democracy', 'gov_democracy': 1.0}, ignore_index=True)\n",
    "\n",
    "# add country codes\n",
    "reign_latest['alpha_2'] = reign_latest['country'].apply(\n",
    "    lambda x: add_alpha_2(x))\n",
    "reign_latest['alpha_3'] = reign_latest['country'].apply(\n",
    "    lambda x: add_alpha_3(x))\n",
    "\n",
    "# Niger and ivory coast get the wrong code, need to fix it\n",
    "reign_latest.loc[reign_latest['country'] == 'Niger', 'alpha_2'] = 'NE'\n",
    "reign_latest.loc[reign_latest['country'] == 'Niger', 'alpha_3'] = 'NER'\n",
    "\n",
    "reign_latest.loc[reign_latest['country'] == 'Ivory Coast', 'alpha_2'] = 'CI'\n",
    "reign_latest.loc[reign_latest['country'] == 'Ivory Coast', 'alpha_3'] = 'CIV'\n",
    "\n",
    "# Change is_democracy column to be more human-readable\n",
    "def is_democracy(val):\n",
    "    if val == 1:\n",
    "        return \"Democracy\"\n",
    "    else:\n",
    "        return \"Non-Democracy\"\n",
    "\n",
    "\n",
    "reign_latest['gov_democracy'] = reign_latest.apply(\n",
    "    lambda x: is_democracy(x['gov_democracy']), axis=1)\n",
    "\n",
    "press_clean = press_index.copy()\n",
    "\n",
    "# drop countries which don't exist in the reign dataset\n",
    "press_clean = press_clean.query(\n",
    "    \"`Country Name` not in ['Northern Cyprus','Hong Kong','Somaliland']\")\n",
    "\n",
    "# replace countries with official names\n",
    "map_dict = {'South Korea': 'Korea, Republic of',\n",
    "            'East Timor': 'Timor-Leste',\n",
    "            'Guinea Bissau': 'Guinea-Bissau',\n",
    "            'Congo-Brazzaville': 'Congo',\n",
    "            'Democratic Republic of Congo': 'Congo, The Democratic Republic of the',\n",
    "            'Laos': 'Lao People\\'s Democratic Republic',\n",
    "            'North Korea': 'Korea, Democratic People\\'s Republic of',\n",
    "            'Bosnia-Herzegovina':'Bosnia and Herzegovina',\n",
    "            'Morocco / Western Sahara':'Morocco'\n",
    "           }\n",
    "press_clean['Country Name'] = press_clean['Country Name'].map(\n",
    "    map_dict).fillna(press_clean['Country Name'])\n",
    "\n",
    "# OECS is a tricky special case\n",
    "oecs_countries = ['Antigua and Barbuda', 'Dominica', 'Grenada',\n",
    "                  'Saint Kitts and Nevis', 'Saint Lucia', 'Saint Vincent and the Grenadines']\n",
    "\n",
    "for country in oecs_countries:\n",
    "    row = press_clean[press_clean['Country Name'] == 'OECS'].copy()\n",
    "    row['Country Name'] = country\n",
    "    press_clean = press_clean.append(row, ignore_index=True)\n",
    "\n",
    "press_clean = press_clean.query(\"`Country Name` not in ['OECS']\")\n",
    "\n",
    "#Add country codes to press_clean\n",
    "press_clean['alpha_2'] = press_clean['Country Name'].apply(\n",
    "    lambda x: add_alpha_2(x))\n",
    "press_clean['alpha_3'] = press_clean['Country Name'].apply(\n",
    "    lambda x: add_alpha_3(x))\n",
    "\n",
    "# Niger and ivory coast get the wrong code, need to fix it\n",
    "press_clean.loc[press_clean['Country Name'] == 'Niger', 'alpha_2'] = 'NE'\n",
    "press_clean.loc[press_clean['Country Name'] == 'Niger', 'alpha_3'] = 'NER'\n",
    "\n",
    "press_clean.loc[press_clean['Country Name'] == 'Côte d’Ivoire', 'alpha_2'] = 'CI'\n",
    "press_clean.loc[press_clean['Country Name'] == 'Côte d’Ivoire', 'alpha_3'] = 'CIV'\n",
    "\n",
    "# Combine dataframes\n",
    "continents = continents.rename(columns={'Two_Letter_Country_Code': 'alpha_2'})\n",
    "continents = continents[['Continent_Name', 'alpha_2']]\n",
    "continents.head()\n",
    "\n",
    "combined_no_continents = pd.merge(\n",
    "    press_clean, reign_latest, how=\"left\", on=[\"alpha_2\", \"alpha_3\"])\n",
    "\n",
    "# Add continents\n",
    "combined = pd.merge(combined_no_continents, continents,\n",
    "                    how=\"left\", on=[\"alpha_2\"])\n",
    "\n",
    "# namibia is for some reason not present in the continents data frame\n",
    "combined.loc[combined['country'] == 'Namibia', 'Continent_Name'] = 'Africa'\n",
    "\n",
    "# Some continent changes to be consistent with my map geojsons\n",
    "combined.loc[combined['country'] == 'Samoa', 'Continent_Name'] = 'Asia'\n",
    "combined.loc[combined['country'] == 'Tonga', 'Continent_Name'] = 'Asia'\n",
    "\n",
    "# Add Change column\n",
    "combined['Change'] = combined.apply(\n",
    "    lambda x: x['Global Score 2021']-x['Global Score 2019'], axis=1)\n",
    "\n",
    "#Drop unnecessary columns\n",
    "combined = combined.drop(columns=['country','year','ccode'])\n",
    "\n",
    "combined.sample(5)"
   ]
  },
  {
   "cell_type": "markdown",
   "id": "finnish-establishment",
   "metadata": {
    "papermill": {
     "duration": 0.05722,
     "end_time": "2021-07-08T13:09:04.074287",
     "exception": false,
     "start_time": "2021-07-08T13:09:04.017067",
     "status": "completed"
    },
    "tags": []
   },
   "source": [
    "**The complete processed DataFrame consists of these columns**:\n",
    "- **Country Name**\n",
    "- **Abuse Score 2021** - The Abuse Score is a measure of severity of abuse that journalists face in a given country. This includes aggression, murders and imprisonments. This score ranges from 0 to 100 - 0 being the best and 100 being the worst possible.\n",
    "- **Underlying Situation Score 2021** - The Underlying Situation Score is a measure of a given country's performance when it comes to media pluralism, independence and respect for the safety and freedom of journalists. This score ranges from 0 to 100 - 0 being the best and 100 being the worst possible.\n",
    "- **Global Score 2021** - It is the final score assigned to each country researched by RSF. It's a combination of the Abuse and Underlying Situation Scores. This score ranges from 0 to 100 - 0 being the best and 100 being the worst possible.\n",
    "- **Global Score 2020**\n",
    "- **Global Score 2019**\n",
    "- **alpha_2** - ISO 3166-1 alpha-2 country code\n",
    "- **alpha_3** - ISO 3166-1 alpha-3 country code\n",
    "- **leader** - Country's current de-facto leader\n",
    "- **government** - Country's current government form as defined by the REIGN dataset\n",
    "- **gov_democracy** - Is the country's government democratic or non-democratic?\n",
    "- **Continent_Name**\n",
    "- **Change** - Change in Global Score between 2019 and 2021\n",
    "\n",
    "For more information on how Abuse, Underlying Situation and Global Scores are calculated, please visit [RSF's official webiste](https://rsf.org/en/detailed-methodology)"
   ]
  },
  {
   "cell_type": "markdown",
   "id": "minute-seating",
   "metadata": {
    "papermill": {
     "duration": 0.056292,
     "end_time": "2021-07-08T13:09:04.188608",
     "exception": false,
     "start_time": "2021-07-08T13:09:04.132316",
     "status": "completed"
    },
    "tags": []
   },
   "source": [
    "## **Freedom of press across the world**"
   ]
  },
  {
   "cell_type": "code",
   "execution_count": 5,
   "id": "negative-browse",
   "metadata": {
    "_kg_hide-input": true,
    "execution": {
     "iopub.execute_input": "2021-07-08T13:09:04.310160Z",
     "iopub.status.busy": "2021-07-08T13:09:04.309459Z",
     "iopub.status.idle": "2021-07-08T13:09:04.313995Z",
     "shell.execute_reply": "2021-07-08T13:09:04.313397Z",
     "shell.execute_reply.started": "2021-07-08T13:03:21.246529Z"
    },
    "papermill": {
     "duration": 0.066996,
     "end_time": "2021-07-08T13:09:04.314150",
     "exception": false,
     "start_time": "2021-07-08T13:09:04.247154",
     "status": "completed"
    },
    "scrolled": true,
    "tags": []
   },
   "outputs": [
    {
     "data": {
      "text/html": [
       "<div class=\"flourish-embed flourish-map\" data-src=\"visualisation/6552777\"><script src=\"https://public.flourish.studio/resources/embed.js\"></script></div>"
      ],
      "text/plain": [
       "<IPython.core.display.HTML object>"
      ]
     },
     "execution_count": 5,
     "metadata": {},
     "output_type": "execute_result"
    }
   ],
   "source": [
    "HTML('''<div class=\"flourish-embed flourish-map\" data-src=\"visualisation/6552777\"><script src=\"https://public.flourish.studio/resources/embed.js\"></script></div>''')"
   ]
  },
  {
   "cell_type": "code",
   "execution_count": 6,
   "id": "further-firewall",
   "metadata": {
    "_kg_hide-input": true,
    "_kg_hide-output": true,
    "execution": {
     "iopub.execute_input": "2021-07-08T13:09:04.430330Z",
     "iopub.status.busy": "2021-07-08T13:09:04.429706Z",
     "iopub.status.idle": "2021-07-08T13:09:04.435154Z",
     "shell.execute_reply": "2021-07-08T13:09:04.435641Z",
     "shell.execute_reply.started": "2021-07-08T13:03:21.253264Z"
    },
    "papermill": {
     "duration": 0.064751,
     "end_time": "2021-07-08T13:09:04.435830",
     "exception": false,
     "start_time": "2021-07-08T13:09:04.371079",
     "status": "completed"
    },
    "scrolled": true,
    "tags": []
   },
   "outputs": [
    {
     "name": "stdout",
     "output_type": "stream",
     "text": [
      "34.83251366120217\n"
     ]
    }
   ],
   "source": [
    "## avg. index\n",
    "print(press_clean['Global Score 2021'].mean())"
   ]
  },
  {
   "cell_type": "markdown",
   "id": "informational-intake",
   "metadata": {
    "papermill": {
     "duration": 0.055925,
     "end_time": "2021-07-08T13:09:04.547919",
     "exception": false,
     "start_time": "2021-07-08T13:09:04.491994",
     "status": "completed"
    },
    "tags": []
   },
   "source": [
    "<h1 style=\"color:black;background-color:white;font-family: Helvetica, sans-serif; font-size:150%;text-align:center; font-weight: 500;\">The average value of Global Score in the year 2021 is <span style=\"color: orange\">34.83</span>.</h1>"
   ]
  },
  {
   "cell_type": "code",
   "execution_count": 7,
   "id": "average-princess",
   "metadata": {
    "_kg_hide-input": true,
    "execution": {
     "iopub.execute_input": "2021-07-08T13:09:04.666147Z",
     "iopub.status.busy": "2021-07-08T13:09:04.665327Z",
     "iopub.status.idle": "2021-07-08T13:09:04.669524Z",
     "shell.execute_reply": "2021-07-08T13:09:04.669042Z",
     "shell.execute_reply.started": "2021-07-08T13:03:21.264769Z"
    },
    "papermill": {
     "duration": 0.065517,
     "end_time": "2021-07-08T13:09:04.669658",
     "exception": false,
     "start_time": "2021-07-08T13:09:04.604141",
     "status": "completed"
    },
    "scrolled": true,
    "tags": []
   },
   "outputs": [
    {
     "data": {
      "text/html": [
       "<div class=\"flourish-embed flourish-bar-chart-race\" data-src=\"visualisation/6581484\"><script src=\"https://public.flourish.studio/resources/embed.js\"></script></div>"
      ],
      "text/plain": [
       "<IPython.core.display.HTML object>"
      ]
     },
     "execution_count": 7,
     "metadata": {},
     "output_type": "execute_result"
    }
   ],
   "source": [
    "HTML(\"\"\"<div class=\"flourish-embed flourish-bar-chart-race\" data-src=\"visualisation/6581484\"><script src=\"https://public.flourish.studio/resources/embed.js\"></script></div>\"\"\")"
   ]
  },
  {
   "cell_type": "markdown",
   "id": "vertical-promise",
   "metadata": {
    "papermill": {
     "duration": 0.057521,
     "end_time": "2021-07-08T13:09:04.783687",
     "exception": false,
     "start_time": "2021-07-08T13:09:04.726166",
     "status": "completed"
    },
    "tags": []
   },
   "source": [
    "<h1 style=\"color:black;background-color:white;font-family: Helvetica, sans-serif; font-size:150%;text-align:center; font-weight: 500;\"> <span style=\"color: blue\">Norway</span> takes the crown as the country, which puts the greatest effort into guaranteeing people's freedom of press with a score of <span style=\"color: green\">6.72</span></h1>\n",
    "\n",
    "<h1 style=\"color:black;background-color:white;font-family: Helvetica, sans-serif; font-size:150%;text-align:center; font-weight: 500;\"> It is closely followed by <span style=\"color: blue\">Finland</span> and <span style=\"color: blue\">Sweden</span>, with their scores of <span style=\"color: green\">6.99</span> and <span style=\"color: green\">7.24</span>, respectively.</h1>\n",
    "\n",
    "<h1 style=\"color:black;background-color:white;font-family: Helvetica, sans-serif; font-size:150%;text-align:center; font-weight: 500;\"> On the other end of the spectrum is <span style=\"color: blue\">Eritrea</span>, with an abysmal score of <span style=\"color: red\">81.45</span>.</h1>\n",
    "\n",
    "<h1 style=\"color:black;background-color:white;font-family: Helvetica, sans-serif; font-size:150%;text-align:center; font-weight: 500;\"><span style=\"color: blue\">North Korea</span> and <span style=\"color: blue\">Turkmenistan</span> also achieved similarily unacceptable scores of <span style=\"color: red\">81.28</span> and <span style=\"color: red\">80.03</span> </h1>"
   ]
  },
  {
   "cell_type": "code",
   "execution_count": 8,
   "id": "maritime-israeli",
   "metadata": {
    "_kg_hide-input": true,
    "execution": {
     "iopub.execute_input": "2021-07-08T13:09:04.905306Z",
     "iopub.status.busy": "2021-07-08T13:09:04.904576Z",
     "iopub.status.idle": "2021-07-08T13:09:04.907253Z",
     "shell.execute_reply": "2021-07-08T13:09:04.907734Z",
     "shell.execute_reply.started": "2021-07-08T13:03:21.276791Z"
    },
    "papermill": {
     "duration": 0.065659,
     "end_time": "2021-07-08T13:09:04.907912",
     "exception": false,
     "start_time": "2021-07-08T13:09:04.842253",
     "status": "completed"
    },
    "scrolled": true,
    "tags": []
   },
   "outputs": [
    {
     "data": {
      "text/html": [
       "<div class=\"flourish-embed flourish-map\" data-src=\"visualisation/6554015\"><script src=\"https://public.flourish.studio/resources/embed.js\"></script></div>"
      ],
      "text/plain": [
       "<IPython.core.display.HTML object>"
      ]
     },
     "execution_count": 8,
     "metadata": {},
     "output_type": "execute_result"
    }
   ],
   "source": [
    "HTML('''<div class=\"flourish-embed flourish-map\" data-src=\"visualisation/6554015\"><script src=\"https://public.flourish.studio/resources/embed.js\"></script></div>''')"
   ]
  },
  {
   "cell_type": "code",
   "execution_count": 9,
   "id": "martial-maximum",
   "metadata": {
    "_kg_hide-input": true,
    "_kg_hide-output": true,
    "execution": {
     "iopub.execute_input": "2021-07-08T13:09:05.028582Z",
     "iopub.status.busy": "2021-07-08T13:09:05.027916Z",
     "iopub.status.idle": "2021-07-08T13:09:05.033694Z",
     "shell.execute_reply": "2021-07-08T13:09:05.033170Z",
     "shell.execute_reply.started": "2021-07-08T13:03:21.287167Z"
    },
    "papermill": {
     "duration": 0.067341,
     "end_time": "2021-07-08T13:09:05.033878",
     "exception": false,
     "start_time": "2021-07-08T13:09:04.966537",
     "status": "completed"
    },
    "tags": []
   },
   "outputs": [
    {
     "name": "stdout",
     "output_type": "stream",
     "text": [
      "20.38377049180328\n"
     ]
    }
   ],
   "source": [
    "## avg. abuse index\n",
    "print(press_clean['Abuse Score 2021'].mean())"
   ]
  },
  {
   "cell_type": "markdown",
   "id": "toxic-johnson",
   "metadata": {
    "papermill": {
     "duration": 0.059282,
     "end_time": "2021-07-08T13:09:05.151915",
     "exception": false,
     "start_time": "2021-07-08T13:09:05.092633",
     "status": "completed"
    },
    "tags": []
   },
   "source": [
    "<h1 style=\"color:black;background-color:white;font-family: Helvetica, sans-serif; font-size:150%;text-align:center; font-weight: 500;\">The average value of Abuse Score in the year 2021 is <span style=\"color: red\">20.38</span>.</h1>\n",
    "<h1 style=\"color:black;background-color:white;font-family: Helvetica, sans-serif; font-size:150%;text-align:center; font-weight: 500;\"> Many countries, however, have  an Abuse Score equal to <span style=\"color: green\">0</span>.</h1>"
   ]
  },
  {
   "cell_type": "markdown",
   "id": "recognized-marker",
   "metadata": {
    "papermill": {
     "duration": 0.058924,
     "end_time": "2021-07-08T13:09:05.268878",
     "exception": false,
     "start_time": "2021-07-08T13:09:05.209954",
     "status": "completed"
    },
    "tags": []
   },
   "source": [
    "### **Freedom of press by continent**"
   ]
  },
  {
   "cell_type": "code",
   "execution_count": 10,
   "id": "finnish-doctrine",
   "metadata": {
    "_kg_hide-input": true,
    "_kg_hide-output": true,
    "execution": {
     "iopub.execute_input": "2021-07-08T13:09:05.394547Z",
     "iopub.status.busy": "2021-07-08T13:09:05.393702Z",
     "iopub.status.idle": "2021-07-08T13:09:05.396908Z",
     "shell.execute_reply": "2021-07-08T13:09:05.397980Z",
     "shell.execute_reply.started": "2021-07-08T13:03:21.304464Z"
    },
    "papermill": {
     "duration": 0.071542,
     "end_time": "2021-07-08T13:09:05.398212",
     "exception": false,
     "start_time": "2021-07-08T13:09:05.326670",
     "status": "completed"
    },
    "scrolled": true,
    "tags": []
   },
   "outputs": [
    {
     "name": "stdout",
     "output_type": "stream",
     "text": [
      "Continent_Name\n",
      "Africa           38.101887\n",
      "Asia             45.635000\n",
      "Europe           25.261200\n",
      "North America    28.881905\n",
      "Oceania          20.657500\n",
      "South America    31.411667\n",
      "Name: Global Score 2021, dtype: float64\n"
     ]
    }
   ],
   "source": [
    "# avg. indexes by continent\n",
    "print(combined.groupby('Continent_Name')['Global Score 2021'].mean())"
   ]
  },
  {
   "cell_type": "code",
   "execution_count": 11,
   "id": "obvious-happiness",
   "metadata": {
    "_kg_hide-input": true,
    "_kg_hide-output": true,
    "execution": {
     "iopub.execute_input": "2021-07-08T13:09:05.521029Z",
     "iopub.status.busy": "2021-07-08T13:09:05.520361Z",
     "iopub.status.idle": "2021-07-08T13:09:05.525116Z",
     "shell.execute_reply": "2021-07-08T13:09:05.524476Z",
     "shell.execute_reply.started": "2021-07-08T13:03:21.316340Z"
    },
    "papermill": {
     "duration": 0.066259,
     "end_time": "2021-07-08T13:09:05.525256",
     "exception": false,
     "start_time": "2021-07-08T13:09:05.458997",
     "status": "completed"
    },
    "tags": []
   },
   "outputs": [],
   "source": [
    "color_scale = ['#fff0ad',\n",
    "               '#ffc485',\n",
    "               '#d13f3f',\n",
    "               '#ad0034']\n",
    "color_scale_change = ['#0006a8',\n",
    "                      '#0086cf',\n",
    "                      '#ff7878',\n",
    "                      '#9e0000']"
   ]
  },
  {
   "cell_type": "markdown",
   "id": "passive-rocket",
   "metadata": {
    "papermill": {
     "duration": 0.057975,
     "end_time": "2021-07-08T13:09:05.641383",
     "exception": false,
     "start_time": "2021-07-08T13:09:05.583408",
     "status": "completed"
    },
    "tags": []
   },
   "source": [
    "#### **Asia**"
   ]
  },
  {
   "cell_type": "code",
   "execution_count": 12,
   "id": "executive-station",
   "metadata": {
    "_kg_hide-input": true,
    "execution": {
     "iopub.execute_input": "2021-07-08T13:09:05.760937Z",
     "iopub.status.busy": "2021-07-08T13:09:05.760288Z",
     "iopub.status.idle": "2021-07-08T13:09:05.764889Z",
     "shell.execute_reply": "2021-07-08T13:09:05.765375Z",
     "shell.execute_reply.started": "2021-07-08T13:03:21.323904Z"
    },
    "papermill": {
     "duration": 0.06635,
     "end_time": "2021-07-08T13:09:05.765548",
     "exception": false,
     "start_time": "2021-07-08T13:09:05.699198",
     "status": "completed"
    },
    "scrolled": true,
    "tags": []
   },
   "outputs": [
    {
     "data": {
      "text/html": [
       "<div class=\"flourish-embed flourish-map\" data-src=\"visualisation/6554053\" data-height=\"500px\"><script src=\"https://public.flourish.studio/resources/embed.js\"></script></div>"
      ],
      "text/plain": [
       "<IPython.core.display.HTML object>"
      ]
     },
     "execution_count": 12,
     "metadata": {},
     "output_type": "execute_result"
    }
   ],
   "source": [
    "HTML('''<div class=\"flourish-embed flourish-map\" data-src=\"visualisation/6554053\" data-height=\"500px\"><script src=\"https://public.flourish.studio/resources/embed.js\"></script></div>''')"
   ]
  },
  {
   "cell_type": "code",
   "execution_count": 13,
   "id": "numerical-trade",
   "metadata": {
    "_kg_hide-input": true,
    "execution": {
     "iopub.execute_input": "2021-07-08T13:09:05.886491Z",
     "iopub.status.busy": "2021-07-08T13:09:05.885826Z",
     "iopub.status.idle": "2021-07-08T13:09:07.113649Z",
     "shell.execute_reply": "2021-07-08T13:09:07.114182Z",
     "shell.execute_reply.started": "2021-07-08T13:03:21.335769Z"
    },
    "papermill": {
     "duration": 1.290501,
     "end_time": "2021-07-08T13:09:07.114362",
     "exception": false,
     "start_time": "2021-07-08T13:09:05.823861",
     "status": "completed"
    },
    "tags": []
   },
   "outputs": [
    {
     "data": {
      "text/html": [
       "        <script type=\"text/javascript\">\n",
       "        window.PlotlyConfig = {MathJaxConfig: 'local'};\n",
       "        if (window.MathJax) {MathJax.Hub.Config({SVG: {font: \"STIX-Web\"}});}\n",
       "        if (typeof require !== 'undefined') {\n",
       "        require.undef(\"plotly\");\n",
       "        requirejs.config({\n",
       "            paths: {\n",
       "                'plotly': ['https://cdn.plot.ly/plotly-latest.min']\n",
       "            }\n",
       "        });\n",
       "        require(['plotly'], function(Plotly) {\n",
       "            window._Plotly = Plotly;\n",
       "        });\n",
       "        }\n",
       "        </script>\n",
       "        "
      ]
     },
     "metadata": {},
     "output_type": "display_data"
    },
    {
     "data": {
      "text/html": [
       "<div>                            <div id=\"62cb7ae9-e23c-452e-ad6b-04fbf8ec62d2\" class=\"plotly-graph-div\" style=\"height:525px; width:100%;\"></div>            <script type=\"text/javascript\">                require([\"plotly\"], function(Plotly) {                    window.PLOTLYENV=window.PLOTLYENV || {};                                    if (document.getElementById(\"62cb7ae9-e23c-452e-ad6b-04fbf8ec62d2\")) {                    Plotly.newPlot(                        \"62cb7ae9-e23c-452e-ad6b-04fbf8ec62d2\",                        [{\"alignmentgroup\": \"True\", \"hovertemplate\": \"x=%{x}<br>y=%{y}<br>text=%{text}<br>color=%{marker.color}<extra></extra>\", \"legendgroup\": \"\", \"marker\": {\"color\": [81.28, 80.03, 78.72, 78.46, 72.7, 24.59, 23.86, 23.43, 19.85, 19.24], \"coloraxis\": \"coloraxis\"}, \"name\": \"\", \"offsetgroup\": \"\", \"orientation\": \"h\", \"showlegend\": false, \"text\": [81.28, 80.03, 78.72, 78.46, 72.7, 24.59, 23.86, 23.43, 19.85, 19.24], \"textposition\": \"auto\", \"type\": \"bar\", \"x\": [81.28, 80.03, 78.72, 78.46, 72.7, 24.59, 23.86, 23.43, 19.85, 19.24], \"xaxis\": \"x\", \"y\": [\"North Korea\", \"Turkmenistan\", \"China\", \"Vietnam\", \"Iran\", \"Tonga\", \"Taiwan\", \"South Korea\", \"Cyprus\", \"Samoa\"], \"yaxis\": \"y\"}],                        {\"barmode\": \"relative\", \"coloraxis\": {\"cmax\": 100, \"cmin\": 0, \"colorbar\": {\"title\": {\"text\": \"color\"}}, \"colorscale\": [[0.0, \"#fff0ad\"], [0.3333333333333333, \"#ffc485\"], [0.6666666666666666, \"#d13f3f\"], [1.0, \"#ad0034\"]], \"showscale\": false}, \"legend\": {\"tracegroupgap\": 0}, \"margin\": {\"t\": 60}, \"shapes\": [{\"line\": {\"dash\": \"dash\", \"width\": 1}, \"type\": \"line\", \"x0\": 0, \"x1\": 1, \"xref\": \"x domain\", \"y0\": 4.5, \"y1\": 4.5, \"yref\": \"y\"}], \"template\": {\"data\": {\"bar\": [{\"error_x\": {\"color\": \"#2a3f5f\"}, \"error_y\": {\"color\": \"#2a3f5f\"}, \"marker\": {\"line\": {\"color\": \"#E5ECF6\", \"width\": 0.5}}, \"type\": \"bar\"}], \"barpolar\": [{\"marker\": {\"line\": {\"color\": \"#E5ECF6\", \"width\": 0.5}}, \"type\": \"barpolar\"}], \"carpet\": [{\"aaxis\": {\"endlinecolor\": \"#2a3f5f\", \"gridcolor\": \"white\", \"linecolor\": \"white\", \"minorgridcolor\": \"white\", \"startlinecolor\": \"#2a3f5f\"}, \"baxis\": {\"endlinecolor\": \"#2a3f5f\", \"gridcolor\": \"white\", \"linecolor\": \"white\", \"minorgridcolor\": \"white\", \"startlinecolor\": \"#2a3f5f\"}, \"type\": \"carpet\"}], \"choropleth\": [{\"colorbar\": {\"outlinewidth\": 0, \"ticks\": \"\"}, \"type\": \"choropleth\"}], \"contour\": [{\"colorbar\": {\"outlinewidth\": 0, \"ticks\": \"\"}, \"colorscale\": [[0.0, \"#0d0887\"], [0.1111111111111111, \"#46039f\"], [0.2222222222222222, \"#7201a8\"], [0.3333333333333333, \"#9c179e\"], [0.4444444444444444, \"#bd3786\"], [0.5555555555555556, \"#d8576b\"], [0.6666666666666666, \"#ed7953\"], [0.7777777777777778, \"#fb9f3a\"], [0.8888888888888888, \"#fdca26\"], [1.0, \"#f0f921\"]], \"type\": \"contour\"}], \"contourcarpet\": [{\"colorbar\": {\"outlinewidth\": 0, \"ticks\": \"\"}, \"type\": \"contourcarpet\"}], \"heatmap\": [{\"colorbar\": {\"outlinewidth\": 0, \"ticks\": \"\"}, \"colorscale\": [[0.0, \"#0d0887\"], [0.1111111111111111, \"#46039f\"], [0.2222222222222222, \"#7201a8\"], [0.3333333333333333, \"#9c179e\"], [0.4444444444444444, \"#bd3786\"], [0.5555555555555556, \"#d8576b\"], [0.6666666666666666, \"#ed7953\"], [0.7777777777777778, \"#fb9f3a\"], [0.8888888888888888, \"#fdca26\"], [1.0, \"#f0f921\"]], \"type\": \"heatmap\"}], \"heatmapgl\": [{\"colorbar\": {\"outlinewidth\": 0, \"ticks\": \"\"}, \"colorscale\": [[0.0, \"#0d0887\"], [0.1111111111111111, \"#46039f\"], [0.2222222222222222, \"#7201a8\"], [0.3333333333333333, \"#9c179e\"], [0.4444444444444444, \"#bd3786\"], [0.5555555555555556, \"#d8576b\"], [0.6666666666666666, \"#ed7953\"], [0.7777777777777778, \"#fb9f3a\"], [0.8888888888888888, \"#fdca26\"], [1.0, \"#f0f921\"]], \"type\": \"heatmapgl\"}], \"histogram\": [{\"marker\": {\"colorbar\": {\"outlinewidth\": 0, \"ticks\": \"\"}}, \"type\": \"histogram\"}], \"histogram2d\": [{\"colorbar\": {\"outlinewidth\": 0, \"ticks\": \"\"}, \"colorscale\": [[0.0, \"#0d0887\"], [0.1111111111111111, \"#46039f\"], [0.2222222222222222, \"#7201a8\"], [0.3333333333333333, \"#9c179e\"], [0.4444444444444444, \"#bd3786\"], [0.5555555555555556, \"#d8576b\"], [0.6666666666666666, \"#ed7953\"], [0.7777777777777778, \"#fb9f3a\"], [0.8888888888888888, \"#fdca26\"], [1.0, \"#f0f921\"]], \"type\": \"histogram2d\"}], \"histogram2dcontour\": [{\"colorbar\": {\"outlinewidth\": 0, \"ticks\": \"\"}, \"colorscale\": [[0.0, \"#0d0887\"], [0.1111111111111111, \"#46039f\"], [0.2222222222222222, \"#7201a8\"], [0.3333333333333333, \"#9c179e\"], [0.4444444444444444, \"#bd3786\"], [0.5555555555555556, \"#d8576b\"], [0.6666666666666666, \"#ed7953\"], [0.7777777777777778, \"#fb9f3a\"], [0.8888888888888888, \"#fdca26\"], [1.0, \"#f0f921\"]], \"type\": \"histogram2dcontour\"}], \"mesh3d\": [{\"colorbar\": {\"outlinewidth\": 0, \"ticks\": \"\"}, \"type\": \"mesh3d\"}], \"parcoords\": [{\"line\": {\"colorbar\": {\"outlinewidth\": 0, \"ticks\": \"\"}}, \"type\": \"parcoords\"}], \"pie\": [{\"automargin\": true, \"type\": \"pie\"}], \"scatter\": [{\"marker\": {\"colorbar\": {\"outlinewidth\": 0, \"ticks\": \"\"}}, \"type\": \"scatter\"}], \"scatter3d\": [{\"line\": {\"colorbar\": {\"outlinewidth\": 0, \"ticks\": \"\"}}, \"marker\": {\"colorbar\": {\"outlinewidth\": 0, \"ticks\": \"\"}}, \"type\": \"scatter3d\"}], \"scattercarpet\": [{\"marker\": {\"colorbar\": {\"outlinewidth\": 0, \"ticks\": \"\"}}, \"type\": \"scattercarpet\"}], \"scattergeo\": [{\"marker\": {\"colorbar\": {\"outlinewidth\": 0, \"ticks\": \"\"}}, \"type\": \"scattergeo\"}], \"scattergl\": [{\"marker\": {\"colorbar\": {\"outlinewidth\": 0, \"ticks\": \"\"}}, \"type\": \"scattergl\"}], \"scattermapbox\": [{\"marker\": {\"colorbar\": {\"outlinewidth\": 0, \"ticks\": \"\"}}, \"type\": \"scattermapbox\"}], \"scatterpolar\": [{\"marker\": {\"colorbar\": {\"outlinewidth\": 0, \"ticks\": \"\"}}, \"type\": \"scatterpolar\"}], \"scatterpolargl\": [{\"marker\": {\"colorbar\": {\"outlinewidth\": 0, \"ticks\": \"\"}}, \"type\": \"scatterpolargl\"}], \"scatterternary\": [{\"marker\": {\"colorbar\": {\"outlinewidth\": 0, \"ticks\": \"\"}}, \"type\": \"scatterternary\"}], \"surface\": [{\"colorbar\": {\"outlinewidth\": 0, \"ticks\": \"\"}, \"colorscale\": [[0.0, \"#0d0887\"], [0.1111111111111111, \"#46039f\"], [0.2222222222222222, \"#7201a8\"], [0.3333333333333333, \"#9c179e\"], [0.4444444444444444, \"#bd3786\"], [0.5555555555555556, \"#d8576b\"], [0.6666666666666666, \"#ed7953\"], [0.7777777777777778, \"#fb9f3a\"], [0.8888888888888888, \"#fdca26\"], [1.0, \"#f0f921\"]], \"type\": \"surface\"}], \"table\": [{\"cells\": {\"fill\": {\"color\": \"#EBF0F8\"}, \"line\": {\"color\": \"white\"}}, \"header\": {\"fill\": {\"color\": \"#C8D4E3\"}, \"line\": {\"color\": \"white\"}}, \"type\": \"table\"}]}, \"layout\": {\"annotationdefaults\": {\"arrowcolor\": \"#2a3f5f\", \"arrowhead\": 0, \"arrowwidth\": 1}, \"autotypenumbers\": \"strict\", \"coloraxis\": {\"colorbar\": {\"outlinewidth\": 0, \"ticks\": \"\"}}, \"colorscale\": {\"diverging\": [[0, \"#8e0152\"], [0.1, \"#c51b7d\"], [0.2, \"#de77ae\"], [0.3, \"#f1b6da\"], [0.4, \"#fde0ef\"], [0.5, \"#f7f7f7\"], [0.6, \"#e6f5d0\"], [0.7, \"#b8e186\"], [0.8, \"#7fbc41\"], [0.9, \"#4d9221\"], [1, \"#276419\"]], \"sequential\": [[0.0, \"#0d0887\"], [0.1111111111111111, \"#46039f\"], [0.2222222222222222, \"#7201a8\"], [0.3333333333333333, \"#9c179e\"], [0.4444444444444444, \"#bd3786\"], [0.5555555555555556, \"#d8576b\"], [0.6666666666666666, \"#ed7953\"], [0.7777777777777778, \"#fb9f3a\"], [0.8888888888888888, \"#fdca26\"], [1.0, \"#f0f921\"]], \"sequentialminus\": [[0.0, \"#0d0887\"], [0.1111111111111111, \"#46039f\"], [0.2222222222222222, \"#7201a8\"], [0.3333333333333333, \"#9c179e\"], [0.4444444444444444, \"#bd3786\"], [0.5555555555555556, \"#d8576b\"], [0.6666666666666666, \"#ed7953\"], [0.7777777777777778, \"#fb9f3a\"], [0.8888888888888888, \"#fdca26\"], [1.0, \"#f0f921\"]]}, \"colorway\": [\"#636efa\", \"#EF553B\", \"#00cc96\", \"#ab63fa\", \"#FFA15A\", \"#19d3f3\", \"#FF6692\", \"#B6E880\", \"#FF97FF\", \"#FECB52\"], \"font\": {\"color\": \"#2a3f5f\"}, \"geo\": {\"bgcolor\": \"white\", \"lakecolor\": \"white\", \"landcolor\": \"#E5ECF6\", \"showlakes\": true, \"showland\": true, \"subunitcolor\": \"white\"}, \"hoverlabel\": {\"align\": \"left\"}, \"hovermode\": \"closest\", \"mapbox\": {\"style\": \"light\"}, \"paper_bgcolor\": \"white\", \"plot_bgcolor\": \"#E5ECF6\", \"polar\": {\"angularaxis\": {\"gridcolor\": \"white\", \"linecolor\": \"white\", \"ticks\": \"\"}, \"bgcolor\": \"#E5ECF6\", \"radialaxis\": {\"gridcolor\": \"white\", \"linecolor\": \"white\", \"ticks\": \"\"}}, \"scene\": {\"xaxis\": {\"backgroundcolor\": \"#E5ECF6\", \"gridcolor\": \"white\", \"gridwidth\": 2, \"linecolor\": \"white\", \"showbackground\": true, \"ticks\": \"\", \"zerolinecolor\": \"white\"}, \"yaxis\": {\"backgroundcolor\": \"#E5ECF6\", \"gridcolor\": \"white\", \"gridwidth\": 2, \"linecolor\": \"white\", \"showbackground\": true, \"ticks\": \"\", \"zerolinecolor\": \"white\"}, \"zaxis\": {\"backgroundcolor\": \"#E5ECF6\", \"gridcolor\": \"white\", \"gridwidth\": 2, \"linecolor\": \"white\", \"showbackground\": true, \"ticks\": \"\", \"zerolinecolor\": \"white\"}}, \"shapedefaults\": {\"line\": {\"color\": \"#2a3f5f\"}}, \"ternary\": {\"aaxis\": {\"gridcolor\": \"white\", \"linecolor\": \"white\", \"ticks\": \"\"}, \"baxis\": {\"gridcolor\": \"white\", \"linecolor\": \"white\", \"ticks\": \"\"}, \"bgcolor\": \"#E5ECF6\", \"caxis\": {\"gridcolor\": \"white\", \"linecolor\": \"white\", \"ticks\": \"\"}}, \"title\": {\"x\": 0.05}, \"xaxis\": {\"automargin\": true, \"gridcolor\": \"white\", \"linecolor\": \"white\", \"ticks\": \"\", \"title\": {\"standoff\": 15}, \"zerolinecolor\": \"white\", \"zerolinewidth\": 2}, \"yaxis\": {\"automargin\": true, \"gridcolor\": \"white\", \"linecolor\": \"white\", \"ticks\": \"\", \"title\": {\"standoff\": 15}, \"zerolinecolor\": \"white\", \"zerolinewidth\": 2}}}, \"title\": {\"text\": \"Top and bottom 5 countries in Asia\"}, \"xaxis\": {\"anchor\": \"y\", \"domain\": [0.0, 1.0], \"title\": {\"text\": \"Global Score 2021\"}}, \"yaxis\": {\"anchor\": \"x\", \"domain\": [0.0, 1.0], \"title\": {\"text\": \"Country\"}}},                        {\"responsive\": true}                    ).then(function(){\n",
       "                            \n",
       "var gd = document.getElementById('62cb7ae9-e23c-452e-ad6b-04fbf8ec62d2');\n",
       "var x = new MutationObserver(function (mutations, observer) {{\n",
       "        var display = window.getComputedStyle(gd).display;\n",
       "        if (!display || display === 'none') {{\n",
       "            console.log([gd, 'removed!']);\n",
       "            Plotly.purge(gd);\n",
       "            observer.disconnect();\n",
       "        }}\n",
       "}});\n",
       "\n",
       "// Listen for the removal of the full notebook cells\n",
       "var notebookContainer = gd.closest('#notebook-container');\n",
       "if (notebookContainer) {{\n",
       "    x.observe(notebookContainer, {childList: true});\n",
       "}}\n",
       "\n",
       "// Listen for the clearing of the current output cell\n",
       "var outputEl = gd.closest('.output');\n",
       "if (outputEl) {{\n",
       "    x.observe(outputEl, {childList: true});\n",
       "}}\n",
       "\n",
       "                        })                };                });            </script>        </div>"
      ]
     },
     "metadata": {},
     "output_type": "display_data"
    }
   ],
   "source": [
    "df = combined.loc[combined['Continent_Name'] == 'Asia',\n",
    "                  :].sort_values(by='Global Score 2021', ascending=False)\n",
    "\n",
    "df = pd.concat([pd.DataFrame(df.head(5)), pd.DataFrame(df.tail(5))])\n",
    "df.loc[df['Country Name'] == 'Korea, Democratic People\\'s Republic of',\n",
    "       'Country Name'] = 'North Korea'\n",
    "df.loc[df['Country Name'] == 'Korea, Republic of',\n",
    "       'Country Name'] = 'South Korea'\n",
    "\n",
    "fig = px.bar(y=df['Country Name'],\n",
    "             x=df['Global Score 2021'],\n",
    "             orientation='h',\n",
    "             text=df['Global Score 2021'],\n",
    "             color=df['Global Score 2021'],\n",
    "             color_continuous_scale=color_scale,\n",
    "             range_color=[0, 100])\n",
    "fig.update_layout(\n",
    "    title=\"Top and bottom 5 countries in Asia\",\n",
    "    xaxis_title=\"Global Score 2021\",\n",
    "    yaxis_title=\"Country\",\n",
    "    coloraxis_showscale=False\n",
    ")\n",
    "fig.add_hline(y=4.5, line_width=1, line_dash=\"dash\")"
   ]
  },
  {
   "cell_type": "markdown",
   "id": "flying-attention",
   "metadata": {
    "papermill": {
     "duration": 0.05951,
     "end_time": "2021-07-08T13:09:07.233455",
     "exception": false,
     "start_time": "2021-07-08T13:09:07.173945",
     "status": "completed"
    },
    "tags": []
   },
   "source": [
    "<h1 style=\"color:black;background-color:white;font-family: Helvetica, sans-serif; font-size:150%;text-align:center; font-weight: 500;\">Asia's average Global Score is <span style=\"color: red\">45.64</span>.</h1>\n",
    "\n",
    "<h1 style=\"color:#ff1100;background-color:white;font-family: Helvetica, sans-serif; font-size:150%;text-align:center; font-weight: 500;\">This is the worst average score among all the continents.</h1>"
   ]
  },
  {
   "cell_type": "markdown",
   "id": "mature-genesis",
   "metadata": {
    "papermill": {
     "duration": 0.060076,
     "end_time": "2021-07-08T13:09:07.354332",
     "exception": false,
     "start_time": "2021-07-08T13:09:07.294256",
     "status": "completed"
    },
    "tags": []
   },
   "source": [
    "#### **Africa**"
   ]
  },
  {
   "cell_type": "code",
   "execution_count": 14,
   "id": "romance-miami",
   "metadata": {
    "_kg_hide-input": true,
    "execution": {
     "iopub.execute_input": "2021-07-08T13:09:07.480894Z",
     "iopub.status.busy": "2021-07-08T13:09:07.479949Z",
     "iopub.status.idle": "2021-07-08T13:09:07.484883Z",
     "shell.execute_reply": "2021-07-08T13:09:07.484336Z",
     "shell.execute_reply.started": "2021-07-08T13:03:21.405469Z"
    },
    "papermill": {
     "duration": 0.070288,
     "end_time": "2021-07-08T13:09:07.485030",
     "exception": false,
     "start_time": "2021-07-08T13:09:07.414742",
     "status": "completed"
    },
    "tags": []
   },
   "outputs": [
    {
     "data": {
      "text/html": [
       "<div class=\"flourish-embed flourish-map\" data-src=\"visualisation/6554077\" data-height=\"500px\"><script src=\"https://public.flourish.studio/resources/embed.js\"></script></div>"
      ],
      "text/plain": [
       "<IPython.core.display.HTML object>"
      ]
     },
     "execution_count": 14,
     "metadata": {},
     "output_type": "execute_result"
    }
   ],
   "source": [
    "HTML('''<div class=\"flourish-embed flourish-map\" data-src=\"visualisation/6554077\" data-height=\"500px\"><script src=\"https://public.flourish.studio/resources/embed.js\"></script></div>''')"
   ]
  },
  {
   "cell_type": "code",
   "execution_count": 15,
   "id": "adequate-malawi",
   "metadata": {
    "_kg_hide-input": true,
    "execution": {
     "iopub.execute_input": "2021-07-08T13:09:07.637340Z",
     "iopub.status.busy": "2021-07-08T13:09:07.618804Z",
     "iopub.status.idle": "2021-07-08T13:09:07.693569Z",
     "shell.execute_reply": "2021-07-08T13:09:07.692872Z",
     "shell.execute_reply.started": "2021-07-08T13:03:21.411839Z"
    },
    "papermill": {
     "duration": 0.14877,
     "end_time": "2021-07-08T13:09:07.693757",
     "exception": false,
     "start_time": "2021-07-08T13:09:07.544987",
     "status": "completed"
    },
    "tags": []
   },
   "outputs": [
    {
     "data": {
      "text/html": [
       "<div>                            <div id=\"dfc307a7-e3c0-4d36-b41f-bc46e179a1d8\" class=\"plotly-graph-div\" style=\"height:525px; width:100%;\"></div>            <script type=\"text/javascript\">                require([\"plotly\"], function(Plotly) {                    window.PLOTLYENV=window.PLOTLYENV || {};                                    if (document.getElementById(\"dfc307a7-e3c0-4d36-b41f-bc46e179a1d8\")) {                    Plotly.newPlot(                        \"dfc307a7-e3c0-4d36-b41f-bc46e179a1d8\",                        [{\"alignmentgroup\": \"True\", \"hovertemplate\": \"x=%{x}<br>y=%{y}<br>text=%{text}<br>color=%{marker.color}<extra></extra>\", \"legendgroup\": \"\", \"marker\": {\"color\": [81.45, 78.62, 56.17, 55.73, 55.67, 23.17, 21.59, 21.33, 20.09, 19.72], \"coloraxis\": \"coloraxis\"}, \"name\": \"\", \"offsetgroup\": \"\", \"orientation\": \"h\", \"showlegend\": false, \"text\": [81.45, 78.62, 56.17, 55.73, 55.67, 23.17, 21.59, 21.33, 20.09, 19.72], \"textposition\": \"auto\", \"type\": \"bar\", \"x\": [81.45, 78.62, 56.17, 55.73, 55.67, 23.17, 21.59, 21.33, 20.09, 19.72], \"xaxis\": \"x\", \"y\": [\"Eritrea\", \"Djibouti\", \"Egypt\", \"Libya\", \"Equatorial Guinea\", \"Burkina Faso\", \"South Africa\", \"Ghana\", \"Cabo Verde\", \"Namibia\"], \"yaxis\": \"y\"}],                        {\"barmode\": \"relative\", \"coloraxis\": {\"cmax\": 100, \"cmin\": 0, \"colorbar\": {\"title\": {\"text\": \"color\"}}, \"colorscale\": [[0.0, \"#fff0ad\"], [0.3333333333333333, \"#ffc485\"], [0.6666666666666666, \"#d13f3f\"], [1.0, \"#ad0034\"]], \"showscale\": false}, \"legend\": {\"tracegroupgap\": 0}, \"margin\": {\"t\": 60}, \"shapes\": [{\"line\": {\"dash\": \"dash\", \"width\": 1}, \"type\": \"line\", \"x0\": 0, \"x1\": 1, \"xref\": \"x domain\", \"y0\": 4.5, \"y1\": 4.5, \"yref\": \"y\"}], \"template\": {\"data\": {\"bar\": [{\"error_x\": {\"color\": \"#2a3f5f\"}, \"error_y\": {\"color\": \"#2a3f5f\"}, \"marker\": {\"line\": {\"color\": \"#E5ECF6\", \"width\": 0.5}}, \"type\": \"bar\"}], \"barpolar\": [{\"marker\": {\"line\": {\"color\": \"#E5ECF6\", \"width\": 0.5}}, \"type\": \"barpolar\"}], \"carpet\": [{\"aaxis\": {\"endlinecolor\": \"#2a3f5f\", \"gridcolor\": \"white\", \"linecolor\": \"white\", \"minorgridcolor\": \"white\", \"startlinecolor\": \"#2a3f5f\"}, \"baxis\": {\"endlinecolor\": \"#2a3f5f\", \"gridcolor\": \"white\", \"linecolor\": \"white\", \"minorgridcolor\": \"white\", \"startlinecolor\": \"#2a3f5f\"}, \"type\": \"carpet\"}], \"choropleth\": [{\"colorbar\": {\"outlinewidth\": 0, \"ticks\": \"\"}, \"type\": \"choropleth\"}], \"contour\": [{\"colorbar\": {\"outlinewidth\": 0, \"ticks\": \"\"}, \"colorscale\": [[0.0, \"#0d0887\"], [0.1111111111111111, \"#46039f\"], [0.2222222222222222, \"#7201a8\"], [0.3333333333333333, \"#9c179e\"], [0.4444444444444444, \"#bd3786\"], [0.5555555555555556, \"#d8576b\"], [0.6666666666666666, \"#ed7953\"], [0.7777777777777778, \"#fb9f3a\"], [0.8888888888888888, \"#fdca26\"], [1.0, \"#f0f921\"]], \"type\": \"contour\"}], \"contourcarpet\": [{\"colorbar\": {\"outlinewidth\": 0, \"ticks\": \"\"}, \"type\": \"contourcarpet\"}], \"heatmap\": [{\"colorbar\": {\"outlinewidth\": 0, \"ticks\": \"\"}, \"colorscale\": [[0.0, \"#0d0887\"], [0.1111111111111111, \"#46039f\"], [0.2222222222222222, \"#7201a8\"], [0.3333333333333333, \"#9c179e\"], [0.4444444444444444, \"#bd3786\"], [0.5555555555555556, \"#d8576b\"], [0.6666666666666666, \"#ed7953\"], [0.7777777777777778, \"#fb9f3a\"], [0.8888888888888888, \"#fdca26\"], [1.0, \"#f0f921\"]], \"type\": \"heatmap\"}], \"heatmapgl\": [{\"colorbar\": {\"outlinewidth\": 0, \"ticks\": \"\"}, \"colorscale\": [[0.0, \"#0d0887\"], [0.1111111111111111, \"#46039f\"], [0.2222222222222222, \"#7201a8\"], [0.3333333333333333, \"#9c179e\"], [0.4444444444444444, \"#bd3786\"], [0.5555555555555556, \"#d8576b\"], [0.6666666666666666, \"#ed7953\"], [0.7777777777777778, \"#fb9f3a\"], [0.8888888888888888, \"#fdca26\"], [1.0, \"#f0f921\"]], \"type\": \"heatmapgl\"}], \"histogram\": [{\"marker\": {\"colorbar\": {\"outlinewidth\": 0, \"ticks\": \"\"}}, \"type\": \"histogram\"}], \"histogram2d\": [{\"colorbar\": {\"outlinewidth\": 0, \"ticks\": \"\"}, \"colorscale\": [[0.0, \"#0d0887\"], [0.1111111111111111, \"#46039f\"], [0.2222222222222222, \"#7201a8\"], [0.3333333333333333, \"#9c179e\"], [0.4444444444444444, \"#bd3786\"], [0.5555555555555556, \"#d8576b\"], [0.6666666666666666, \"#ed7953\"], [0.7777777777777778, \"#fb9f3a\"], [0.8888888888888888, \"#fdca26\"], [1.0, \"#f0f921\"]], \"type\": \"histogram2d\"}], \"histogram2dcontour\": [{\"colorbar\": {\"outlinewidth\": 0, \"ticks\": \"\"}, \"colorscale\": [[0.0, \"#0d0887\"], [0.1111111111111111, \"#46039f\"], [0.2222222222222222, \"#7201a8\"], [0.3333333333333333, \"#9c179e\"], [0.4444444444444444, \"#bd3786\"], [0.5555555555555556, \"#d8576b\"], [0.6666666666666666, \"#ed7953\"], [0.7777777777777778, \"#fb9f3a\"], [0.8888888888888888, \"#fdca26\"], [1.0, \"#f0f921\"]], \"type\": \"histogram2dcontour\"}], \"mesh3d\": [{\"colorbar\": {\"outlinewidth\": 0, \"ticks\": \"\"}, \"type\": \"mesh3d\"}], \"parcoords\": [{\"line\": {\"colorbar\": {\"outlinewidth\": 0, \"ticks\": \"\"}}, \"type\": \"parcoords\"}], \"pie\": [{\"automargin\": true, \"type\": \"pie\"}], \"scatter\": [{\"marker\": {\"colorbar\": {\"outlinewidth\": 0, \"ticks\": \"\"}}, \"type\": \"scatter\"}], \"scatter3d\": [{\"line\": {\"colorbar\": {\"outlinewidth\": 0, \"ticks\": \"\"}}, \"marker\": {\"colorbar\": {\"outlinewidth\": 0, \"ticks\": \"\"}}, \"type\": \"scatter3d\"}], \"scattercarpet\": [{\"marker\": {\"colorbar\": {\"outlinewidth\": 0, \"ticks\": \"\"}}, \"type\": \"scattercarpet\"}], \"scattergeo\": [{\"marker\": {\"colorbar\": {\"outlinewidth\": 0, \"ticks\": \"\"}}, \"type\": \"scattergeo\"}], \"scattergl\": [{\"marker\": {\"colorbar\": {\"outlinewidth\": 0, \"ticks\": \"\"}}, \"type\": \"scattergl\"}], \"scattermapbox\": [{\"marker\": {\"colorbar\": {\"outlinewidth\": 0, \"ticks\": \"\"}}, \"type\": \"scattermapbox\"}], \"scatterpolar\": [{\"marker\": {\"colorbar\": {\"outlinewidth\": 0, \"ticks\": \"\"}}, \"type\": \"scatterpolar\"}], \"scatterpolargl\": [{\"marker\": {\"colorbar\": {\"outlinewidth\": 0, \"ticks\": \"\"}}, \"type\": \"scatterpolargl\"}], \"scatterternary\": [{\"marker\": {\"colorbar\": {\"outlinewidth\": 0, \"ticks\": \"\"}}, \"type\": \"scatterternary\"}], \"surface\": [{\"colorbar\": {\"outlinewidth\": 0, \"ticks\": \"\"}, \"colorscale\": [[0.0, \"#0d0887\"], [0.1111111111111111, \"#46039f\"], [0.2222222222222222, \"#7201a8\"], [0.3333333333333333, \"#9c179e\"], [0.4444444444444444, \"#bd3786\"], [0.5555555555555556, \"#d8576b\"], [0.6666666666666666, \"#ed7953\"], [0.7777777777777778, \"#fb9f3a\"], [0.8888888888888888, \"#fdca26\"], [1.0, \"#f0f921\"]], \"type\": \"surface\"}], \"table\": [{\"cells\": {\"fill\": {\"color\": \"#EBF0F8\"}, \"line\": {\"color\": \"white\"}}, \"header\": {\"fill\": {\"color\": \"#C8D4E3\"}, \"line\": {\"color\": \"white\"}}, \"type\": \"table\"}]}, \"layout\": {\"annotationdefaults\": {\"arrowcolor\": \"#2a3f5f\", \"arrowhead\": 0, \"arrowwidth\": 1}, \"autotypenumbers\": \"strict\", \"coloraxis\": {\"colorbar\": {\"outlinewidth\": 0, \"ticks\": \"\"}}, \"colorscale\": {\"diverging\": [[0, \"#8e0152\"], [0.1, \"#c51b7d\"], [0.2, \"#de77ae\"], [0.3, \"#f1b6da\"], [0.4, \"#fde0ef\"], [0.5, \"#f7f7f7\"], [0.6, \"#e6f5d0\"], [0.7, \"#b8e186\"], [0.8, \"#7fbc41\"], [0.9, \"#4d9221\"], [1, \"#276419\"]], \"sequential\": [[0.0, \"#0d0887\"], [0.1111111111111111, \"#46039f\"], [0.2222222222222222, \"#7201a8\"], [0.3333333333333333, \"#9c179e\"], [0.4444444444444444, \"#bd3786\"], [0.5555555555555556, \"#d8576b\"], [0.6666666666666666, \"#ed7953\"], [0.7777777777777778, \"#fb9f3a\"], [0.8888888888888888, \"#fdca26\"], [1.0, \"#f0f921\"]], \"sequentialminus\": [[0.0, \"#0d0887\"], [0.1111111111111111, \"#46039f\"], [0.2222222222222222, \"#7201a8\"], [0.3333333333333333, \"#9c179e\"], [0.4444444444444444, \"#bd3786\"], [0.5555555555555556, \"#d8576b\"], [0.6666666666666666, \"#ed7953\"], [0.7777777777777778, \"#fb9f3a\"], [0.8888888888888888, \"#fdca26\"], [1.0, \"#f0f921\"]]}, \"colorway\": [\"#636efa\", \"#EF553B\", \"#00cc96\", \"#ab63fa\", \"#FFA15A\", \"#19d3f3\", \"#FF6692\", \"#B6E880\", \"#FF97FF\", \"#FECB52\"], \"font\": {\"color\": \"#2a3f5f\"}, \"geo\": {\"bgcolor\": \"white\", \"lakecolor\": \"white\", \"landcolor\": \"#E5ECF6\", \"showlakes\": true, \"showland\": true, \"subunitcolor\": \"white\"}, \"hoverlabel\": {\"align\": \"left\"}, \"hovermode\": \"closest\", \"mapbox\": {\"style\": \"light\"}, \"paper_bgcolor\": \"white\", \"plot_bgcolor\": \"#E5ECF6\", \"polar\": {\"angularaxis\": {\"gridcolor\": \"white\", \"linecolor\": \"white\", \"ticks\": \"\"}, \"bgcolor\": \"#E5ECF6\", \"radialaxis\": {\"gridcolor\": \"white\", \"linecolor\": \"white\", \"ticks\": \"\"}}, \"scene\": {\"xaxis\": {\"backgroundcolor\": \"#E5ECF6\", \"gridcolor\": \"white\", \"gridwidth\": 2, \"linecolor\": \"white\", \"showbackground\": true, \"ticks\": \"\", \"zerolinecolor\": \"white\"}, \"yaxis\": {\"backgroundcolor\": \"#E5ECF6\", \"gridcolor\": \"white\", \"gridwidth\": 2, \"linecolor\": \"white\", \"showbackground\": true, \"ticks\": \"\", \"zerolinecolor\": \"white\"}, \"zaxis\": {\"backgroundcolor\": \"#E5ECF6\", \"gridcolor\": \"white\", \"gridwidth\": 2, \"linecolor\": \"white\", \"showbackground\": true, \"ticks\": \"\", \"zerolinecolor\": \"white\"}}, \"shapedefaults\": {\"line\": {\"color\": \"#2a3f5f\"}}, \"ternary\": {\"aaxis\": {\"gridcolor\": \"white\", \"linecolor\": \"white\", \"ticks\": \"\"}, \"baxis\": {\"gridcolor\": \"white\", \"linecolor\": \"white\", \"ticks\": \"\"}, \"bgcolor\": \"#E5ECF6\", \"caxis\": {\"gridcolor\": \"white\", \"linecolor\": \"white\", \"ticks\": \"\"}}, \"title\": {\"x\": 0.05}, \"xaxis\": {\"automargin\": true, \"gridcolor\": \"white\", \"linecolor\": \"white\", \"ticks\": \"\", \"title\": {\"standoff\": 15}, \"zerolinecolor\": \"white\", \"zerolinewidth\": 2}, \"yaxis\": {\"automargin\": true, \"gridcolor\": \"white\", \"linecolor\": \"white\", \"ticks\": \"\", \"title\": {\"standoff\": 15}, \"zerolinecolor\": \"white\", \"zerolinewidth\": 2}}}, \"title\": {\"text\": \"Top and bottom 5 countries in Africa\"}, \"xaxis\": {\"anchor\": \"y\", \"domain\": [0.0, 1.0], \"title\": {\"text\": \"Global Score 2021\"}}, \"yaxis\": {\"anchor\": \"x\", \"domain\": [0.0, 1.0], \"title\": {\"text\": \"Country\"}}},                        {\"responsive\": true}                    ).then(function(){\n",
       "                            \n",
       "var gd = document.getElementById('dfc307a7-e3c0-4d36-b41f-bc46e179a1d8');\n",
       "var x = new MutationObserver(function (mutations, observer) {{\n",
       "        var display = window.getComputedStyle(gd).display;\n",
       "        if (!display || display === 'none') {{\n",
       "            console.log([gd, 'removed!']);\n",
       "            Plotly.purge(gd);\n",
       "            observer.disconnect();\n",
       "        }}\n",
       "}});\n",
       "\n",
       "// Listen for the removal of the full notebook cells\n",
       "var notebookContainer = gd.closest('#notebook-container');\n",
       "if (notebookContainer) {{\n",
       "    x.observe(notebookContainer, {childList: true});\n",
       "}}\n",
       "\n",
       "// Listen for the clearing of the current output cell\n",
       "var outputEl = gd.closest('.output');\n",
       "if (outputEl) {{\n",
       "    x.observe(outputEl, {childList: true});\n",
       "}}\n",
       "\n",
       "                        })                };                });            </script>        </div>"
      ]
     },
     "metadata": {},
     "output_type": "display_data"
    }
   ],
   "source": [
    "df = combined.loc[combined['Continent_Name'] == 'Africa',\n",
    "                  :].sort_values(by='Global Score 2021', ascending=False)\n",
    "\n",
    "df = pd.concat([pd.DataFrame(df.head(5)), pd.DataFrame(df.tail(5))])\n",
    "\n",
    "fig = px.bar(\n",
    "    y=df['Country Name'],\n",
    "    x=df['Global Score 2021'],\n",
    "    orientation='h',\n",
    "    text=df['Global Score 2021'],\n",
    "    color=df['Global Score 2021'],\n",
    "    color_continuous_scale=color_scale,\n",
    "    range_color=[0, 100]\n",
    ")\n",
    "fig.update_layout(\n",
    "    title=\"Top and bottom 5 countries in Africa\",\n",
    "    xaxis_title=\"Global Score 2021\",\n",
    "    yaxis_title=\"Country\",\n",
    "    coloraxis_showscale=False\n",
    ")\n",
    "fig.add_hline(y=4.5, line_width=1, line_dash=\"dash\")"
   ]
  },
  {
   "cell_type": "markdown",
   "id": "painted-research",
   "metadata": {
    "papermill": {
     "duration": 0.078606,
     "end_time": "2021-07-08T13:09:07.843213",
     "exception": false,
     "start_time": "2021-07-08T13:09:07.764607",
     "status": "completed"
    },
    "tags": []
   },
   "source": [
    "<h1 style=\"color:black;background-color:white;font-family: Helvetica, sans-serif; font-size:150%;text-align:center; font-weight: 500;\">Africa's average Global Score is <span style=\"color: orange\">38.1</span>.</h1>\n",
    "\n",
    "<h1 style=\"color:black;background-color:white;font-family: Helvetica, sans-serif; font-size:150%;text-align:center; font-weight: 500;\"><span style=\"color: blue\">Djibouti</span> and <span style=\"color: blue\">Eritrea</span> have significantly worse scores than all the other African countries, and some of the worst scores in the world.</h1>"
   ]
  },
  {
   "cell_type": "markdown",
   "id": "narrow-liberia",
   "metadata": {
    "papermill": {
     "duration": 0.060922,
     "end_time": "2021-07-08T13:09:07.970957",
     "exception": false,
     "start_time": "2021-07-08T13:09:07.910035",
     "status": "completed"
    },
    "tags": []
   },
   "source": [
    "#### **Europe**"
   ]
  },
  {
   "cell_type": "code",
   "execution_count": 16,
   "id": "accepting-surface",
   "metadata": {
    "_kg_hide-input": true,
    "execution": {
     "iopub.execute_input": "2021-07-08T13:09:08.101954Z",
     "iopub.status.busy": "2021-07-08T13:09:08.101214Z",
     "iopub.status.idle": "2021-07-08T13:09:08.104941Z",
     "shell.execute_reply": "2021-07-08T13:09:08.104388Z",
     "shell.execute_reply.started": "2021-07-08T13:03:21.610146Z"
    },
    "papermill": {
     "duration": 0.0717,
     "end_time": "2021-07-08T13:09:08.105088",
     "exception": false,
     "start_time": "2021-07-08T13:09:08.033388",
     "status": "completed"
    },
    "tags": []
   },
   "outputs": [
    {
     "data": {
      "text/html": [
       "<div class=\"flourish-embed flourish-map\" data-src=\"visualisation/6554210\" data-height=\"500px\"><script src=\"https://public.flourish.studio/resources/embed.js\"></script></div>"
      ],
      "text/plain": [
       "<IPython.core.display.HTML object>"
      ]
     },
     "execution_count": 16,
     "metadata": {},
     "output_type": "execute_result"
    }
   ],
   "source": [
    "HTML('''<div class=\"flourish-embed flourish-map\" data-src=\"visualisation/6554210\" data-height=\"500px\"><script src=\"https://public.flourish.studio/resources/embed.js\"></script></div>''')"
   ]
  },
  {
   "cell_type": "markdown",
   "id": "separate-concert",
   "metadata": {
    "papermill": {
     "duration": 0.062588,
     "end_time": "2021-07-08T13:09:08.229690",
     "exception": false,
     "start_time": "2021-07-08T13:09:08.167102",
     "status": "completed"
    },
    "tags": []
   },
   "source": [
    "<h1 style=\"color:black;background-color:white;font-family: Helvetica, sans-serif; font-size:150%;text-align:center; font-weight: 500;\">Europe's average Global Score is <span style=\"color: orange\">25.26</span>.</h1>\n",
    "\n",
    "<h1 style=\"color:black;background-color:white;font-family: Helvetica, sans-serif; font-size:150%;text-align:center; font-weight: 500;\">Central Europe and Scandinavia performs significantly better.</h1>"
   ]
  },
  {
   "cell_type": "code",
   "execution_count": 17,
   "id": "human-gallery",
   "metadata": {
    "_kg_hide-input": true,
    "execution": {
     "iopub.execute_input": "2021-07-08T13:09:08.383477Z",
     "iopub.status.busy": "2021-07-08T13:09:08.367259Z",
     "iopub.status.idle": "2021-07-08T13:09:08.441965Z",
     "shell.execute_reply": "2021-07-08T13:09:08.441257Z",
     "shell.execute_reply.started": "2021-07-08T13:03:21.617636Z"
    },
    "papermill": {
     "duration": 0.151103,
     "end_time": "2021-07-08T13:09:08.442105",
     "exception": false,
     "start_time": "2021-07-08T13:09:08.291002",
     "status": "completed"
    },
    "tags": []
   },
   "outputs": [
    {
     "data": {
      "text/html": [
       "<div>                            <div id=\"732dee72-29fe-4136-92f2-baeabb94d897\" class=\"plotly-graph-div\" style=\"height:525px; width:100%;\"></div>            <script type=\"text/javascript\">                require([\"plotly\"], function(Plotly) {                    window.PLOTLYENV=window.PLOTLYENV || {};                                    if (document.getElementById(\"732dee72-29fe-4136-92f2-baeabb94d897\")) {                    Plotly.newPlot(                        \"732dee72-29fe-4136-92f2-baeabb94d897\",                        [{\"alignmentgroup\": \"True\", \"hovertemplate\": \"x=%{x}<br>y=%{y}<br>text=%{text}<br>color=%{marker.color}<extra></extra>\", \"legendgroup\": \"\", \"marker\": {\"color\": [58.77, 50.82, 50.28, 49.79, 48.71, 9.67, 8.57, 7.24, 6.99, 6.72], \"coloraxis\": \"coloraxis\"}, \"name\": \"\", \"offsetgroup\": \"\", \"orientation\": \"h\", \"showlegend\": false, \"text\": [58.77, 50.82, 50.28, 49.79, 48.71, 9.67, 8.57, 7.24, 6.99, 6.72], \"textposition\": \"auto\", \"type\": \"bar\", \"x\": [58.77, 50.82, 50.28, 49.79, 48.71, 9.67, 8.57, 7.24, 6.99, 6.72], \"xaxis\": \"x\", \"y\": [\"Azerbaijan\", \"Belarus\", \"Kazakhstan\", \"Turkey\", \"Russia\", \"Netherlands\", \"Denmark\", \"Sweden\", \"Finland\", \"Norway\"], \"yaxis\": \"y\"}],                        {\"barmode\": \"relative\", \"coloraxis\": {\"cmax\": 100, \"cmin\": 0, \"colorbar\": {\"title\": {\"text\": \"color\"}}, \"colorscale\": [[0.0, \"#fff0ad\"], [0.3333333333333333, \"#ffc485\"], [0.6666666666666666, \"#d13f3f\"], [1.0, \"#ad0034\"]], \"showscale\": false}, \"legend\": {\"tracegroupgap\": 0}, \"margin\": {\"t\": 60}, \"shapes\": [{\"line\": {\"dash\": \"dash\", \"width\": 1}, \"type\": \"line\", \"x0\": 0, \"x1\": 1, \"xref\": \"x domain\", \"y0\": 4.5, \"y1\": 4.5, \"yref\": \"y\"}], \"template\": {\"data\": {\"bar\": [{\"error_x\": {\"color\": \"#2a3f5f\"}, \"error_y\": {\"color\": \"#2a3f5f\"}, \"marker\": {\"line\": {\"color\": \"#E5ECF6\", \"width\": 0.5}}, \"type\": \"bar\"}], \"barpolar\": [{\"marker\": {\"line\": {\"color\": \"#E5ECF6\", \"width\": 0.5}}, \"type\": \"barpolar\"}], \"carpet\": [{\"aaxis\": {\"endlinecolor\": \"#2a3f5f\", \"gridcolor\": \"white\", \"linecolor\": \"white\", \"minorgridcolor\": \"white\", \"startlinecolor\": \"#2a3f5f\"}, \"baxis\": {\"endlinecolor\": \"#2a3f5f\", \"gridcolor\": \"white\", \"linecolor\": \"white\", \"minorgridcolor\": \"white\", \"startlinecolor\": \"#2a3f5f\"}, \"type\": \"carpet\"}], \"choropleth\": [{\"colorbar\": {\"outlinewidth\": 0, \"ticks\": \"\"}, \"type\": \"choropleth\"}], \"contour\": [{\"colorbar\": {\"outlinewidth\": 0, \"ticks\": \"\"}, \"colorscale\": [[0.0, \"#0d0887\"], [0.1111111111111111, \"#46039f\"], [0.2222222222222222, \"#7201a8\"], [0.3333333333333333, \"#9c179e\"], [0.4444444444444444, \"#bd3786\"], [0.5555555555555556, \"#d8576b\"], [0.6666666666666666, \"#ed7953\"], [0.7777777777777778, \"#fb9f3a\"], [0.8888888888888888, \"#fdca26\"], [1.0, \"#f0f921\"]], \"type\": \"contour\"}], \"contourcarpet\": [{\"colorbar\": {\"outlinewidth\": 0, \"ticks\": \"\"}, \"type\": \"contourcarpet\"}], \"heatmap\": [{\"colorbar\": {\"outlinewidth\": 0, \"ticks\": \"\"}, \"colorscale\": [[0.0, \"#0d0887\"], [0.1111111111111111, \"#46039f\"], [0.2222222222222222, \"#7201a8\"], [0.3333333333333333, \"#9c179e\"], [0.4444444444444444, \"#bd3786\"], [0.5555555555555556, \"#d8576b\"], [0.6666666666666666, \"#ed7953\"], [0.7777777777777778, \"#fb9f3a\"], [0.8888888888888888, \"#fdca26\"], [1.0, \"#f0f921\"]], \"type\": \"heatmap\"}], \"heatmapgl\": [{\"colorbar\": {\"outlinewidth\": 0, \"ticks\": \"\"}, \"colorscale\": [[0.0, \"#0d0887\"], [0.1111111111111111, \"#46039f\"], [0.2222222222222222, \"#7201a8\"], [0.3333333333333333, \"#9c179e\"], [0.4444444444444444, \"#bd3786\"], [0.5555555555555556, \"#d8576b\"], [0.6666666666666666, \"#ed7953\"], [0.7777777777777778, \"#fb9f3a\"], [0.8888888888888888, \"#fdca26\"], [1.0, \"#f0f921\"]], \"type\": \"heatmapgl\"}], \"histogram\": [{\"marker\": {\"colorbar\": {\"outlinewidth\": 0, \"ticks\": \"\"}}, \"type\": \"histogram\"}], \"histogram2d\": [{\"colorbar\": {\"outlinewidth\": 0, \"ticks\": \"\"}, \"colorscale\": [[0.0, \"#0d0887\"], [0.1111111111111111, \"#46039f\"], [0.2222222222222222, \"#7201a8\"], [0.3333333333333333, \"#9c179e\"], [0.4444444444444444, \"#bd3786\"], [0.5555555555555556, \"#d8576b\"], [0.6666666666666666, \"#ed7953\"], [0.7777777777777778, \"#fb9f3a\"], [0.8888888888888888, \"#fdca26\"], [1.0, \"#f0f921\"]], \"type\": \"histogram2d\"}], \"histogram2dcontour\": [{\"colorbar\": {\"outlinewidth\": 0, \"ticks\": \"\"}, \"colorscale\": [[0.0, \"#0d0887\"], [0.1111111111111111, \"#46039f\"], [0.2222222222222222, \"#7201a8\"], [0.3333333333333333, \"#9c179e\"], [0.4444444444444444, \"#bd3786\"], [0.5555555555555556, \"#d8576b\"], [0.6666666666666666, \"#ed7953\"], [0.7777777777777778, \"#fb9f3a\"], [0.8888888888888888, \"#fdca26\"], [1.0, \"#f0f921\"]], \"type\": \"histogram2dcontour\"}], \"mesh3d\": [{\"colorbar\": {\"outlinewidth\": 0, \"ticks\": \"\"}, \"type\": \"mesh3d\"}], \"parcoords\": [{\"line\": {\"colorbar\": {\"outlinewidth\": 0, \"ticks\": \"\"}}, \"type\": \"parcoords\"}], \"pie\": [{\"automargin\": true, \"type\": \"pie\"}], \"scatter\": [{\"marker\": {\"colorbar\": {\"outlinewidth\": 0, \"ticks\": \"\"}}, \"type\": \"scatter\"}], \"scatter3d\": [{\"line\": {\"colorbar\": {\"outlinewidth\": 0, \"ticks\": \"\"}}, \"marker\": {\"colorbar\": {\"outlinewidth\": 0, \"ticks\": \"\"}}, \"type\": \"scatter3d\"}], \"scattercarpet\": [{\"marker\": {\"colorbar\": {\"outlinewidth\": 0, \"ticks\": \"\"}}, \"type\": \"scattercarpet\"}], \"scattergeo\": [{\"marker\": {\"colorbar\": {\"outlinewidth\": 0, \"ticks\": \"\"}}, \"type\": \"scattergeo\"}], \"scattergl\": [{\"marker\": {\"colorbar\": {\"outlinewidth\": 0, \"ticks\": \"\"}}, \"type\": \"scattergl\"}], \"scattermapbox\": [{\"marker\": {\"colorbar\": {\"outlinewidth\": 0, \"ticks\": \"\"}}, \"type\": \"scattermapbox\"}], \"scatterpolar\": [{\"marker\": {\"colorbar\": {\"outlinewidth\": 0, \"ticks\": \"\"}}, \"type\": \"scatterpolar\"}], \"scatterpolargl\": [{\"marker\": {\"colorbar\": {\"outlinewidth\": 0, \"ticks\": \"\"}}, \"type\": \"scatterpolargl\"}], \"scatterternary\": [{\"marker\": {\"colorbar\": {\"outlinewidth\": 0, \"ticks\": \"\"}}, \"type\": \"scatterternary\"}], \"surface\": [{\"colorbar\": {\"outlinewidth\": 0, \"ticks\": \"\"}, \"colorscale\": [[0.0, \"#0d0887\"], [0.1111111111111111, \"#46039f\"], [0.2222222222222222, \"#7201a8\"], [0.3333333333333333, \"#9c179e\"], [0.4444444444444444, \"#bd3786\"], [0.5555555555555556, \"#d8576b\"], [0.6666666666666666, \"#ed7953\"], [0.7777777777777778, \"#fb9f3a\"], [0.8888888888888888, \"#fdca26\"], [1.0, \"#f0f921\"]], \"type\": \"surface\"}], \"table\": [{\"cells\": {\"fill\": {\"color\": \"#EBF0F8\"}, \"line\": {\"color\": \"white\"}}, \"header\": {\"fill\": {\"color\": \"#C8D4E3\"}, \"line\": {\"color\": \"white\"}}, \"type\": \"table\"}]}, \"layout\": {\"annotationdefaults\": {\"arrowcolor\": \"#2a3f5f\", \"arrowhead\": 0, \"arrowwidth\": 1}, \"autotypenumbers\": \"strict\", \"coloraxis\": {\"colorbar\": {\"outlinewidth\": 0, \"ticks\": \"\"}}, \"colorscale\": {\"diverging\": [[0, \"#8e0152\"], [0.1, \"#c51b7d\"], [0.2, \"#de77ae\"], [0.3, \"#f1b6da\"], [0.4, \"#fde0ef\"], [0.5, \"#f7f7f7\"], [0.6, \"#e6f5d0\"], [0.7, \"#b8e186\"], [0.8, \"#7fbc41\"], [0.9, \"#4d9221\"], [1, \"#276419\"]], \"sequential\": [[0.0, \"#0d0887\"], [0.1111111111111111, \"#46039f\"], [0.2222222222222222, \"#7201a8\"], [0.3333333333333333, \"#9c179e\"], [0.4444444444444444, \"#bd3786\"], [0.5555555555555556, \"#d8576b\"], [0.6666666666666666, \"#ed7953\"], [0.7777777777777778, \"#fb9f3a\"], [0.8888888888888888, \"#fdca26\"], [1.0, \"#f0f921\"]], \"sequentialminus\": [[0.0, \"#0d0887\"], [0.1111111111111111, \"#46039f\"], [0.2222222222222222, \"#7201a8\"], [0.3333333333333333, \"#9c179e\"], [0.4444444444444444, \"#bd3786\"], [0.5555555555555556, \"#d8576b\"], [0.6666666666666666, \"#ed7953\"], [0.7777777777777778, \"#fb9f3a\"], [0.8888888888888888, \"#fdca26\"], [1.0, \"#f0f921\"]]}, \"colorway\": [\"#636efa\", \"#EF553B\", \"#00cc96\", \"#ab63fa\", \"#FFA15A\", \"#19d3f3\", \"#FF6692\", \"#B6E880\", \"#FF97FF\", \"#FECB52\"], \"font\": {\"color\": \"#2a3f5f\"}, \"geo\": {\"bgcolor\": \"white\", \"lakecolor\": \"white\", \"landcolor\": \"#E5ECF6\", \"showlakes\": true, \"showland\": true, \"subunitcolor\": \"white\"}, \"hoverlabel\": {\"align\": \"left\"}, \"hovermode\": \"closest\", \"mapbox\": {\"style\": \"light\"}, \"paper_bgcolor\": \"white\", \"plot_bgcolor\": \"#E5ECF6\", \"polar\": {\"angularaxis\": {\"gridcolor\": \"white\", \"linecolor\": \"white\", \"ticks\": \"\"}, \"bgcolor\": \"#E5ECF6\", \"radialaxis\": {\"gridcolor\": \"white\", \"linecolor\": \"white\", \"ticks\": \"\"}}, \"scene\": {\"xaxis\": {\"backgroundcolor\": \"#E5ECF6\", \"gridcolor\": \"white\", \"gridwidth\": 2, \"linecolor\": \"white\", \"showbackground\": true, \"ticks\": \"\", \"zerolinecolor\": \"white\"}, \"yaxis\": {\"backgroundcolor\": \"#E5ECF6\", \"gridcolor\": \"white\", \"gridwidth\": 2, \"linecolor\": \"white\", \"showbackground\": true, \"ticks\": \"\", \"zerolinecolor\": \"white\"}, \"zaxis\": {\"backgroundcolor\": \"#E5ECF6\", \"gridcolor\": \"white\", \"gridwidth\": 2, \"linecolor\": \"white\", \"showbackground\": true, \"ticks\": \"\", \"zerolinecolor\": \"white\"}}, \"shapedefaults\": {\"line\": {\"color\": \"#2a3f5f\"}}, \"ternary\": {\"aaxis\": {\"gridcolor\": \"white\", \"linecolor\": \"white\", \"ticks\": \"\"}, \"baxis\": {\"gridcolor\": \"white\", \"linecolor\": \"white\", \"ticks\": \"\"}, \"bgcolor\": \"#E5ECF6\", \"caxis\": {\"gridcolor\": \"white\", \"linecolor\": \"white\", \"ticks\": \"\"}}, \"title\": {\"x\": 0.05}, \"xaxis\": {\"automargin\": true, \"gridcolor\": \"white\", \"linecolor\": \"white\", \"ticks\": \"\", \"title\": {\"standoff\": 15}, \"zerolinecolor\": \"white\", \"zerolinewidth\": 2}, \"yaxis\": {\"automargin\": true, \"gridcolor\": \"white\", \"linecolor\": \"white\", \"ticks\": \"\", \"title\": {\"standoff\": 15}, \"zerolinecolor\": \"white\", \"zerolinewidth\": 2}}}, \"title\": {\"text\": \"Top and bottom 5 countries in Europe\"}, \"xaxis\": {\"anchor\": \"y\", \"domain\": [0.0, 1.0], \"title\": {\"text\": \"Global Score 2021\"}}, \"yaxis\": {\"anchor\": \"x\", \"domain\": [0.0, 1.0], \"title\": {\"text\": \"Country\"}}},                        {\"responsive\": true}                    ).then(function(){\n",
       "                            \n",
       "var gd = document.getElementById('732dee72-29fe-4136-92f2-baeabb94d897');\n",
       "var x = new MutationObserver(function (mutations, observer) {{\n",
       "        var display = window.getComputedStyle(gd).display;\n",
       "        if (!display || display === 'none') {{\n",
       "            console.log([gd, 'removed!']);\n",
       "            Plotly.purge(gd);\n",
       "            observer.disconnect();\n",
       "        }}\n",
       "}});\n",
       "\n",
       "// Listen for the removal of the full notebook cells\n",
       "var notebookContainer = gd.closest('#notebook-container');\n",
       "if (notebookContainer) {{\n",
       "    x.observe(notebookContainer, {childList: true});\n",
       "}}\n",
       "\n",
       "// Listen for the clearing of the current output cell\n",
       "var outputEl = gd.closest('.output');\n",
       "if (outputEl) {{\n",
       "    x.observe(outputEl, {childList: true});\n",
       "}}\n",
       "\n",
       "                        })                };                });            </script>        </div>"
      ]
     },
     "metadata": {},
     "output_type": "display_data"
    }
   ],
   "source": [
    "df = combined.loc[combined['Continent_Name'] == 'Europe',:].sort_values(by='Global Score 2021', ascending=False)\n",
    "\n",
    "df = pd.concat([pd.DataFrame(df.head(5)), pd.DataFrame(df.tail(5))])\n",
    "\n",
    "fig = px.bar(\n",
    "    y=df['Country Name'],\n",
    "    x=df['Global Score 2021'],\n",
    "    orientation='h',\n",
    "    text=df['Global Score 2021'],\n",
    "    color=df['Global Score 2021'],\n",
    "    color_continuous_scale=color_scale,\n",
    "    range_color=[0, 100]\n",
    ")\n",
    "fig.update_layout(\n",
    "    title=\"Top and bottom 5 countries in Europe\",\n",
    "    xaxis_title=\"Global Score 2021\",\n",
    "    yaxis_title=\"Country\",\n",
    "    coloraxis_showscale=False\n",
    ")\n",
    "fig.add_hline(y=4.5, line_width=1, line_dash=\"dash\")"
   ]
  },
  {
   "cell_type": "markdown",
   "id": "illegal-string",
   "metadata": {
    "papermill": {
     "duration": 0.062521,
     "end_time": "2021-07-08T13:09:08.567159",
     "exception": false,
     "start_time": "2021-07-08T13:09:08.504638",
     "status": "completed"
    },
    "tags": []
   },
   "source": [
    "#### **North America**"
   ]
  },
  {
   "cell_type": "code",
   "execution_count": 18,
   "id": "palestinian-phrase",
   "metadata": {
    "_kg_hide-input": true,
    "execution": {
     "iopub.execute_input": "2021-07-08T13:09:08.697848Z",
     "iopub.status.busy": "2021-07-08T13:09:08.696819Z",
     "iopub.status.idle": "2021-07-08T13:09:08.700681Z",
     "shell.execute_reply": "2021-07-08T13:09:08.701217Z",
     "shell.execute_reply.started": "2021-07-08T13:03:21.683397Z"
    },
    "papermill": {
     "duration": 0.071681,
     "end_time": "2021-07-08T13:09:08.701376",
     "exception": false,
     "start_time": "2021-07-08T13:09:08.629695",
     "status": "completed"
    },
    "tags": []
   },
   "outputs": [
    {
     "data": {
      "text/html": [
       "<div class=\"flourish-embed flourish-map\" data-src=\"visualisation/6554108\" data-height=\"500px\"><script src=\"https://public.flourish.studio/resources/embed.js\"></script></div>"
      ],
      "text/plain": [
       "<IPython.core.display.HTML object>"
      ]
     },
     "execution_count": 18,
     "metadata": {},
     "output_type": "execute_result"
    }
   ],
   "source": [
    "HTML('''<div class=\"flourish-embed flourish-map\" data-src=\"visualisation/6554108\" data-height=\"500px\"><script src=\"https://public.flourish.studio/resources/embed.js\"></script></div>''')"
   ]
  },
  {
   "cell_type": "code",
   "execution_count": 19,
   "id": "fabulous-importance",
   "metadata": {
    "_kg_hide-input": true,
    "execution": {
     "iopub.execute_input": "2021-07-08T13:09:08.897163Z",
     "iopub.status.busy": "2021-07-08T13:09:08.886375Z",
     "iopub.status.idle": "2021-07-08T13:09:08.917505Z",
     "shell.execute_reply": "2021-07-08T13:09:08.916778Z",
     "shell.execute_reply.started": "2021-07-08T13:03:21.689638Z"
    },
    "papermill": {
     "duration": 0.153037,
     "end_time": "2021-07-08T13:09:08.917655",
     "exception": false,
     "start_time": "2021-07-08T13:09:08.764618",
     "status": "completed"
    },
    "tags": []
   },
   "outputs": [
    {
     "data": {
      "text/html": [
       "<div>                            <div id=\"33901bc6-da2e-41fe-82be-b8984b6f3853\" class=\"plotly-graph-div\" style=\"height:525px; width:100%;\"></div>            <script type=\"text/javascript\">                require([\"plotly\"], function(Plotly) {                    window.PLOTLYENV=window.PLOTLYENV || {};                                    if (document.getElementById(\"33901bc6-da2e-41fe-82be-b8984b6f3853\")) {                    Plotly.newPlot(                        \"33901bc6-da2e-41fe-82be-b8984b6f3853\",                        [{\"alignmentgroup\": \"True\", \"hovertemplate\": \"x=%{x}<br>y=%{y}<br>text=%{text}<br>color=%{marker.color}<extra></extra>\", \"legendgroup\": \"\", \"marker\": {\"color\": [63.94, 49.35, 46.71, 39.98, 38.45, 23.93, 21.55, 15.25, 9.96, 8.76], \"coloraxis\": \"coloraxis\"}, \"name\": \"\", \"offsetgroup\": \"\", \"orientation\": \"h\", \"showlegend\": false, \"text\": [63.94, 49.35, 46.71, 39.98, 38.45, 23.93, 21.55, 15.25, 9.96, 8.76], \"textposition\": \"auto\", \"type\": \"bar\", \"x\": [63.94, 49.35, 46.71, 39.98, 38.45, 23.93, 21.55, 15.25, 9.96, 8.76], \"xaxis\": \"x\", \"y\": [\"Cuba\", \"Honduras\", \"Mexico\", \"Nicaragua\", \"Guatemala\", \"United States\", \"Trinidad and Tobago\", \"Canada\", \"Jamaica\", \"Costa Rica\"], \"yaxis\": \"y\"}],                        {\"barmode\": \"relative\", \"coloraxis\": {\"cmax\": 100, \"cmin\": 0, \"colorbar\": {\"title\": {\"text\": \"color\"}}, \"colorscale\": [[0.0, \"#fff0ad\"], [0.3333333333333333, \"#ffc485\"], [0.6666666666666666, \"#d13f3f\"], [1.0, \"#ad0034\"]], \"showscale\": false}, \"legend\": {\"tracegroupgap\": 0}, \"margin\": {\"t\": 60}, \"shapes\": [{\"line\": {\"dash\": \"dash\", \"width\": 1}, \"type\": \"line\", \"x0\": 0, \"x1\": 1, \"xref\": \"x domain\", \"y0\": 4.5, \"y1\": 4.5, \"yref\": \"y\"}], \"template\": {\"data\": {\"bar\": [{\"error_x\": {\"color\": \"#2a3f5f\"}, \"error_y\": {\"color\": \"#2a3f5f\"}, \"marker\": {\"line\": {\"color\": \"#E5ECF6\", \"width\": 0.5}}, \"type\": \"bar\"}], \"barpolar\": [{\"marker\": {\"line\": {\"color\": \"#E5ECF6\", \"width\": 0.5}}, \"type\": \"barpolar\"}], \"carpet\": [{\"aaxis\": {\"endlinecolor\": \"#2a3f5f\", \"gridcolor\": \"white\", \"linecolor\": \"white\", \"minorgridcolor\": \"white\", \"startlinecolor\": \"#2a3f5f\"}, \"baxis\": {\"endlinecolor\": \"#2a3f5f\", \"gridcolor\": \"white\", \"linecolor\": \"white\", \"minorgridcolor\": \"white\", \"startlinecolor\": \"#2a3f5f\"}, \"type\": \"carpet\"}], \"choropleth\": [{\"colorbar\": {\"outlinewidth\": 0, \"ticks\": \"\"}, \"type\": \"choropleth\"}], \"contour\": [{\"colorbar\": {\"outlinewidth\": 0, \"ticks\": \"\"}, \"colorscale\": [[0.0, \"#0d0887\"], [0.1111111111111111, \"#46039f\"], [0.2222222222222222, \"#7201a8\"], [0.3333333333333333, \"#9c179e\"], [0.4444444444444444, \"#bd3786\"], [0.5555555555555556, \"#d8576b\"], [0.6666666666666666, \"#ed7953\"], [0.7777777777777778, \"#fb9f3a\"], [0.8888888888888888, \"#fdca26\"], [1.0, \"#f0f921\"]], \"type\": \"contour\"}], \"contourcarpet\": [{\"colorbar\": {\"outlinewidth\": 0, \"ticks\": \"\"}, \"type\": \"contourcarpet\"}], \"heatmap\": [{\"colorbar\": {\"outlinewidth\": 0, \"ticks\": \"\"}, \"colorscale\": [[0.0, \"#0d0887\"], [0.1111111111111111, \"#46039f\"], [0.2222222222222222, \"#7201a8\"], [0.3333333333333333, \"#9c179e\"], [0.4444444444444444, \"#bd3786\"], [0.5555555555555556, \"#d8576b\"], [0.6666666666666666, \"#ed7953\"], [0.7777777777777778, \"#fb9f3a\"], [0.8888888888888888, \"#fdca26\"], [1.0, \"#f0f921\"]], \"type\": \"heatmap\"}], \"heatmapgl\": [{\"colorbar\": {\"outlinewidth\": 0, \"ticks\": \"\"}, \"colorscale\": [[0.0, \"#0d0887\"], [0.1111111111111111, \"#46039f\"], [0.2222222222222222, \"#7201a8\"], [0.3333333333333333, \"#9c179e\"], [0.4444444444444444, \"#bd3786\"], [0.5555555555555556, \"#d8576b\"], [0.6666666666666666, \"#ed7953\"], [0.7777777777777778, \"#fb9f3a\"], [0.8888888888888888, \"#fdca26\"], [1.0, \"#f0f921\"]], \"type\": \"heatmapgl\"}], \"histogram\": [{\"marker\": {\"colorbar\": {\"outlinewidth\": 0, \"ticks\": \"\"}}, \"type\": \"histogram\"}], \"histogram2d\": [{\"colorbar\": {\"outlinewidth\": 0, \"ticks\": \"\"}, \"colorscale\": [[0.0, \"#0d0887\"], [0.1111111111111111, \"#46039f\"], [0.2222222222222222, \"#7201a8\"], [0.3333333333333333, \"#9c179e\"], [0.4444444444444444, \"#bd3786\"], [0.5555555555555556, \"#d8576b\"], [0.6666666666666666, \"#ed7953\"], [0.7777777777777778, \"#fb9f3a\"], [0.8888888888888888, \"#fdca26\"], [1.0, \"#f0f921\"]], \"type\": \"histogram2d\"}], \"histogram2dcontour\": [{\"colorbar\": {\"outlinewidth\": 0, \"ticks\": \"\"}, \"colorscale\": [[0.0, \"#0d0887\"], [0.1111111111111111, \"#46039f\"], [0.2222222222222222, \"#7201a8\"], [0.3333333333333333, \"#9c179e\"], [0.4444444444444444, \"#bd3786\"], [0.5555555555555556, \"#d8576b\"], [0.6666666666666666, \"#ed7953\"], [0.7777777777777778, \"#fb9f3a\"], [0.8888888888888888, \"#fdca26\"], [1.0, \"#f0f921\"]], \"type\": \"histogram2dcontour\"}], \"mesh3d\": [{\"colorbar\": {\"outlinewidth\": 0, \"ticks\": \"\"}, \"type\": \"mesh3d\"}], \"parcoords\": [{\"line\": {\"colorbar\": {\"outlinewidth\": 0, \"ticks\": \"\"}}, \"type\": \"parcoords\"}], \"pie\": [{\"automargin\": true, \"type\": \"pie\"}], \"scatter\": [{\"marker\": {\"colorbar\": {\"outlinewidth\": 0, \"ticks\": \"\"}}, \"type\": \"scatter\"}], \"scatter3d\": [{\"line\": {\"colorbar\": {\"outlinewidth\": 0, \"ticks\": \"\"}}, \"marker\": {\"colorbar\": {\"outlinewidth\": 0, \"ticks\": \"\"}}, \"type\": \"scatter3d\"}], \"scattercarpet\": [{\"marker\": {\"colorbar\": {\"outlinewidth\": 0, \"ticks\": \"\"}}, \"type\": \"scattercarpet\"}], \"scattergeo\": [{\"marker\": {\"colorbar\": {\"outlinewidth\": 0, \"ticks\": \"\"}}, \"type\": \"scattergeo\"}], \"scattergl\": [{\"marker\": {\"colorbar\": {\"outlinewidth\": 0, \"ticks\": \"\"}}, \"type\": \"scattergl\"}], \"scattermapbox\": [{\"marker\": {\"colorbar\": {\"outlinewidth\": 0, \"ticks\": \"\"}}, \"type\": \"scattermapbox\"}], \"scatterpolar\": [{\"marker\": {\"colorbar\": {\"outlinewidth\": 0, \"ticks\": \"\"}}, \"type\": \"scatterpolar\"}], \"scatterpolargl\": [{\"marker\": {\"colorbar\": {\"outlinewidth\": 0, \"ticks\": \"\"}}, \"type\": \"scatterpolargl\"}], \"scatterternary\": [{\"marker\": {\"colorbar\": {\"outlinewidth\": 0, \"ticks\": \"\"}}, \"type\": \"scatterternary\"}], \"surface\": [{\"colorbar\": {\"outlinewidth\": 0, \"ticks\": \"\"}, \"colorscale\": [[0.0, \"#0d0887\"], [0.1111111111111111, \"#46039f\"], [0.2222222222222222, \"#7201a8\"], [0.3333333333333333, \"#9c179e\"], [0.4444444444444444, \"#bd3786\"], [0.5555555555555556, \"#d8576b\"], [0.6666666666666666, \"#ed7953\"], [0.7777777777777778, \"#fb9f3a\"], [0.8888888888888888, \"#fdca26\"], [1.0, \"#f0f921\"]], \"type\": \"surface\"}], \"table\": [{\"cells\": {\"fill\": {\"color\": \"#EBF0F8\"}, \"line\": {\"color\": \"white\"}}, \"header\": {\"fill\": {\"color\": \"#C8D4E3\"}, \"line\": {\"color\": \"white\"}}, \"type\": \"table\"}]}, \"layout\": {\"annotationdefaults\": {\"arrowcolor\": \"#2a3f5f\", \"arrowhead\": 0, \"arrowwidth\": 1}, \"autotypenumbers\": \"strict\", \"coloraxis\": {\"colorbar\": {\"outlinewidth\": 0, \"ticks\": \"\"}}, \"colorscale\": {\"diverging\": [[0, \"#8e0152\"], [0.1, \"#c51b7d\"], [0.2, \"#de77ae\"], [0.3, \"#f1b6da\"], [0.4, \"#fde0ef\"], [0.5, \"#f7f7f7\"], [0.6, \"#e6f5d0\"], [0.7, \"#b8e186\"], [0.8, \"#7fbc41\"], [0.9, \"#4d9221\"], [1, \"#276419\"]], \"sequential\": [[0.0, \"#0d0887\"], [0.1111111111111111, \"#46039f\"], [0.2222222222222222, \"#7201a8\"], [0.3333333333333333, \"#9c179e\"], [0.4444444444444444, \"#bd3786\"], [0.5555555555555556, \"#d8576b\"], [0.6666666666666666, \"#ed7953\"], [0.7777777777777778, \"#fb9f3a\"], [0.8888888888888888, \"#fdca26\"], [1.0, \"#f0f921\"]], \"sequentialminus\": [[0.0, \"#0d0887\"], [0.1111111111111111, \"#46039f\"], [0.2222222222222222, \"#7201a8\"], [0.3333333333333333, \"#9c179e\"], [0.4444444444444444, \"#bd3786\"], [0.5555555555555556, \"#d8576b\"], [0.6666666666666666, \"#ed7953\"], [0.7777777777777778, \"#fb9f3a\"], [0.8888888888888888, \"#fdca26\"], [1.0, \"#f0f921\"]]}, \"colorway\": [\"#636efa\", \"#EF553B\", \"#00cc96\", \"#ab63fa\", \"#FFA15A\", \"#19d3f3\", \"#FF6692\", \"#B6E880\", \"#FF97FF\", \"#FECB52\"], \"font\": {\"color\": \"#2a3f5f\"}, \"geo\": {\"bgcolor\": \"white\", \"lakecolor\": \"white\", \"landcolor\": \"#E5ECF6\", \"showlakes\": true, \"showland\": true, \"subunitcolor\": \"white\"}, \"hoverlabel\": {\"align\": \"left\"}, \"hovermode\": \"closest\", \"mapbox\": {\"style\": \"light\"}, \"paper_bgcolor\": \"white\", \"plot_bgcolor\": \"#E5ECF6\", \"polar\": {\"angularaxis\": {\"gridcolor\": \"white\", \"linecolor\": \"white\", \"ticks\": \"\"}, \"bgcolor\": \"#E5ECF6\", \"radialaxis\": {\"gridcolor\": \"white\", \"linecolor\": \"white\", \"ticks\": \"\"}}, \"scene\": {\"xaxis\": {\"backgroundcolor\": \"#E5ECF6\", \"gridcolor\": \"white\", \"gridwidth\": 2, \"linecolor\": \"white\", \"showbackground\": true, \"ticks\": \"\", \"zerolinecolor\": \"white\"}, \"yaxis\": {\"backgroundcolor\": \"#E5ECF6\", \"gridcolor\": \"white\", \"gridwidth\": 2, \"linecolor\": \"white\", \"showbackground\": true, \"ticks\": \"\", \"zerolinecolor\": \"white\"}, \"zaxis\": {\"backgroundcolor\": \"#E5ECF6\", \"gridcolor\": \"white\", \"gridwidth\": 2, \"linecolor\": \"white\", \"showbackground\": true, \"ticks\": \"\", \"zerolinecolor\": \"white\"}}, \"shapedefaults\": {\"line\": {\"color\": \"#2a3f5f\"}}, \"ternary\": {\"aaxis\": {\"gridcolor\": \"white\", \"linecolor\": \"white\", \"ticks\": \"\"}, \"baxis\": {\"gridcolor\": \"white\", \"linecolor\": \"white\", \"ticks\": \"\"}, \"bgcolor\": \"#E5ECF6\", \"caxis\": {\"gridcolor\": \"white\", \"linecolor\": \"white\", \"ticks\": \"\"}}, \"title\": {\"x\": 0.05}, \"xaxis\": {\"automargin\": true, \"gridcolor\": \"white\", \"linecolor\": \"white\", \"ticks\": \"\", \"title\": {\"standoff\": 15}, \"zerolinecolor\": \"white\", \"zerolinewidth\": 2}, \"yaxis\": {\"automargin\": true, \"gridcolor\": \"white\", \"linecolor\": \"white\", \"ticks\": \"\", \"title\": {\"standoff\": 15}, \"zerolinecolor\": \"white\", \"zerolinewidth\": 2}}}, \"title\": {\"text\": \"Top and bottom 5 countries in North America\"}, \"xaxis\": {\"anchor\": \"y\", \"domain\": [0.0, 1.0], \"title\": {\"text\": \"Global Score 2021\"}}, \"yaxis\": {\"anchor\": \"x\", \"domain\": [0.0, 1.0], \"title\": {\"text\": \"Country\"}}},                        {\"responsive\": true}                    ).then(function(){\n",
       "                            \n",
       "var gd = document.getElementById('33901bc6-da2e-41fe-82be-b8984b6f3853');\n",
       "var x = new MutationObserver(function (mutations, observer) {{\n",
       "        var display = window.getComputedStyle(gd).display;\n",
       "        if (!display || display === 'none') {{\n",
       "            console.log([gd, 'removed!']);\n",
       "            Plotly.purge(gd);\n",
       "            observer.disconnect();\n",
       "        }}\n",
       "}});\n",
       "\n",
       "// Listen for the removal of the full notebook cells\n",
       "var notebookContainer = gd.closest('#notebook-container');\n",
       "if (notebookContainer) {{\n",
       "    x.observe(notebookContainer, {childList: true});\n",
       "}}\n",
       "\n",
       "// Listen for the clearing of the current output cell\n",
       "var outputEl = gd.closest('.output');\n",
       "if (outputEl) {{\n",
       "    x.observe(outputEl, {childList: true});\n",
       "}}\n",
       "\n",
       "                        })                };                });            </script>        </div>"
      ]
     },
     "metadata": {},
     "output_type": "display_data"
    }
   ],
   "source": [
    "df = combined.loc[combined['Continent_Name'] == 'North America', :].sort_values(by='Global Score 2021', ascending=False)\n",
    "\n",
    "df = pd.concat([pd.DataFrame(df.head(5)), pd.DataFrame(df.tail(5))])\n",
    "\n",
    "fig = px.bar(\n",
    "    y=df['Country Name'],\n",
    "    x=df['Global Score 2021'],\n",
    "    orientation='h',\n",
    "    text=df['Global Score 2021'],\n",
    "    color=df['Global Score 2021'],\n",
    "    color_continuous_scale=color_scale,\n",
    "    range_color=[0, 100]\n",
    ")\n",
    "fig.update_layout(\n",
    "    title=\"Top and bottom 5 countries in North America\",\n",
    "    xaxis_title=\"Global Score 2021\",\n",
    "    yaxis_title=\"Country\",\n",
    "    coloraxis_showscale=False\n",
    ")\n",
    "fig.add_hline(y=4.5, line_width=1, line_dash=\"dash\")"
   ]
  },
  {
   "cell_type": "markdown",
   "id": "transparent-starter",
   "metadata": {
    "papermill": {
     "duration": 0.067284,
     "end_time": "2021-07-08T13:09:09.050024",
     "exception": false,
     "start_time": "2021-07-08T13:09:08.982740",
     "status": "completed"
    },
    "tags": []
   },
   "source": [
    "<h1 style=\"color:black;background-color:white;font-family: Helvetica, sans-serif; font-size:150%;text-align:center; font-weight: 500;\">North America's average Global Score is <span style=\"color: orange\">28.88</span>.</h1>\n",
    "\n",
    "<h1 style=\"color:black;background-color:white;font-family: Helvetica, sans-serif; font-size:150%;text-align:center; font-weight: 500;\">Notably, <span style=\"color: blue\">Cuba</span> - a country historically influenced by the USSR and currently a dictatorship - has a very alarming score of <span style=\"color: red\">63.94</span>.</h1>"
   ]
  },
  {
   "cell_type": "markdown",
   "id": "linear-differential",
   "metadata": {
    "papermill": {
     "duration": 0.063308,
     "end_time": "2021-07-08T13:09:09.178104",
     "exception": false,
     "start_time": "2021-07-08T13:09:09.114796",
     "status": "completed"
    },
    "tags": []
   },
   "source": [
    "#### **South America**"
   ]
  },
  {
   "cell_type": "code",
   "execution_count": 20,
   "id": "tracked-mercury",
   "metadata": {
    "_kg_hide-input": true,
    "execution": {
     "iopub.execute_input": "2021-07-08T13:09:09.311026Z",
     "iopub.status.busy": "2021-07-08T13:09:09.309996Z",
     "iopub.status.idle": "2021-07-08T13:09:09.314969Z",
     "shell.execute_reply": "2021-07-08T13:09:09.314320Z",
     "shell.execute_reply.started": "2021-07-08T13:03:21.758225Z"
    },
    "papermill": {
     "duration": 0.073496,
     "end_time": "2021-07-08T13:09:09.315108",
     "exception": false,
     "start_time": "2021-07-08T13:09:09.241612",
     "status": "completed"
    },
    "tags": []
   },
   "outputs": [
    {
     "data": {
      "text/html": [
       "<div class=\"flourish-embed flourish-map\" data-src=\"visualisation/6554130\" data-height=\"500px\"><script src=\"https://public.flourish.studio/resources/embed.js\"></script></div>"
      ],
      "text/plain": [
       "<IPython.core.display.HTML object>"
      ]
     },
     "execution_count": 20,
     "metadata": {},
     "output_type": "execute_result"
    }
   ],
   "source": [
    "HTML('''<div class=\"flourish-embed flourish-map\" data-src=\"visualisation/6554130\" data-height=\"500px\"><script src=\"https://public.flourish.studio/resources/embed.js\"></script></div>''')"
   ]
  },
  {
   "cell_type": "code",
   "execution_count": 21,
   "id": "confident-azerbaijan",
   "metadata": {
    "_kg_hide-input": true,
    "execution": {
     "iopub.execute_input": "2021-07-08T13:09:09.481940Z",
     "iopub.status.busy": "2021-07-08T13:09:09.481175Z",
     "iopub.status.idle": "2021-07-08T13:09:09.533181Z",
     "shell.execute_reply": "2021-07-08T13:09:09.533711Z",
     "shell.execute_reply.started": "2021-07-08T13:03:21.764236Z"
    },
    "papermill": {
     "duration": 0.153664,
     "end_time": "2021-07-08T13:09:09.533938",
     "exception": false,
     "start_time": "2021-07-08T13:09:09.380274",
     "status": "completed"
    },
    "tags": []
   },
   "outputs": [
    {
     "data": {
      "text/html": [
       "<div>                            <div id=\"dc00e472-fe74-4f98-b239-06c9272df48d\" class=\"plotly-graph-div\" style=\"height:525px; width:100%;\"></div>            <script type=\"text/javascript\">                require([\"plotly\"], function(Plotly) {                    window.PLOTLYENV=window.PLOTLYENV || {};                                    if (document.getElementById(\"dc00e472-fe74-4f98-b239-06c9272df48d\")) {                    Plotly.newPlot(                        \"dc00e472-fe74-4f98-b239-06c9272df48d\",                        [{\"alignmentgroup\": \"True\", \"hovertemplate\": \"x=%{x}<br>y=%{y}<br>text=%{text}<br>color=%{marker.color}<extra></extra>\", \"legendgroup\": \"\", \"marker\": {\"color\": [47.6, 43.74, 36.25, 35.47, 33.52, 28.99, 27.89, 25.61, 16.95, 16.38], \"coloraxis\": \"coloraxis\"}, \"name\": \"\", \"offsetgroup\": \"\", \"orientation\": \"h\", \"showlegend\": false, \"text\": [47.6, 43.74, 36.25, 35.47, 33.52, 28.99, 27.89, 25.61, 16.95, 16.38], \"textposition\": \"auto\", \"type\": \"bar\", \"x\": [47.6, 43.74, 36.25, 35.47, 33.52, 28.99, 27.89, 25.61, 16.95, 16.38], \"xaxis\": \"x\", \"y\": [\"Venezuela\", \"Colombia\", \"Brazil\", \"Bolivia\", \"Paraguay\", \"Argentina\", \"Chile\", \"Guyana\", \"Suriname\", \"Uruguay\"], \"yaxis\": \"y\"}],                        {\"barmode\": \"relative\", \"coloraxis\": {\"cmax\": 100, \"cmin\": 0, \"colorbar\": {\"title\": {\"text\": \"color\"}}, \"colorscale\": [[0.0, \"#fff0ad\"], [0.3333333333333333, \"#ffc485\"], [0.6666666666666666, \"#d13f3f\"], [1.0, \"#ad0034\"]], \"showscale\": false}, \"legend\": {\"tracegroupgap\": 0}, \"margin\": {\"t\": 60}, \"shapes\": [{\"line\": {\"dash\": \"dash\", \"width\": 1}, \"type\": \"line\", \"x0\": 0, \"x1\": 1, \"xref\": \"x domain\", \"y0\": 4.5, \"y1\": 4.5, \"yref\": \"y\"}], \"template\": {\"data\": {\"bar\": [{\"error_x\": {\"color\": \"#2a3f5f\"}, \"error_y\": {\"color\": \"#2a3f5f\"}, \"marker\": {\"line\": {\"color\": \"#E5ECF6\", \"width\": 0.5}}, \"type\": \"bar\"}], \"barpolar\": [{\"marker\": {\"line\": {\"color\": \"#E5ECF6\", \"width\": 0.5}}, \"type\": \"barpolar\"}], \"carpet\": [{\"aaxis\": {\"endlinecolor\": \"#2a3f5f\", \"gridcolor\": \"white\", \"linecolor\": \"white\", \"minorgridcolor\": \"white\", \"startlinecolor\": \"#2a3f5f\"}, \"baxis\": {\"endlinecolor\": \"#2a3f5f\", \"gridcolor\": \"white\", \"linecolor\": \"white\", \"minorgridcolor\": \"white\", \"startlinecolor\": \"#2a3f5f\"}, \"type\": \"carpet\"}], \"choropleth\": [{\"colorbar\": {\"outlinewidth\": 0, \"ticks\": \"\"}, \"type\": \"choropleth\"}], \"contour\": [{\"colorbar\": {\"outlinewidth\": 0, \"ticks\": \"\"}, \"colorscale\": [[0.0, \"#0d0887\"], [0.1111111111111111, \"#46039f\"], [0.2222222222222222, \"#7201a8\"], [0.3333333333333333, \"#9c179e\"], [0.4444444444444444, \"#bd3786\"], [0.5555555555555556, \"#d8576b\"], [0.6666666666666666, \"#ed7953\"], [0.7777777777777778, \"#fb9f3a\"], [0.8888888888888888, \"#fdca26\"], [1.0, \"#f0f921\"]], \"type\": \"contour\"}], \"contourcarpet\": [{\"colorbar\": {\"outlinewidth\": 0, \"ticks\": \"\"}, \"type\": \"contourcarpet\"}], \"heatmap\": [{\"colorbar\": {\"outlinewidth\": 0, \"ticks\": \"\"}, \"colorscale\": [[0.0, \"#0d0887\"], [0.1111111111111111, \"#46039f\"], [0.2222222222222222, \"#7201a8\"], [0.3333333333333333, \"#9c179e\"], [0.4444444444444444, \"#bd3786\"], [0.5555555555555556, \"#d8576b\"], [0.6666666666666666, \"#ed7953\"], [0.7777777777777778, \"#fb9f3a\"], [0.8888888888888888, \"#fdca26\"], [1.0, \"#f0f921\"]], \"type\": \"heatmap\"}], \"heatmapgl\": [{\"colorbar\": {\"outlinewidth\": 0, \"ticks\": \"\"}, \"colorscale\": [[0.0, \"#0d0887\"], [0.1111111111111111, \"#46039f\"], [0.2222222222222222, \"#7201a8\"], [0.3333333333333333, \"#9c179e\"], [0.4444444444444444, \"#bd3786\"], [0.5555555555555556, \"#d8576b\"], [0.6666666666666666, \"#ed7953\"], [0.7777777777777778, \"#fb9f3a\"], [0.8888888888888888, \"#fdca26\"], [1.0, \"#f0f921\"]], \"type\": \"heatmapgl\"}], \"histogram\": [{\"marker\": {\"colorbar\": {\"outlinewidth\": 0, \"ticks\": \"\"}}, \"type\": \"histogram\"}], \"histogram2d\": [{\"colorbar\": {\"outlinewidth\": 0, \"ticks\": \"\"}, \"colorscale\": [[0.0, \"#0d0887\"], [0.1111111111111111, \"#46039f\"], [0.2222222222222222, \"#7201a8\"], [0.3333333333333333, \"#9c179e\"], [0.4444444444444444, \"#bd3786\"], [0.5555555555555556, \"#d8576b\"], [0.6666666666666666, \"#ed7953\"], [0.7777777777777778, \"#fb9f3a\"], [0.8888888888888888, \"#fdca26\"], [1.0, \"#f0f921\"]], \"type\": \"histogram2d\"}], \"histogram2dcontour\": [{\"colorbar\": {\"outlinewidth\": 0, \"ticks\": \"\"}, \"colorscale\": [[0.0, \"#0d0887\"], [0.1111111111111111, \"#46039f\"], [0.2222222222222222, \"#7201a8\"], [0.3333333333333333, \"#9c179e\"], [0.4444444444444444, \"#bd3786\"], [0.5555555555555556, \"#d8576b\"], [0.6666666666666666, \"#ed7953\"], [0.7777777777777778, \"#fb9f3a\"], [0.8888888888888888, \"#fdca26\"], [1.0, \"#f0f921\"]], \"type\": \"histogram2dcontour\"}], \"mesh3d\": [{\"colorbar\": {\"outlinewidth\": 0, \"ticks\": \"\"}, \"type\": \"mesh3d\"}], \"parcoords\": [{\"line\": {\"colorbar\": {\"outlinewidth\": 0, \"ticks\": \"\"}}, \"type\": \"parcoords\"}], \"pie\": [{\"automargin\": true, \"type\": \"pie\"}], \"scatter\": [{\"marker\": {\"colorbar\": {\"outlinewidth\": 0, \"ticks\": \"\"}}, \"type\": \"scatter\"}], \"scatter3d\": [{\"line\": {\"colorbar\": {\"outlinewidth\": 0, \"ticks\": \"\"}}, \"marker\": {\"colorbar\": {\"outlinewidth\": 0, \"ticks\": \"\"}}, \"type\": \"scatter3d\"}], \"scattercarpet\": [{\"marker\": {\"colorbar\": {\"outlinewidth\": 0, \"ticks\": \"\"}}, \"type\": \"scattercarpet\"}], \"scattergeo\": [{\"marker\": {\"colorbar\": {\"outlinewidth\": 0, \"ticks\": \"\"}}, \"type\": \"scattergeo\"}], \"scattergl\": [{\"marker\": {\"colorbar\": {\"outlinewidth\": 0, \"ticks\": \"\"}}, \"type\": \"scattergl\"}], \"scattermapbox\": [{\"marker\": {\"colorbar\": {\"outlinewidth\": 0, \"ticks\": \"\"}}, \"type\": \"scattermapbox\"}], \"scatterpolar\": [{\"marker\": {\"colorbar\": {\"outlinewidth\": 0, \"ticks\": \"\"}}, \"type\": \"scatterpolar\"}], \"scatterpolargl\": [{\"marker\": {\"colorbar\": {\"outlinewidth\": 0, \"ticks\": \"\"}}, \"type\": \"scatterpolargl\"}], \"scatterternary\": [{\"marker\": {\"colorbar\": {\"outlinewidth\": 0, \"ticks\": \"\"}}, \"type\": \"scatterternary\"}], \"surface\": [{\"colorbar\": {\"outlinewidth\": 0, \"ticks\": \"\"}, \"colorscale\": [[0.0, \"#0d0887\"], [0.1111111111111111, \"#46039f\"], [0.2222222222222222, \"#7201a8\"], [0.3333333333333333, \"#9c179e\"], [0.4444444444444444, \"#bd3786\"], [0.5555555555555556, \"#d8576b\"], [0.6666666666666666, \"#ed7953\"], [0.7777777777777778, \"#fb9f3a\"], [0.8888888888888888, \"#fdca26\"], [1.0, \"#f0f921\"]], \"type\": \"surface\"}], \"table\": [{\"cells\": {\"fill\": {\"color\": \"#EBF0F8\"}, \"line\": {\"color\": \"white\"}}, \"header\": {\"fill\": {\"color\": \"#C8D4E3\"}, \"line\": {\"color\": \"white\"}}, \"type\": \"table\"}]}, \"layout\": {\"annotationdefaults\": {\"arrowcolor\": \"#2a3f5f\", \"arrowhead\": 0, \"arrowwidth\": 1}, \"autotypenumbers\": \"strict\", \"coloraxis\": {\"colorbar\": {\"outlinewidth\": 0, \"ticks\": \"\"}}, \"colorscale\": {\"diverging\": [[0, \"#8e0152\"], [0.1, \"#c51b7d\"], [0.2, \"#de77ae\"], [0.3, \"#f1b6da\"], [0.4, \"#fde0ef\"], [0.5, \"#f7f7f7\"], [0.6, \"#e6f5d0\"], [0.7, \"#b8e186\"], [0.8, \"#7fbc41\"], [0.9, \"#4d9221\"], [1, \"#276419\"]], \"sequential\": [[0.0, \"#0d0887\"], [0.1111111111111111, \"#46039f\"], [0.2222222222222222, \"#7201a8\"], [0.3333333333333333, \"#9c179e\"], [0.4444444444444444, \"#bd3786\"], [0.5555555555555556, \"#d8576b\"], [0.6666666666666666, \"#ed7953\"], [0.7777777777777778, \"#fb9f3a\"], [0.8888888888888888, \"#fdca26\"], [1.0, \"#f0f921\"]], \"sequentialminus\": [[0.0, \"#0d0887\"], [0.1111111111111111, \"#46039f\"], [0.2222222222222222, \"#7201a8\"], [0.3333333333333333, \"#9c179e\"], [0.4444444444444444, \"#bd3786\"], [0.5555555555555556, \"#d8576b\"], [0.6666666666666666, \"#ed7953\"], [0.7777777777777778, \"#fb9f3a\"], [0.8888888888888888, \"#fdca26\"], [1.0, \"#f0f921\"]]}, \"colorway\": [\"#636efa\", \"#EF553B\", \"#00cc96\", \"#ab63fa\", \"#FFA15A\", \"#19d3f3\", \"#FF6692\", \"#B6E880\", \"#FF97FF\", \"#FECB52\"], \"font\": {\"color\": \"#2a3f5f\"}, \"geo\": {\"bgcolor\": \"white\", \"lakecolor\": \"white\", \"landcolor\": \"#E5ECF6\", \"showlakes\": true, \"showland\": true, \"subunitcolor\": \"white\"}, \"hoverlabel\": {\"align\": \"left\"}, \"hovermode\": \"closest\", \"mapbox\": {\"style\": \"light\"}, \"paper_bgcolor\": \"white\", \"plot_bgcolor\": \"#E5ECF6\", \"polar\": {\"angularaxis\": {\"gridcolor\": \"white\", \"linecolor\": \"white\", \"ticks\": \"\"}, \"bgcolor\": \"#E5ECF6\", \"radialaxis\": {\"gridcolor\": \"white\", \"linecolor\": \"white\", \"ticks\": \"\"}}, \"scene\": {\"xaxis\": {\"backgroundcolor\": \"#E5ECF6\", \"gridcolor\": \"white\", \"gridwidth\": 2, \"linecolor\": \"white\", \"showbackground\": true, \"ticks\": \"\", \"zerolinecolor\": \"white\"}, \"yaxis\": {\"backgroundcolor\": \"#E5ECF6\", \"gridcolor\": \"white\", \"gridwidth\": 2, \"linecolor\": \"white\", \"showbackground\": true, \"ticks\": \"\", \"zerolinecolor\": \"white\"}, \"zaxis\": {\"backgroundcolor\": \"#E5ECF6\", \"gridcolor\": \"white\", \"gridwidth\": 2, \"linecolor\": \"white\", \"showbackground\": true, \"ticks\": \"\", \"zerolinecolor\": \"white\"}}, \"shapedefaults\": {\"line\": {\"color\": \"#2a3f5f\"}}, \"ternary\": {\"aaxis\": {\"gridcolor\": \"white\", \"linecolor\": \"white\", \"ticks\": \"\"}, \"baxis\": {\"gridcolor\": \"white\", \"linecolor\": \"white\", \"ticks\": \"\"}, \"bgcolor\": \"#E5ECF6\", \"caxis\": {\"gridcolor\": \"white\", \"linecolor\": \"white\", \"ticks\": \"\"}}, \"title\": {\"x\": 0.05}, \"xaxis\": {\"automargin\": true, \"gridcolor\": \"white\", \"linecolor\": \"white\", \"ticks\": \"\", \"title\": {\"standoff\": 15}, \"zerolinecolor\": \"white\", \"zerolinewidth\": 2}, \"yaxis\": {\"automargin\": true, \"gridcolor\": \"white\", \"linecolor\": \"white\", \"ticks\": \"\", \"title\": {\"standoff\": 15}, \"zerolinecolor\": \"white\", \"zerolinewidth\": 2}}}, \"title\": {\"text\": \"Top and bottom 5 countries in South America\"}, \"xaxis\": {\"anchor\": \"y\", \"domain\": [0.0, 1.0], \"title\": {\"text\": \"Global Score 2021\"}}, \"yaxis\": {\"anchor\": \"x\", \"domain\": [0.0, 1.0], \"title\": {\"text\": \"Country\"}}},                        {\"responsive\": true}                    ).then(function(){\n",
       "                            \n",
       "var gd = document.getElementById('dc00e472-fe74-4f98-b239-06c9272df48d');\n",
       "var x = new MutationObserver(function (mutations, observer) {{\n",
       "        var display = window.getComputedStyle(gd).display;\n",
       "        if (!display || display === 'none') {{\n",
       "            console.log([gd, 'removed!']);\n",
       "            Plotly.purge(gd);\n",
       "            observer.disconnect();\n",
       "        }}\n",
       "}});\n",
       "\n",
       "// Listen for the removal of the full notebook cells\n",
       "var notebookContainer = gd.closest('#notebook-container');\n",
       "if (notebookContainer) {{\n",
       "    x.observe(notebookContainer, {childList: true});\n",
       "}}\n",
       "\n",
       "// Listen for the clearing of the current output cell\n",
       "var outputEl = gd.closest('.output');\n",
       "if (outputEl) {{\n",
       "    x.observe(outputEl, {childList: true});\n",
       "}}\n",
       "\n",
       "                        })                };                });            </script>        </div>"
      ]
     },
     "metadata": {},
     "output_type": "display_data"
    }
   ],
   "source": [
    "df = combined.loc[combined['Continent_Name'] == 'South America', :].sort_values(by='Global Score 2021', ascending=False)\n",
    "\n",
    "df = pd.concat([pd.DataFrame(df.head(5)), pd.DataFrame(df.tail(5))])\n",
    "\n",
    "fig = px.bar(\n",
    "    y=df['Country Name'],\n",
    "    x=df['Global Score 2021'],\n",
    "    orientation='h',\n",
    "    text=df['Global Score 2021'],\n",
    "    color=df['Global Score 2021'],\n",
    "    color_continuous_scale=color_scale,\n",
    "    range_color=[0, 100]\n",
    ")\n",
    "fig.update_layout(\n",
    "    title=\"Top and bottom 5 countries in South America\",\n",
    "    xaxis_title=\"Global Score 2021\",\n",
    "    yaxis_title=\"Country\",\n",
    "    coloraxis_showscale=False\n",
    ")\n",
    "fig.add_hline(y=4.5, line_width=1, line_dash=\"dash\")"
   ]
  },
  {
   "cell_type": "markdown",
   "id": "noticed-tension",
   "metadata": {
    "papermill": {
     "duration": 0.068045,
     "end_time": "2021-07-08T13:09:09.667518",
     "exception": false,
     "start_time": "2021-07-08T13:09:09.599473",
     "status": "completed"
    },
    "tags": []
   },
   "source": [
    "<h1 style=\"color:black;background-color:white;font-family: Helvetica, sans-serif; font-size:150%;text-align:center; font-weight: 500;\">South America's average Global Score is <span style=\"color: orange\">31.41</span>.</h1>"
   ]
  },
  {
   "cell_type": "markdown",
   "id": "weekly-webcam",
   "metadata": {
    "papermill": {
     "duration": 0.066252,
     "end_time": "2021-07-08T13:09:09.802316",
     "exception": false,
     "start_time": "2021-07-08T13:09:09.736064",
     "status": "completed"
    },
    "tags": []
   },
   "source": [
    "#### **Oceania**"
   ]
  },
  {
   "cell_type": "code",
   "execution_count": 22,
   "id": "daily-director",
   "metadata": {
    "_kg_hide-input": true,
    "execution": {
     "iopub.execute_input": "2021-07-08T13:09:09.944219Z",
     "iopub.status.busy": "2021-07-08T13:09:09.943317Z",
     "iopub.status.idle": "2021-07-08T13:09:09.947709Z",
     "shell.execute_reply": "2021-07-08T13:09:09.947108Z",
     "shell.execute_reply.started": "2021-07-08T13:03:21.833842Z"
    },
    "papermill": {
     "duration": 0.077904,
     "end_time": "2021-07-08T13:09:09.947869",
     "exception": false,
     "start_time": "2021-07-08T13:09:09.869965",
     "status": "completed"
    },
    "tags": []
   },
   "outputs": [
    {
     "data": {
      "text/html": [
       "<div class=\"flourish-embed flourish-map\" data-src=\"visualisation/6554273\" data-height=\"500px\"><script src=\"https://public.flourish.studio/resources/embed.js\"></script></div>"
      ],
      "text/plain": [
       "<IPython.core.display.HTML object>"
      ]
     },
     "execution_count": 22,
     "metadata": {},
     "output_type": "execute_result"
    }
   ],
   "source": [
    "HTML('''<div class=\"flourish-embed flourish-map\" data-src=\"visualisation/6554273\" data-height=\"500px\"><script src=\"https://public.flourish.studio/resources/embed.js\"></script></div>''')"
   ]
  },
  {
   "cell_type": "code",
   "execution_count": 23,
   "id": "inappropriate-dairy",
   "metadata": {
    "_kg_hide-input": true,
    "execution": {
     "iopub.execute_input": "2021-07-08T13:09:10.156110Z",
     "iopub.status.busy": "2021-07-08T13:09:10.131150Z",
     "iopub.status.idle": "2021-07-08T13:09:10.161388Z",
     "shell.execute_reply": "2021-07-08T13:09:10.161862Z",
     "shell.execute_reply.started": "2021-07-08T13:03:21.841816Z"
    },
    "papermill": {
     "duration": 0.147184,
     "end_time": "2021-07-08T13:09:10.162036",
     "exception": false,
     "start_time": "2021-07-08T13:09:10.014852",
     "status": "completed"
    },
    "tags": []
   },
   "outputs": [
    {
     "data": {
      "text/html": [
       "<div>                            <div id=\"405acf12-f978-4fe9-a876-329bb6161827\" class=\"plotly-graph-div\" style=\"height:525px; width:100%;\"></div>            <script type=\"text/javascript\">                require([\"plotly\"], function(Plotly) {                    window.PLOTLYENV=window.PLOTLYENV || {};                                    if (document.getElementById(\"405acf12-f978-4fe9-a876-329bb6161827\")) {                    Plotly.newPlot(                        \"405acf12-f978-4fe9-a876-329bb6161827\",                        [{\"alignmentgroup\": \"True\", \"hovertemplate\": \"x=%{x}<br>y=%{y}<br>text=%{text}<br>color=%{marker.color}<extra></extra>\", \"legendgroup\": \"\", \"marker\": {\"color\": [27.92, 24.88, 19.79, 10.04], \"coloraxis\": \"coloraxis\"}, \"name\": \"\", \"offsetgroup\": \"\", \"orientation\": \"h\", \"showlegend\": false, \"text\": [27.92, 24.88, 19.79, 10.04], \"textposition\": \"auto\", \"type\": \"bar\", \"x\": [27.92, 24.88, 19.79, 10.04], \"xaxis\": \"x\", \"y\": [\"Fiji\", \"Papua New Guinea\", \"Australia\", \"New Zealand\"], \"yaxis\": \"y\"}],                        {\"barmode\": \"relative\", \"coloraxis\": {\"cmax\": 100, \"cmin\": 0, \"colorbar\": {\"title\": {\"text\": \"color\"}}, \"colorscale\": [[0.0, \"#fff0ad\"], [0.3333333333333333, \"#ffc485\"], [0.6666666666666666, \"#d13f3f\"], [1.0, \"#ad0034\"]], \"showscale\": false}, \"legend\": {\"tracegroupgap\": 0}, \"margin\": {\"t\": 60}, \"template\": {\"data\": {\"bar\": [{\"error_x\": {\"color\": \"#2a3f5f\"}, \"error_y\": {\"color\": \"#2a3f5f\"}, \"marker\": {\"line\": {\"color\": \"#E5ECF6\", \"width\": 0.5}}, \"type\": \"bar\"}], \"barpolar\": [{\"marker\": {\"line\": {\"color\": \"#E5ECF6\", \"width\": 0.5}}, \"type\": \"barpolar\"}], \"carpet\": [{\"aaxis\": {\"endlinecolor\": \"#2a3f5f\", \"gridcolor\": \"white\", \"linecolor\": \"white\", \"minorgridcolor\": \"white\", \"startlinecolor\": \"#2a3f5f\"}, \"baxis\": {\"endlinecolor\": \"#2a3f5f\", \"gridcolor\": \"white\", \"linecolor\": \"white\", \"minorgridcolor\": \"white\", \"startlinecolor\": \"#2a3f5f\"}, \"type\": \"carpet\"}], \"choropleth\": [{\"colorbar\": {\"outlinewidth\": 0, \"ticks\": \"\"}, \"type\": \"choropleth\"}], \"contour\": [{\"colorbar\": {\"outlinewidth\": 0, \"ticks\": \"\"}, \"colorscale\": [[0.0, \"#0d0887\"], [0.1111111111111111, \"#46039f\"], [0.2222222222222222, \"#7201a8\"], [0.3333333333333333, \"#9c179e\"], [0.4444444444444444, \"#bd3786\"], [0.5555555555555556, \"#d8576b\"], [0.6666666666666666, \"#ed7953\"], [0.7777777777777778, \"#fb9f3a\"], [0.8888888888888888, \"#fdca26\"], [1.0, \"#f0f921\"]], \"type\": \"contour\"}], \"contourcarpet\": [{\"colorbar\": {\"outlinewidth\": 0, \"ticks\": \"\"}, \"type\": \"contourcarpet\"}], \"heatmap\": [{\"colorbar\": {\"outlinewidth\": 0, \"ticks\": \"\"}, \"colorscale\": [[0.0, \"#0d0887\"], [0.1111111111111111, \"#46039f\"], [0.2222222222222222, \"#7201a8\"], [0.3333333333333333, \"#9c179e\"], [0.4444444444444444, \"#bd3786\"], [0.5555555555555556, \"#d8576b\"], [0.6666666666666666, \"#ed7953\"], [0.7777777777777778, \"#fb9f3a\"], [0.8888888888888888, \"#fdca26\"], [1.0, \"#f0f921\"]], \"type\": \"heatmap\"}], \"heatmapgl\": [{\"colorbar\": {\"outlinewidth\": 0, \"ticks\": \"\"}, \"colorscale\": [[0.0, \"#0d0887\"], [0.1111111111111111, \"#46039f\"], [0.2222222222222222, \"#7201a8\"], [0.3333333333333333, \"#9c179e\"], [0.4444444444444444, \"#bd3786\"], [0.5555555555555556, \"#d8576b\"], [0.6666666666666666, \"#ed7953\"], [0.7777777777777778, \"#fb9f3a\"], [0.8888888888888888, \"#fdca26\"], [1.0, \"#f0f921\"]], \"type\": \"heatmapgl\"}], \"histogram\": [{\"marker\": {\"colorbar\": {\"outlinewidth\": 0, \"ticks\": \"\"}}, \"type\": \"histogram\"}], \"histogram2d\": [{\"colorbar\": {\"outlinewidth\": 0, \"ticks\": \"\"}, \"colorscale\": [[0.0, \"#0d0887\"], [0.1111111111111111, \"#46039f\"], [0.2222222222222222, \"#7201a8\"], [0.3333333333333333, \"#9c179e\"], [0.4444444444444444, \"#bd3786\"], [0.5555555555555556, \"#d8576b\"], [0.6666666666666666, \"#ed7953\"], [0.7777777777777778, \"#fb9f3a\"], [0.8888888888888888, \"#fdca26\"], [1.0, \"#f0f921\"]], \"type\": \"histogram2d\"}], \"histogram2dcontour\": [{\"colorbar\": {\"outlinewidth\": 0, \"ticks\": \"\"}, \"colorscale\": [[0.0, \"#0d0887\"], [0.1111111111111111, \"#46039f\"], [0.2222222222222222, \"#7201a8\"], [0.3333333333333333, \"#9c179e\"], [0.4444444444444444, \"#bd3786\"], [0.5555555555555556, \"#d8576b\"], [0.6666666666666666, \"#ed7953\"], [0.7777777777777778, \"#fb9f3a\"], [0.8888888888888888, \"#fdca26\"], [1.0, \"#f0f921\"]], \"type\": \"histogram2dcontour\"}], \"mesh3d\": [{\"colorbar\": {\"outlinewidth\": 0, \"ticks\": \"\"}, \"type\": \"mesh3d\"}], \"parcoords\": [{\"line\": {\"colorbar\": {\"outlinewidth\": 0, \"ticks\": \"\"}}, \"type\": \"parcoords\"}], \"pie\": [{\"automargin\": true, \"type\": \"pie\"}], \"scatter\": [{\"marker\": {\"colorbar\": {\"outlinewidth\": 0, \"ticks\": \"\"}}, \"type\": \"scatter\"}], \"scatter3d\": [{\"line\": {\"colorbar\": {\"outlinewidth\": 0, \"ticks\": \"\"}}, \"marker\": {\"colorbar\": {\"outlinewidth\": 0, \"ticks\": \"\"}}, \"type\": \"scatter3d\"}], \"scattercarpet\": [{\"marker\": {\"colorbar\": {\"outlinewidth\": 0, \"ticks\": \"\"}}, \"type\": \"scattercarpet\"}], \"scattergeo\": [{\"marker\": {\"colorbar\": {\"outlinewidth\": 0, \"ticks\": \"\"}}, \"type\": \"scattergeo\"}], \"scattergl\": [{\"marker\": {\"colorbar\": {\"outlinewidth\": 0, \"ticks\": \"\"}}, \"type\": \"scattergl\"}], \"scattermapbox\": [{\"marker\": {\"colorbar\": {\"outlinewidth\": 0, \"ticks\": \"\"}}, \"type\": \"scattermapbox\"}], \"scatterpolar\": [{\"marker\": {\"colorbar\": {\"outlinewidth\": 0, \"ticks\": \"\"}}, \"type\": \"scatterpolar\"}], \"scatterpolargl\": [{\"marker\": {\"colorbar\": {\"outlinewidth\": 0, \"ticks\": \"\"}}, \"type\": \"scatterpolargl\"}], \"scatterternary\": [{\"marker\": {\"colorbar\": {\"outlinewidth\": 0, \"ticks\": \"\"}}, \"type\": \"scatterternary\"}], \"surface\": [{\"colorbar\": {\"outlinewidth\": 0, \"ticks\": \"\"}, \"colorscale\": [[0.0, \"#0d0887\"], [0.1111111111111111, \"#46039f\"], [0.2222222222222222, \"#7201a8\"], [0.3333333333333333, \"#9c179e\"], [0.4444444444444444, \"#bd3786\"], [0.5555555555555556, \"#d8576b\"], [0.6666666666666666, \"#ed7953\"], [0.7777777777777778, \"#fb9f3a\"], [0.8888888888888888, \"#fdca26\"], [1.0, \"#f0f921\"]], \"type\": \"surface\"}], \"table\": [{\"cells\": {\"fill\": {\"color\": \"#EBF0F8\"}, \"line\": {\"color\": \"white\"}}, \"header\": {\"fill\": {\"color\": \"#C8D4E3\"}, \"line\": {\"color\": \"white\"}}, \"type\": \"table\"}]}, \"layout\": {\"annotationdefaults\": {\"arrowcolor\": \"#2a3f5f\", \"arrowhead\": 0, \"arrowwidth\": 1}, \"autotypenumbers\": \"strict\", \"coloraxis\": {\"colorbar\": {\"outlinewidth\": 0, \"ticks\": \"\"}}, \"colorscale\": {\"diverging\": [[0, \"#8e0152\"], [0.1, \"#c51b7d\"], [0.2, \"#de77ae\"], [0.3, \"#f1b6da\"], [0.4, \"#fde0ef\"], [0.5, \"#f7f7f7\"], [0.6, \"#e6f5d0\"], [0.7, \"#b8e186\"], [0.8, \"#7fbc41\"], [0.9, \"#4d9221\"], [1, \"#276419\"]], \"sequential\": [[0.0, \"#0d0887\"], [0.1111111111111111, \"#46039f\"], [0.2222222222222222, \"#7201a8\"], [0.3333333333333333, \"#9c179e\"], [0.4444444444444444, \"#bd3786\"], [0.5555555555555556, \"#d8576b\"], [0.6666666666666666, \"#ed7953\"], [0.7777777777777778, \"#fb9f3a\"], [0.8888888888888888, \"#fdca26\"], [1.0, \"#f0f921\"]], \"sequentialminus\": [[0.0, \"#0d0887\"], [0.1111111111111111, \"#46039f\"], [0.2222222222222222, \"#7201a8\"], [0.3333333333333333, \"#9c179e\"], [0.4444444444444444, \"#bd3786\"], [0.5555555555555556, \"#d8576b\"], [0.6666666666666666, \"#ed7953\"], [0.7777777777777778, \"#fb9f3a\"], [0.8888888888888888, \"#fdca26\"], [1.0, \"#f0f921\"]]}, \"colorway\": [\"#636efa\", \"#EF553B\", \"#00cc96\", \"#ab63fa\", \"#FFA15A\", \"#19d3f3\", \"#FF6692\", \"#B6E880\", \"#FF97FF\", \"#FECB52\"], \"font\": {\"color\": \"#2a3f5f\"}, \"geo\": {\"bgcolor\": \"white\", \"lakecolor\": \"white\", \"landcolor\": \"#E5ECF6\", \"showlakes\": true, \"showland\": true, \"subunitcolor\": \"white\"}, \"hoverlabel\": {\"align\": \"left\"}, \"hovermode\": \"closest\", \"mapbox\": {\"style\": \"light\"}, \"paper_bgcolor\": \"white\", \"plot_bgcolor\": \"#E5ECF6\", \"polar\": {\"angularaxis\": {\"gridcolor\": \"white\", \"linecolor\": \"white\", \"ticks\": \"\"}, \"bgcolor\": \"#E5ECF6\", \"radialaxis\": {\"gridcolor\": \"white\", \"linecolor\": \"white\", \"ticks\": \"\"}}, \"scene\": {\"xaxis\": {\"backgroundcolor\": \"#E5ECF6\", \"gridcolor\": \"white\", \"gridwidth\": 2, \"linecolor\": \"white\", \"showbackground\": true, \"ticks\": \"\", \"zerolinecolor\": \"white\"}, \"yaxis\": {\"backgroundcolor\": \"#E5ECF6\", \"gridcolor\": \"white\", \"gridwidth\": 2, \"linecolor\": \"white\", \"showbackground\": true, \"ticks\": \"\", \"zerolinecolor\": \"white\"}, \"zaxis\": {\"backgroundcolor\": \"#E5ECF6\", \"gridcolor\": \"white\", \"gridwidth\": 2, \"linecolor\": \"white\", \"showbackground\": true, \"ticks\": \"\", \"zerolinecolor\": \"white\"}}, \"shapedefaults\": {\"line\": {\"color\": \"#2a3f5f\"}}, \"ternary\": {\"aaxis\": {\"gridcolor\": \"white\", \"linecolor\": \"white\", \"ticks\": \"\"}, \"baxis\": {\"gridcolor\": \"white\", \"linecolor\": \"white\", \"ticks\": \"\"}, \"bgcolor\": \"#E5ECF6\", \"caxis\": {\"gridcolor\": \"white\", \"linecolor\": \"white\", \"ticks\": \"\"}}, \"title\": {\"x\": 0.05}, \"xaxis\": {\"automargin\": true, \"gridcolor\": \"white\", \"linecolor\": \"white\", \"ticks\": \"\", \"title\": {\"standoff\": 15}, \"zerolinecolor\": \"white\", \"zerolinewidth\": 2}, \"yaxis\": {\"automargin\": true, \"gridcolor\": \"white\", \"linecolor\": \"white\", \"ticks\": \"\", \"title\": {\"standoff\": 15}, \"zerolinecolor\": \"white\", \"zerolinewidth\": 2}}}, \"title\": {\"text\": \"Countries in Oceania\"}, \"xaxis\": {\"anchor\": \"y\", \"domain\": [0.0, 1.0], \"title\": {\"text\": \"Global Score 2021\"}}, \"yaxis\": {\"anchor\": \"x\", \"domain\": [0.0, 1.0], \"title\": {\"text\": \"Country\"}}},                        {\"responsive\": true}                    ).then(function(){\n",
       "                            \n",
       "var gd = document.getElementById('405acf12-f978-4fe9-a876-329bb6161827');\n",
       "var x = new MutationObserver(function (mutations, observer) {{\n",
       "        var display = window.getComputedStyle(gd).display;\n",
       "        if (!display || display === 'none') {{\n",
       "            console.log([gd, 'removed!']);\n",
       "            Plotly.purge(gd);\n",
       "            observer.disconnect();\n",
       "        }}\n",
       "}});\n",
       "\n",
       "// Listen for the removal of the full notebook cells\n",
       "var notebookContainer = gd.closest('#notebook-container');\n",
       "if (notebookContainer) {{\n",
       "    x.observe(notebookContainer, {childList: true});\n",
       "}}\n",
       "\n",
       "// Listen for the clearing of the current output cell\n",
       "var outputEl = gd.closest('.output');\n",
       "if (outputEl) {{\n",
       "    x.observe(outputEl, {childList: true});\n",
       "}}\n",
       "\n",
       "                        })                };                });            </script>        </div>"
      ]
     },
     "metadata": {},
     "output_type": "display_data"
    }
   ],
   "source": [
    "df = combined.loc[combined['Continent_Name'] == 'Oceania', :].sort_values(by='Global Score 2021', ascending=False)\n",
    "\n",
    "fig = px.bar(\n",
    "    y=df['Country Name'],\n",
    "    x=df['Global Score 2021'],\n",
    "    orientation='h',\n",
    "    text=df['Global Score 2021'],\n",
    "    color=df['Global Score 2021'],\n",
    "    color_continuous_scale=color_scale,\n",
    "    range_color=[0, 100]\n",
    ")\n",
    "\n",
    "fig.update_layout(\n",
    "    title=\"Countries in Oceania\",\n",
    "    xaxis_title=\"Global Score 2021\",\n",
    "    yaxis_title=\"Country\",\n",
    "    coloraxis_showscale=False\n",
    ")\n"
   ]
  },
  {
   "cell_type": "markdown",
   "id": "sustained-promise",
   "metadata": {
    "papermill": {
     "duration": 0.067393,
     "end_time": "2021-07-08T13:09:10.297439",
     "exception": false,
     "start_time": "2021-07-08T13:09:10.230046",
     "status": "completed"
    },
    "tags": []
   },
   "source": [
    "<h1 style=\"color:black;background-color:white;font-family: Helvetica, sans-serif; font-size:150%;text-align:center; font-weight: 500;\">Oceania's average Global Score is <span style=\"color: green\">20.66</span>.</h1>\n",
    "\n",
    "<h1 style=\"color:green;background-color:white;font-family: Helvetica, sans-serif; font-size:150%;text-align:center; font-weight: 500;\">This is the best average score among all continents!</h1>"
   ]
  },
  {
   "cell_type": "markdown",
   "id": "lasting-avatar",
   "metadata": {
    "papermill": {
     "duration": 0.065833,
     "end_time": "2021-07-08T13:09:10.428975",
     "exception": false,
     "start_time": "2021-07-08T13:09:10.363142",
     "status": "completed"
    },
    "tags": []
   },
   "source": [
    "### **Change across the years**"
   ]
  },
  {
   "cell_type": "markdown",
   "id": "average-footage",
   "metadata": {
    "papermill": {
     "duration": 0.065731,
     "end_time": "2021-07-08T13:09:10.560127",
     "exception": false,
     "start_time": "2021-07-08T13:09:10.494396",
     "status": "completed"
    },
    "tags": []
   },
   "source": [
    "<h1 style=\"color:black;background-color:white;font-family: Helvetica, sans-serif; font-size:150%;text-align:center; font-weight: 500;\">Next, we will investigate how various countries have changed in the last two years.</h1>"
   ]
  },
  {
   "cell_type": "code",
   "execution_count": 24,
   "id": "geological-allah",
   "metadata": {
    "_kg_hide-input": true,
    "execution": {
     "iopub.execute_input": "2021-07-08T13:09:10.697470Z",
     "iopub.status.busy": "2021-07-08T13:09:10.696465Z",
     "iopub.status.idle": "2021-07-08T13:09:10.701845Z",
     "shell.execute_reply": "2021-07-08T13:09:10.702449Z",
     "shell.execute_reply.started": "2021-07-08T13:03:21.902493Z"
    },
    "papermill": {
     "duration": 0.074332,
     "end_time": "2021-07-08T13:09:10.702618",
     "exception": false,
     "start_time": "2021-07-08T13:09:10.628286",
     "status": "completed"
    },
    "scrolled": true,
    "tags": []
   },
   "outputs": [
    {
     "data": {
      "text/html": [
       "<div class=\"flourish-embed flourish-map\" data-src=\"visualisation/6554682\"><script src=\"https://public.flourish.studio/resources/embed.js\"></script></div>"
      ],
      "text/plain": [
       "<IPython.core.display.HTML object>"
      ]
     },
     "execution_count": 24,
     "metadata": {},
     "output_type": "execute_result"
    }
   ],
   "source": [
    "HTML('''<div class=\"flourish-embed flourish-map\" data-src=\"visualisation/6554682\"><script src=\"https://public.flourish.studio/resources/embed.js\"></script></div>''')"
   ]
  },
  {
   "cell_type": "code",
   "execution_count": 25,
   "id": "included-gnome",
   "metadata": {
    "_kg_hide-input": true,
    "execution": {
     "iopub.execute_input": "2021-07-08T13:09:10.839693Z",
     "iopub.status.busy": "2021-07-08T13:09:10.838696Z",
     "iopub.status.idle": "2021-07-08T13:09:10.921587Z",
     "shell.execute_reply": "2021-07-08T13:09:10.920941Z",
     "shell.execute_reply.started": "2021-07-08T13:03:21.909896Z"
    },
    "papermill": {
     "duration": 0.152618,
     "end_time": "2021-07-08T13:09:10.921739",
     "exception": false,
     "start_time": "2021-07-08T13:09:10.769121",
     "status": "completed"
    },
    "scrolled": true,
    "tags": []
   },
   "outputs": [
    {
     "data": {
      "text/html": [
       "<div>                            <div id=\"6ab3833a-70d7-4df1-adf5-fa69875af822\" class=\"plotly-graph-div\" style=\"height:525px; width:100%;\"></div>            <script type=\"text/javascript\">                require([\"plotly\"], function(Plotly) {                    window.PLOTLYENV=window.PLOTLYENV || {};                                    if (document.getElementById(\"6ab3833a-70d7-4df1-adf5-fa69875af822\")) {                    Plotly.newPlot(                        \"6ab3833a-70d7-4df1-adf5-fa69875af822\",                        [{\"alignmentgroup\": \"True\", \"hovertemplate\": \"x=%{x}<br>y=%{y}<br>text=%{text}<br>color=%{marker.color}<extra></extra>\", \"legendgroup\": \"\", \"marker\": {\"color\": [8.29, 7.26, 6.44, 6.07, 4.45, -3.75, -5.32, -5.35, -5.41, -19.52], \"coloraxis\": \"coloraxis\"}, \"name\": \"\", \"offsetgroup\": \"\", \"orientation\": \"h\", \"showlegend\": false, \"text\": [8.29, 7.26, 6.44, 6.07, 4.45, -3.75, -5.32, -5.35, -5.41, -19.52], \"textposition\": \"auto\", \"type\": \"bar\", \"x\": [8.290000000000006, 7.260000000000005, 6.440000000000001, 6.070000000000007, 4.449999999999996, -3.75, -5.32, -5.350000000000001, -5.409999999999997, -19.520000000000003], \"xaxis\": \"x\", \"y\": [\"Iran\", \"Djibouti\", \"Benin\", \"Laos\", \"Nicaragua\", \"Seychelles\", \"Burundi\", \"Central African Republic\", \"Turkmenistan\", \"Sudan\"], \"yaxis\": \"y\"}],                        {\"barmode\": \"relative\", \"coloraxis\": {\"cmid\": 0, \"colorbar\": {\"title\": {\"text\": \"color\"}}, \"colorscale\": [[0.0, \"#0006a8\"], [0.3333333333333333, \"#0086cf\"], [0.6666666666666666, \"#ff7878\"], [1.0, \"#9e0000\"]], \"showscale\": false}, \"legend\": {\"tracegroupgap\": 0}, \"margin\": {\"t\": 60}, \"shapes\": [{\"line\": {\"dash\": \"dash\", \"width\": 1}, \"type\": \"line\", \"x0\": 0, \"x1\": 1, \"xref\": \"x domain\", \"y0\": 4.5, \"y1\": 4.5, \"yref\": \"y\"}], \"template\": {\"data\": {\"bar\": [{\"error_x\": {\"color\": \"#2a3f5f\"}, \"error_y\": {\"color\": \"#2a3f5f\"}, \"marker\": {\"line\": {\"color\": \"#E5ECF6\", \"width\": 0.5}}, \"type\": \"bar\"}], \"barpolar\": [{\"marker\": {\"line\": {\"color\": \"#E5ECF6\", \"width\": 0.5}}, \"type\": \"barpolar\"}], \"carpet\": [{\"aaxis\": {\"endlinecolor\": \"#2a3f5f\", \"gridcolor\": \"white\", \"linecolor\": \"white\", \"minorgridcolor\": \"white\", \"startlinecolor\": \"#2a3f5f\"}, \"baxis\": {\"endlinecolor\": \"#2a3f5f\", \"gridcolor\": \"white\", \"linecolor\": \"white\", \"minorgridcolor\": \"white\", \"startlinecolor\": \"#2a3f5f\"}, \"type\": \"carpet\"}], \"choropleth\": [{\"colorbar\": {\"outlinewidth\": 0, \"ticks\": \"\"}, \"type\": \"choropleth\"}], \"contour\": [{\"colorbar\": {\"outlinewidth\": 0, \"ticks\": \"\"}, \"colorscale\": [[0.0, \"#0d0887\"], [0.1111111111111111, \"#46039f\"], [0.2222222222222222, \"#7201a8\"], [0.3333333333333333, \"#9c179e\"], [0.4444444444444444, \"#bd3786\"], [0.5555555555555556, \"#d8576b\"], [0.6666666666666666, \"#ed7953\"], [0.7777777777777778, \"#fb9f3a\"], [0.8888888888888888, \"#fdca26\"], [1.0, \"#f0f921\"]], \"type\": \"contour\"}], \"contourcarpet\": [{\"colorbar\": {\"outlinewidth\": 0, \"ticks\": \"\"}, \"type\": \"contourcarpet\"}], \"heatmap\": [{\"colorbar\": {\"outlinewidth\": 0, \"ticks\": \"\"}, \"colorscale\": [[0.0, \"#0d0887\"], [0.1111111111111111, \"#46039f\"], [0.2222222222222222, \"#7201a8\"], [0.3333333333333333, \"#9c179e\"], [0.4444444444444444, \"#bd3786\"], [0.5555555555555556, \"#d8576b\"], [0.6666666666666666, \"#ed7953\"], [0.7777777777777778, \"#fb9f3a\"], [0.8888888888888888, \"#fdca26\"], [1.0, \"#f0f921\"]], \"type\": \"heatmap\"}], \"heatmapgl\": [{\"colorbar\": {\"outlinewidth\": 0, \"ticks\": \"\"}, \"colorscale\": [[0.0, \"#0d0887\"], [0.1111111111111111, \"#46039f\"], [0.2222222222222222, \"#7201a8\"], [0.3333333333333333, \"#9c179e\"], [0.4444444444444444, \"#bd3786\"], [0.5555555555555556, \"#d8576b\"], [0.6666666666666666, \"#ed7953\"], [0.7777777777777778, \"#fb9f3a\"], [0.8888888888888888, \"#fdca26\"], [1.0, \"#f0f921\"]], \"type\": \"heatmapgl\"}], \"histogram\": [{\"marker\": {\"colorbar\": {\"outlinewidth\": 0, \"ticks\": \"\"}}, \"type\": \"histogram\"}], \"histogram2d\": [{\"colorbar\": {\"outlinewidth\": 0, \"ticks\": \"\"}, \"colorscale\": [[0.0, \"#0d0887\"], [0.1111111111111111, \"#46039f\"], [0.2222222222222222, \"#7201a8\"], [0.3333333333333333, \"#9c179e\"], [0.4444444444444444, \"#bd3786\"], [0.5555555555555556, \"#d8576b\"], [0.6666666666666666, \"#ed7953\"], [0.7777777777777778, \"#fb9f3a\"], [0.8888888888888888, \"#fdca26\"], [1.0, \"#f0f921\"]], \"type\": \"histogram2d\"}], \"histogram2dcontour\": [{\"colorbar\": {\"outlinewidth\": 0, \"ticks\": \"\"}, \"colorscale\": [[0.0, \"#0d0887\"], [0.1111111111111111, \"#46039f\"], [0.2222222222222222, \"#7201a8\"], [0.3333333333333333, \"#9c179e\"], [0.4444444444444444, \"#bd3786\"], [0.5555555555555556, \"#d8576b\"], [0.6666666666666666, \"#ed7953\"], [0.7777777777777778, \"#fb9f3a\"], [0.8888888888888888, \"#fdca26\"], [1.0, \"#f0f921\"]], \"type\": \"histogram2dcontour\"}], \"mesh3d\": [{\"colorbar\": {\"outlinewidth\": 0, \"ticks\": \"\"}, \"type\": \"mesh3d\"}], \"parcoords\": [{\"line\": {\"colorbar\": {\"outlinewidth\": 0, \"ticks\": \"\"}}, \"type\": \"parcoords\"}], \"pie\": [{\"automargin\": true, \"type\": \"pie\"}], \"scatter\": [{\"marker\": {\"colorbar\": {\"outlinewidth\": 0, \"ticks\": \"\"}}, \"type\": \"scatter\"}], \"scatter3d\": [{\"line\": {\"colorbar\": {\"outlinewidth\": 0, \"ticks\": \"\"}}, \"marker\": {\"colorbar\": {\"outlinewidth\": 0, \"ticks\": \"\"}}, \"type\": \"scatter3d\"}], \"scattercarpet\": [{\"marker\": {\"colorbar\": {\"outlinewidth\": 0, \"ticks\": \"\"}}, \"type\": \"scattercarpet\"}], \"scattergeo\": [{\"marker\": {\"colorbar\": {\"outlinewidth\": 0, \"ticks\": \"\"}}, \"type\": \"scattergeo\"}], \"scattergl\": [{\"marker\": {\"colorbar\": {\"outlinewidth\": 0, \"ticks\": \"\"}}, \"type\": \"scattergl\"}], \"scattermapbox\": [{\"marker\": {\"colorbar\": {\"outlinewidth\": 0, \"ticks\": \"\"}}, \"type\": \"scattermapbox\"}], \"scatterpolar\": [{\"marker\": {\"colorbar\": {\"outlinewidth\": 0, \"ticks\": \"\"}}, \"type\": \"scatterpolar\"}], \"scatterpolargl\": [{\"marker\": {\"colorbar\": {\"outlinewidth\": 0, \"ticks\": \"\"}}, \"type\": \"scatterpolargl\"}], \"scatterternary\": [{\"marker\": {\"colorbar\": {\"outlinewidth\": 0, \"ticks\": \"\"}}, \"type\": \"scatterternary\"}], \"surface\": [{\"colorbar\": {\"outlinewidth\": 0, \"ticks\": \"\"}, \"colorscale\": [[0.0, \"#0d0887\"], [0.1111111111111111, \"#46039f\"], [0.2222222222222222, \"#7201a8\"], [0.3333333333333333, \"#9c179e\"], [0.4444444444444444, \"#bd3786\"], [0.5555555555555556, \"#d8576b\"], [0.6666666666666666, \"#ed7953\"], [0.7777777777777778, \"#fb9f3a\"], [0.8888888888888888, \"#fdca26\"], [1.0, \"#f0f921\"]], \"type\": \"surface\"}], \"table\": [{\"cells\": {\"fill\": {\"color\": \"#EBF0F8\"}, \"line\": {\"color\": \"white\"}}, \"header\": {\"fill\": {\"color\": \"#C8D4E3\"}, \"line\": {\"color\": \"white\"}}, \"type\": \"table\"}]}, \"layout\": {\"annotationdefaults\": {\"arrowcolor\": \"#2a3f5f\", \"arrowhead\": 0, \"arrowwidth\": 1}, \"autotypenumbers\": \"strict\", \"coloraxis\": {\"colorbar\": {\"outlinewidth\": 0, \"ticks\": \"\"}}, \"colorscale\": {\"diverging\": [[0, \"#8e0152\"], [0.1, \"#c51b7d\"], [0.2, \"#de77ae\"], [0.3, \"#f1b6da\"], [0.4, \"#fde0ef\"], [0.5, \"#f7f7f7\"], [0.6, \"#e6f5d0\"], [0.7, \"#b8e186\"], [0.8, \"#7fbc41\"], [0.9, \"#4d9221\"], [1, \"#276419\"]], \"sequential\": [[0.0, \"#0d0887\"], [0.1111111111111111, \"#46039f\"], [0.2222222222222222, \"#7201a8\"], [0.3333333333333333, \"#9c179e\"], [0.4444444444444444, \"#bd3786\"], [0.5555555555555556, \"#d8576b\"], [0.6666666666666666, \"#ed7953\"], [0.7777777777777778, \"#fb9f3a\"], [0.8888888888888888, \"#fdca26\"], [1.0, \"#f0f921\"]], \"sequentialminus\": [[0.0, \"#0d0887\"], [0.1111111111111111, \"#46039f\"], [0.2222222222222222, \"#7201a8\"], [0.3333333333333333, \"#9c179e\"], [0.4444444444444444, \"#bd3786\"], [0.5555555555555556, \"#d8576b\"], [0.6666666666666666, \"#ed7953\"], [0.7777777777777778, \"#fb9f3a\"], [0.8888888888888888, \"#fdca26\"], [1.0, \"#f0f921\"]]}, \"colorway\": [\"#636efa\", \"#EF553B\", \"#00cc96\", \"#ab63fa\", \"#FFA15A\", \"#19d3f3\", \"#FF6692\", \"#B6E880\", \"#FF97FF\", \"#FECB52\"], \"font\": {\"color\": \"#2a3f5f\"}, \"geo\": {\"bgcolor\": \"white\", \"lakecolor\": \"white\", \"landcolor\": \"#E5ECF6\", \"showlakes\": true, \"showland\": true, \"subunitcolor\": \"white\"}, \"hoverlabel\": {\"align\": \"left\"}, \"hovermode\": \"closest\", \"mapbox\": {\"style\": \"light\"}, \"paper_bgcolor\": \"white\", \"plot_bgcolor\": \"#E5ECF6\", \"polar\": {\"angularaxis\": {\"gridcolor\": \"white\", \"linecolor\": \"white\", \"ticks\": \"\"}, \"bgcolor\": \"#E5ECF6\", \"radialaxis\": {\"gridcolor\": \"white\", \"linecolor\": \"white\", \"ticks\": \"\"}}, \"scene\": {\"xaxis\": {\"backgroundcolor\": \"#E5ECF6\", \"gridcolor\": \"white\", \"gridwidth\": 2, \"linecolor\": \"white\", \"showbackground\": true, \"ticks\": \"\", \"zerolinecolor\": \"white\"}, \"yaxis\": {\"backgroundcolor\": \"#E5ECF6\", \"gridcolor\": \"white\", \"gridwidth\": 2, \"linecolor\": \"white\", \"showbackground\": true, \"ticks\": \"\", \"zerolinecolor\": \"white\"}, \"zaxis\": {\"backgroundcolor\": \"#E5ECF6\", \"gridcolor\": \"white\", \"gridwidth\": 2, \"linecolor\": \"white\", \"showbackground\": true, \"ticks\": \"\", \"zerolinecolor\": \"white\"}}, \"shapedefaults\": {\"line\": {\"color\": \"#2a3f5f\"}}, \"ternary\": {\"aaxis\": {\"gridcolor\": \"white\", \"linecolor\": \"white\", \"ticks\": \"\"}, \"baxis\": {\"gridcolor\": \"white\", \"linecolor\": \"white\", \"ticks\": \"\"}, \"bgcolor\": \"#E5ECF6\", \"caxis\": {\"gridcolor\": \"white\", \"linecolor\": \"white\", \"ticks\": \"\"}}, \"title\": {\"x\": 0.05}, \"xaxis\": {\"automargin\": true, \"gridcolor\": \"white\", \"linecolor\": \"white\", \"ticks\": \"\", \"title\": {\"standoff\": 15}, \"zerolinecolor\": \"white\", \"zerolinewidth\": 2}, \"yaxis\": {\"automargin\": true, \"gridcolor\": \"white\", \"linecolor\": \"white\", \"ticks\": \"\", \"title\": {\"standoff\": 15}, \"zerolinecolor\": \"white\", \"zerolinewidth\": 2}}}, \"title\": {\"text\": \"Top 5 score improvements and deteroriations\"}, \"xaxis\": {\"anchor\": \"y\", \"domain\": [0.0, 1.0], \"title\": {\"text\": \"Change\"}}, \"yaxis\": {\"anchor\": \"x\", \"domain\": [0.0, 1.0], \"title\": {\"text\": \"Country\"}}},                        {\"responsive\": true}                    ).then(function(){\n",
       "                            \n",
       "var gd = document.getElementById('6ab3833a-70d7-4df1-adf5-fa69875af822');\n",
       "var x = new MutationObserver(function (mutations, observer) {{\n",
       "        var display = window.getComputedStyle(gd).display;\n",
       "        if (!display || display === 'none') {{\n",
       "            console.log([gd, 'removed!']);\n",
       "            Plotly.purge(gd);\n",
       "            observer.disconnect();\n",
       "        }}\n",
       "}});\n",
       "\n",
       "// Listen for the removal of the full notebook cells\n",
       "var notebookContainer = gd.closest('#notebook-container');\n",
       "if (notebookContainer) {{\n",
       "    x.observe(notebookContainer, {childList: true});\n",
       "}}\n",
       "\n",
       "// Listen for the clearing of the current output cell\n",
       "var outputEl = gd.closest('.output');\n",
       "if (outputEl) {{\n",
       "    x.observe(outputEl, {childList: true});\n",
       "}}\n",
       "\n",
       "                        })                };                });            </script>        </div>"
      ]
     },
     "metadata": {},
     "output_type": "display_data"
    }
   ],
   "source": [
    "df = combined.sort_values(by='Change', ascending=False)\n",
    "\n",
    "df = pd.concat([pd.DataFrame(df.head(5)), pd.DataFrame(df.tail(5))])\n",
    "\n",
    "# Change Laos' display name for readability\n",
    "df.loc[df['Country Name'] == 'Lao People\\'s Democratic Republic',\n",
    "       'Country Name'] = 'Laos'\n",
    "\n",
    "fig = px.bar(\n",
    "    y=df['Country Name'],\n",
    "    x=df['Change'],\n",
    "    orientation='h',\n",
    "    text=round(df['Change'], 2),\n",
    "    color=round(df['Change'], 2),\n",
    "    color_continuous_scale=color_scale_change,\n",
    "    color_continuous_midpoint=0\n",
    ")\n",
    "\n",
    "fig.update_layout(\n",
    "    title=\"Top 5 score improvements and deteroriations\",\n",
    "    xaxis_title=\"Change\",\n",
    "    yaxis_title=\"Country\",\n",
    "    coloraxis_showscale=False\n",
    ")\n",
    "fig.add_hline(y=4.5, line_width=1, line_dash=\"dash\")"
   ]
  },
  {
   "cell_type": "markdown",
   "id": "caroline-briefs",
   "metadata": {
    "papermill": {
     "duration": 0.068834,
     "end_time": "2021-07-08T13:09:11.057854",
     "exception": false,
     "start_time": "2021-07-08T13:09:10.989020",
     "status": "completed"
    },
    "tags": []
   },
   "source": [
    "<h1 style=\"color:black;background-color:white;font-family: Helvetica, sans-serif; font-size:150%;text-align:center; font-weight: 500;\"><span style=\"color: blue\">Sudan</span> - a country in Africa - has experienced (by a huge margin) the largest change in the world, improving it's very poor score of <span style=\"color: red\">72.45</span> by <span style=\"color: green\">almost 20</span> points over the last 2 years! </h1>\n",
    "\n",
    "<h1 style=\"color:black;background-color:white;font-family: Helvetica, sans-serif; font-size:150%;text-align:center; font-weight: 500;\">Meanwhile, the Islamic theocracy of <span style=\"color: blue\">Iran</span>, has experienced the largest fall of <span style=\"color: red\">8.29</span> points in relation to it's score from 2019.</h1>"
   ]
  },
  {
   "cell_type": "markdown",
   "id": "frank-palestine",
   "metadata": {
    "papermill": {
     "duration": 0.066931,
     "end_time": "2021-07-08T13:09:11.193453",
     "exception": false,
     "start_time": "2021-07-08T13:09:11.126522",
     "status": "completed"
    },
    "tags": []
   },
   "source": [
    "## **Government forms and freedom of press**"
   ]
  },
  {
   "cell_type": "markdown",
   "id": "brazilian-surname",
   "metadata": {
    "papermill": {
     "duration": 0.066619,
     "end_time": "2021-07-08T13:09:11.326972",
     "exception": false,
     "start_time": "2021-07-08T13:09:11.260353",
     "status": "completed"
    },
    "tags": []
   },
   "source": [
    "<h1 style=\"color:black;background-color:white;font-family: Helvetica, sans-serif; font-size:150%;text-align:center; font-weight: 500;\">Political regimes deeply influence the daily lives of people around the world. Official laws and local customs vary greatly from country to country, leading to great gaps in standards of living and personal freedoms.</h1>\n",
    "\n",
    "<h1 style=\"color:black;background-color:white;font-family: Helvetica, sans-serif; font-size:150%;text-align:center; font-weight: 500;\">Let's explore how much those societal and political differences influence <span style=\"color: blue\">freedom of press</span>.</h1>"
   ]
  },
  {
   "cell_type": "code",
   "execution_count": 26,
   "id": "israeli-piano",
   "metadata": {
    "_kg_hide-input": true,
    "_kg_hide-output": true,
    "execution": {
     "iopub.execute_input": "2021-07-08T13:09:11.467005Z",
     "iopub.status.busy": "2021-07-08T13:09:11.465990Z",
     "iopub.status.idle": "2021-07-08T13:09:11.473989Z",
     "shell.execute_reply": "2021-07-08T13:09:11.473387Z",
     "shell.execute_reply.started": "2021-07-08T13:03:21.977734Z"
    },
    "papermill": {
     "duration": 0.079694,
     "end_time": "2021-07-08T13:09:11.474129",
     "exception": false,
     "start_time": "2021-07-08T13:09:11.394435",
     "status": "completed"
    },
    "scrolled": true,
    "tags": []
   },
   "outputs": [
    {
     "name": "stdout",
     "output_type": "stream",
     "text": [
      "government\n",
      "Dominant Party                    45.984000\n",
      "Foreign/Occupied                  24.095000\n",
      "Military                          45.680000\n",
      "Military-Personal                 42.045000\n",
      "Monarchy                          42.870833\n",
      "Parliamentary Democracy           24.535672\n",
      "Party-Military                    50.660000\n",
      "Party-Personal                    60.726250\n",
      "Party-Personal-Military Hybrid    70.630000\n",
      "Personal Dictatorship             48.348125\n",
      "Presidential Democracy            31.775660\n",
      "Provisional - Civilian            54.710000\n",
      "Provisional - Military            36.850000\n",
      "Warlordism                        62.350000\n",
      "Name: Global Score 2021, dtype: float64\n"
     ]
    }
   ],
   "source": [
    "# avg. score by regime\n",
    "print(combined_no_continents.groupby('government')['Global Score 2021'].mean())"
   ]
  },
  {
   "cell_type": "code",
   "execution_count": 27,
   "id": "expensive-blind",
   "metadata": {
    "_kg_hide-input": true,
    "_kg_hide-output": true,
    "execution": {
     "iopub.execute_input": "2021-07-08T13:09:11.613622Z",
     "iopub.status.busy": "2021-07-08T13:09:11.612572Z",
     "iopub.status.idle": "2021-07-08T13:09:11.620842Z",
     "shell.execute_reply": "2021-07-08T13:09:11.620244Z",
     "shell.execute_reply.started": "2021-07-08T13:03:21.987311Z"
    },
    "papermill": {
     "duration": 0.078769,
     "end_time": "2021-07-08T13:09:11.620996",
     "exception": false,
     "start_time": "2021-07-08T13:09:11.542227",
     "status": "completed"
    },
    "tags": []
   },
   "outputs": [
    {
     "name": "stdout",
     "output_type": "stream",
     "text": [
      "gov_democracy\n",
      "Democracy        27.733333\n",
      "Non-Democracy    47.826154\n",
      "Name: Global Score 2021, dtype: float64\n"
     ]
    }
   ],
   "source": [
    "# avg. score by demo/non-demo\n",
    "print(combined_no_continents.groupby(\n",
    "    'gov_democracy')['Global Score 2021'].mean())"
   ]
  },
  {
   "cell_type": "markdown",
   "id": "electric-concept",
   "metadata": {
    "papermill": {
     "duration": 0.066797,
     "end_time": "2021-07-08T13:09:11.755692",
     "exception": false,
     "start_time": "2021-07-08T13:09:11.688895",
     "status": "completed"
    },
    "tags": []
   },
   "source": [
    "### **Governments of the world**"
   ]
  },
  {
   "cell_type": "code",
   "execution_count": 28,
   "id": "traditional-friendly",
   "metadata": {
    "_kg_hide-input": true,
    "execution": {
     "iopub.execute_input": "2021-07-08T13:09:11.897093Z",
     "iopub.status.busy": "2021-07-08T13:09:11.896426Z",
     "iopub.status.idle": "2021-07-08T13:09:11.899864Z",
     "shell.execute_reply": "2021-07-08T13:09:11.899341Z",
     "shell.execute_reply.started": "2021-07-08T13:03:21.996612Z"
    },
    "papermill": {
     "duration": 0.075619,
     "end_time": "2021-07-08T13:09:11.900007",
     "exception": false,
     "start_time": "2021-07-08T13:09:11.824388",
     "status": "completed"
    },
    "tags": []
   },
   "outputs": [
    {
     "data": {
      "text/html": [
       "<div class=\"flourish-embed flourish-map\" data-src=\"visualisation/6607609\"><script src=\"https://public.flourish.studio/resources/embed.js\"></script></div>"
      ],
      "text/plain": [
       "<IPython.core.display.HTML object>"
      ]
     },
     "execution_count": 28,
     "metadata": {},
     "output_type": "execute_result"
    }
   ],
   "source": [
    "HTML('''<div class=\"flourish-embed flourish-map\" data-src=\"visualisation/6607609\"><script src=\"https://public.flourish.studio/resources/embed.js\"></script></div>''')"
   ]
  },
  {
   "cell_type": "code",
   "execution_count": 29,
   "id": "particular-funds",
   "metadata": {
    "_kg_hide-input": true,
    "execution": {
     "iopub.execute_input": "2021-07-08T13:09:12.065161Z",
     "iopub.status.busy": "2021-07-08T13:09:12.064061Z",
     "iopub.status.idle": "2021-07-08T13:09:12.244294Z",
     "shell.execute_reply": "2021-07-08T13:09:12.243712Z",
     "shell.execute_reply.started": "2021-07-08T13:03:22.007020Z"
    },
    "papermill": {
     "duration": 0.277017,
     "end_time": "2021-07-08T13:09:12.244453",
     "exception": false,
     "start_time": "2021-07-08T13:09:11.967436",
     "status": "completed"
    },
    "tags": []
   },
   "outputs": [
    {
     "data": {
      "text/html": [
       "<div>                            <div id=\"09a9c596-7db4-4d62-acef-a004765ebd70\" class=\"plotly-graph-div\" style=\"height:750px; width:950px;\"></div>            <script type=\"text/javascript\">                require([\"plotly\"], function(Plotly) {                    window.PLOTLYENV=window.PLOTLYENV || {};                                    if (document.getElementById(\"09a9c596-7db4-4d62-acef-a004765ebd70\")) {                    Plotly.newPlot(                        \"09a9c596-7db4-4d62-acef-a004765ebd70\",                        [{\"branchvalues\": \"total\", \"customdata\": [[\"Dominant Party\"], [\"Foreign/Occupied\"], [\"Military\"], [\"Military-Personal\"], [\"Parliamentary Democracy\"], [\"Party-Military\"], [\"Party-Personal\"], [\"Personal Dictatorship\"], [\"Presidential Democracy\"], [\"Provisional - Civilian\"], [\"Provisional - Military\"], [\"Warlordism\"], [\"(?)\"], [\"(?)\"], [\"Monarchy\"], [\"Party-Personal-Military Hybrid\"]], \"domain\": {\"x\": [0.0, 1.0], \"y\": [0.0, 1.0]}, \"hovertemplate\": \"labels=%{label}<br>count=%{value}<br>parent=%{parent}<br>id=%{id}<br>government=%{customdata[0]}<extra></extra>\", \"ids\": [\"Non-Democracy/Dominant Party\", \"Non-Democracy/Foreign/Occupied\", \"Non-Democracy/Military\", \"Non-Democracy/Military-Personal\", \"Democracy/Parliamentary Democracy\", \"Non-Democracy/Party-Military\", \"Non-Democracy/Party-Personal\", \"Non-Democracy/Personal Dictatorship\", \"Democracy/Presidential Democracy\", \"Non-Democracy/Provisional - Civilian\", \"Non-Democracy/Provisional - Military\", \"Non-Democracy/Warlordism\", \"Democracy\", \"Non-Democracy\", \"Non-Democracy/Monarchy\", \"Non-Democracy/Party-Personal-Military Hybrid\"], \"labels\": [\"Dominant Party\", \"Foreign/Occupied\", \"Military\", \"Military-Personal\", \"Parliamentary Democracy\", \"Party-Military\", \"Party-Personal\", \"Personal Dictatorship\", \"Presidential Democracy\", \"Provisional - Civilian\", \"Provisional - Military\", \"Warlordism\", \"Democracy\", \"Non-Democracy\", \"Monarchy\", \"Party-Personal-Military Hybrid\"], \"marker\": {\"colors\": [\"#400080\", \"#91ff00\", \"#144700\", \"#520101\", \"#4fb0ff\", \"#f4fc4c\", \"#3d9c6b\", \"#916d00\", \"#0564b3\", \"#c27670\", \"#859100\", \"#eb0000\", \"#cfcecc\", \"#cfcecc\", \"#ab006c\", \"#eb8d00\"]}, \"name\": \"\", \"parents\": [\"Non-Democracy\", \"Non-Democracy\", \"Non-Democracy\", \"Non-Democracy\", \"Democracy\", \"Non-Democracy\", \"Non-Democracy\", \"Non-Democracy\", \"Democracy\", \"Non-Democracy\", \"Non-Democracy\", \"Non-Democracy\", \"\", \"\", \"Non-Democracy\", \"Non-Democracy\"], \"rotation\": 0, \"textinfo\": \"label+percent entry\", \"type\": \"sunburst\", \"values\": [15, 2, 2, 2, 67, 1, 8, 16, 53, 3, 2, 1, 120, 65, 12, 1]}],                        {\"annotations\": [{\"arrowhead\": 0, \"ax\": 0.86, \"axref\": \"x\", \"ay\": 0.28, \"ayref\": \"y\", \"showarrow\": true, \"text\": \"Provisional - Civilian 2%\", \"x\": 0.86, \"xanchor\": \"left\", \"xref\": \"x\", \"y\": 0.28, \"yref\": \"y\"}, {\"arrowhead\": 0, \"ax\": 0.87, \"axref\": \"x\", \"ay\": 0.32, \"ayref\": \"y\", \"showarrow\": true, \"text\": \"Foreign/Occupied 1%\", \"x\": 0.87, \"xanchor\": \"left\", \"xref\": \"x\", \"y\": 0.32, \"yref\": \"y\"}, {\"arrowhead\": 0, \"ax\": 0.88, \"axref\": \"x\", \"ay\": 0.36, \"ayref\": \"y\", \"showarrow\": true, \"text\": \"Military 1%\", \"x\": 0.88, \"xanchor\": \"left\", \"xref\": \"x\", \"y\": 0.36, \"yref\": \"y\"}, {\"arrowhead\": 0, \"ax\": 0.885, \"axref\": \"x\", \"ay\": 0.395, \"ayref\": \"y\", \"showarrow\": true, \"text\": \"Military-Personal 1%\", \"x\": 0.885, \"xanchor\": \"left\", \"xref\": \"x\", \"y\": 0.395, \"yref\": \"y\"}, {\"arrowhead\": 0, \"ax\": 0.89, \"axref\": \"x\", \"ay\": 0.428, \"ayref\": \"y\", \"showarrow\": true, \"text\": \"Provisional - Military 1%\", \"x\": 0.89, \"xanchor\": \"left\", \"xref\": \"x\", \"y\": 0.428, \"yref\": \"y\"}, {\"arrowhead\": 0, \"ax\": 0.9, \"axref\": \"x\", \"ay\": 0.455, \"ayref\": \"y\", \"showarrow\": true, \"text\": \"Party-Military 1%\", \"x\": 0.877, \"xanchor\": \"left\", \"xref\": \"x\", \"y\": 0.46, \"yref\": \"y\"}, {\"arrowhead\": 0, \"ax\": 0.9, \"axref\": \"x\", \"ay\": 0.48, \"ayref\": \"y\", \"showarrow\": true, \"text\": \"Warlordism 1%\", \"x\": 0.878, \"xanchor\": \"left\", \"xref\": \"x\", \"y\": 0.475, \"yref\": \"y\"}, {\"arrowhead\": 0, \"ax\": 0.9, \"axref\": \"x\", \"ay\": 0.52, \"ayref\": \"y\", \"showarrow\": true, \"text\": \"Party-Personal-Military <br> Hybrid 1%\", \"x\": 0.879, \"xanchor\": \"left\", \"xref\": \"x\", \"y\": 0.49, \"yref\": \"y\"}], \"height\": 750, \"legend\": {\"tracegroupgap\": 0}, \"margin\": {\"t\": 60}, \"plot_bgcolor\": \"rgba(0,0,0,0)\", \"template\": {\"data\": {\"bar\": [{\"error_x\": {\"color\": \"#2a3f5f\"}, \"error_y\": {\"color\": \"#2a3f5f\"}, \"marker\": {\"line\": {\"color\": \"#E5ECF6\", \"width\": 0.5}}, \"type\": \"bar\"}], \"barpolar\": [{\"marker\": {\"line\": {\"color\": \"#E5ECF6\", \"width\": 0.5}}, \"type\": \"barpolar\"}], \"carpet\": [{\"aaxis\": {\"endlinecolor\": \"#2a3f5f\", \"gridcolor\": \"white\", \"linecolor\": \"white\", \"minorgridcolor\": \"white\", \"startlinecolor\": \"#2a3f5f\"}, \"baxis\": {\"endlinecolor\": \"#2a3f5f\", \"gridcolor\": \"white\", \"linecolor\": \"white\", \"minorgridcolor\": \"white\", \"startlinecolor\": \"#2a3f5f\"}, \"type\": \"carpet\"}], \"choropleth\": [{\"colorbar\": {\"outlinewidth\": 0, \"ticks\": \"\"}, \"type\": \"choropleth\"}], \"contour\": [{\"colorbar\": {\"outlinewidth\": 0, \"ticks\": \"\"}, \"colorscale\": [[0.0, \"#0d0887\"], [0.1111111111111111, \"#46039f\"], [0.2222222222222222, \"#7201a8\"], [0.3333333333333333, \"#9c179e\"], [0.4444444444444444, \"#bd3786\"], [0.5555555555555556, \"#d8576b\"], [0.6666666666666666, \"#ed7953\"], [0.7777777777777778, \"#fb9f3a\"], [0.8888888888888888, \"#fdca26\"], [1.0, \"#f0f921\"]], \"type\": \"contour\"}], \"contourcarpet\": [{\"colorbar\": {\"outlinewidth\": 0, \"ticks\": \"\"}, \"type\": \"contourcarpet\"}], \"heatmap\": [{\"colorbar\": {\"outlinewidth\": 0, \"ticks\": \"\"}, \"colorscale\": [[0.0, \"#0d0887\"], [0.1111111111111111, \"#46039f\"], [0.2222222222222222, \"#7201a8\"], [0.3333333333333333, \"#9c179e\"], [0.4444444444444444, \"#bd3786\"], [0.5555555555555556, \"#d8576b\"], [0.6666666666666666, \"#ed7953\"], [0.7777777777777778, \"#fb9f3a\"], [0.8888888888888888, \"#fdca26\"], [1.0, \"#f0f921\"]], \"type\": \"heatmap\"}], \"heatmapgl\": [{\"colorbar\": {\"outlinewidth\": 0, \"ticks\": \"\"}, \"colorscale\": [[0.0, \"#0d0887\"], [0.1111111111111111, \"#46039f\"], [0.2222222222222222, \"#7201a8\"], [0.3333333333333333, \"#9c179e\"], [0.4444444444444444, \"#bd3786\"], [0.5555555555555556, \"#d8576b\"], [0.6666666666666666, \"#ed7953\"], [0.7777777777777778, \"#fb9f3a\"], [0.8888888888888888, \"#fdca26\"], [1.0, \"#f0f921\"]], \"type\": \"heatmapgl\"}], \"histogram\": [{\"marker\": {\"colorbar\": {\"outlinewidth\": 0, \"ticks\": \"\"}}, \"type\": \"histogram\"}], \"histogram2d\": [{\"colorbar\": {\"outlinewidth\": 0, \"ticks\": \"\"}, \"colorscale\": [[0.0, \"#0d0887\"], [0.1111111111111111, \"#46039f\"], [0.2222222222222222, \"#7201a8\"], [0.3333333333333333, \"#9c179e\"], [0.4444444444444444, \"#bd3786\"], [0.5555555555555556, \"#d8576b\"], [0.6666666666666666, \"#ed7953\"], [0.7777777777777778, \"#fb9f3a\"], [0.8888888888888888, \"#fdca26\"], [1.0, \"#f0f921\"]], \"type\": \"histogram2d\"}], \"histogram2dcontour\": [{\"colorbar\": {\"outlinewidth\": 0, \"ticks\": \"\"}, \"colorscale\": [[0.0, \"#0d0887\"], [0.1111111111111111, \"#46039f\"], [0.2222222222222222, \"#7201a8\"], [0.3333333333333333, \"#9c179e\"], [0.4444444444444444, \"#bd3786\"], [0.5555555555555556, \"#d8576b\"], [0.6666666666666666, \"#ed7953\"], [0.7777777777777778, \"#fb9f3a\"], [0.8888888888888888, \"#fdca26\"], [1.0, \"#f0f921\"]], \"type\": \"histogram2dcontour\"}], \"mesh3d\": [{\"colorbar\": {\"outlinewidth\": 0, \"ticks\": \"\"}, \"type\": \"mesh3d\"}], \"parcoords\": [{\"line\": {\"colorbar\": {\"outlinewidth\": 0, \"ticks\": \"\"}}, \"type\": \"parcoords\"}], \"pie\": [{\"automargin\": true, \"type\": \"pie\"}], \"scatter\": [{\"marker\": {\"colorbar\": {\"outlinewidth\": 0, \"ticks\": \"\"}}, \"type\": \"scatter\"}], \"scatter3d\": [{\"line\": {\"colorbar\": {\"outlinewidth\": 0, \"ticks\": \"\"}}, \"marker\": {\"colorbar\": {\"outlinewidth\": 0, \"ticks\": \"\"}}, \"type\": \"scatter3d\"}], \"scattercarpet\": [{\"marker\": {\"colorbar\": {\"outlinewidth\": 0, \"ticks\": \"\"}}, \"type\": \"scattercarpet\"}], \"scattergeo\": [{\"marker\": {\"colorbar\": {\"outlinewidth\": 0, \"ticks\": \"\"}}, \"type\": \"scattergeo\"}], \"scattergl\": [{\"marker\": {\"colorbar\": {\"outlinewidth\": 0, \"ticks\": \"\"}}, \"type\": \"scattergl\"}], \"scattermapbox\": [{\"marker\": {\"colorbar\": {\"outlinewidth\": 0, \"ticks\": \"\"}}, \"type\": \"scattermapbox\"}], \"scatterpolar\": [{\"marker\": {\"colorbar\": {\"outlinewidth\": 0, \"ticks\": \"\"}}, \"type\": \"scatterpolar\"}], \"scatterpolargl\": [{\"marker\": {\"colorbar\": {\"outlinewidth\": 0, \"ticks\": \"\"}}, \"type\": \"scatterpolargl\"}], \"scatterternary\": [{\"marker\": {\"colorbar\": {\"outlinewidth\": 0, \"ticks\": \"\"}}, \"type\": \"scatterternary\"}], \"surface\": [{\"colorbar\": {\"outlinewidth\": 0, \"ticks\": \"\"}, \"colorscale\": [[0.0, \"#0d0887\"], [0.1111111111111111, \"#46039f\"], [0.2222222222222222, \"#7201a8\"], [0.3333333333333333, \"#9c179e\"], [0.4444444444444444, \"#bd3786\"], [0.5555555555555556, \"#d8576b\"], [0.6666666666666666, \"#ed7953\"], [0.7777777777777778, \"#fb9f3a\"], [0.8888888888888888, \"#fdca26\"], [1.0, \"#f0f921\"]], \"type\": \"surface\"}], \"table\": [{\"cells\": {\"fill\": {\"color\": \"#EBF0F8\"}, \"line\": {\"color\": \"white\"}}, \"header\": {\"fill\": {\"color\": \"#C8D4E3\"}, \"line\": {\"color\": \"white\"}}, \"type\": \"table\"}]}, \"layout\": {\"annotationdefaults\": {\"arrowcolor\": \"#2a3f5f\", \"arrowhead\": 0, \"arrowwidth\": 1}, \"autotypenumbers\": \"strict\", \"coloraxis\": {\"colorbar\": {\"outlinewidth\": 0, \"ticks\": \"\"}}, \"colorscale\": {\"diverging\": [[0, \"#8e0152\"], [0.1, \"#c51b7d\"], [0.2, \"#de77ae\"], [0.3, \"#f1b6da\"], [0.4, \"#fde0ef\"], [0.5, \"#f7f7f7\"], [0.6, \"#e6f5d0\"], [0.7, \"#b8e186\"], [0.8, \"#7fbc41\"], [0.9, \"#4d9221\"], [1, \"#276419\"]], \"sequential\": [[0.0, \"#0d0887\"], [0.1111111111111111, \"#46039f\"], [0.2222222222222222, \"#7201a8\"], [0.3333333333333333, \"#9c179e\"], [0.4444444444444444, \"#bd3786\"], [0.5555555555555556, \"#d8576b\"], [0.6666666666666666, \"#ed7953\"], [0.7777777777777778, \"#fb9f3a\"], [0.8888888888888888, \"#fdca26\"], [1.0, \"#f0f921\"]], \"sequentialminus\": [[0.0, \"#0d0887\"], [0.1111111111111111, \"#46039f\"], [0.2222222222222222, \"#7201a8\"], [0.3333333333333333, \"#9c179e\"], [0.4444444444444444, \"#bd3786\"], [0.5555555555555556, \"#d8576b\"], [0.6666666666666666, \"#ed7953\"], [0.7777777777777778, \"#fb9f3a\"], [0.8888888888888888, \"#fdca26\"], [1.0, \"#f0f921\"]]}, \"colorway\": [\"#636efa\", \"#EF553B\", \"#00cc96\", \"#ab63fa\", \"#FFA15A\", \"#19d3f3\", \"#FF6692\", \"#B6E880\", \"#FF97FF\", \"#FECB52\"], \"font\": {\"color\": \"#2a3f5f\"}, \"geo\": {\"bgcolor\": \"white\", \"lakecolor\": \"white\", \"landcolor\": \"#E5ECF6\", \"showlakes\": true, \"showland\": true, \"subunitcolor\": \"white\"}, \"hoverlabel\": {\"align\": \"left\"}, \"hovermode\": \"closest\", \"mapbox\": {\"style\": \"light\"}, \"paper_bgcolor\": \"white\", \"plot_bgcolor\": \"#E5ECF6\", \"polar\": {\"angularaxis\": {\"gridcolor\": \"white\", \"linecolor\": \"white\", \"ticks\": \"\"}, \"bgcolor\": \"#E5ECF6\", \"radialaxis\": {\"gridcolor\": \"white\", \"linecolor\": \"white\", \"ticks\": \"\"}}, \"scene\": {\"xaxis\": {\"backgroundcolor\": \"#E5ECF6\", \"gridcolor\": \"white\", \"gridwidth\": 2, \"linecolor\": \"white\", \"showbackground\": true, \"ticks\": \"\", \"zerolinecolor\": \"white\"}, \"yaxis\": {\"backgroundcolor\": \"#E5ECF6\", \"gridcolor\": \"white\", \"gridwidth\": 2, \"linecolor\": \"white\", \"showbackground\": true, \"ticks\": \"\", \"zerolinecolor\": \"white\"}, \"zaxis\": {\"backgroundcolor\": \"#E5ECF6\", \"gridcolor\": \"white\", \"gridwidth\": 2, \"linecolor\": \"white\", \"showbackground\": true, \"ticks\": \"\", \"zerolinecolor\": \"white\"}}, \"shapedefaults\": {\"line\": {\"color\": \"#2a3f5f\"}}, \"ternary\": {\"aaxis\": {\"gridcolor\": \"white\", \"linecolor\": \"white\", \"ticks\": \"\"}, \"baxis\": {\"gridcolor\": \"white\", \"linecolor\": \"white\", \"ticks\": \"\"}, \"bgcolor\": \"#E5ECF6\", \"caxis\": {\"gridcolor\": \"white\", \"linecolor\": \"white\", \"ticks\": \"\"}}, \"title\": {\"x\": 0.05}, \"xaxis\": {\"automargin\": true, \"gridcolor\": \"white\", \"linecolor\": \"white\", \"ticks\": \"\", \"title\": {\"standoff\": 15}, \"zerolinecolor\": \"white\", \"zerolinewidth\": 2}, \"yaxis\": {\"automargin\": true, \"gridcolor\": \"white\", \"linecolor\": \"white\", \"ticks\": \"\", \"title\": {\"standoff\": 15}, \"zerolinecolor\": \"white\", \"zerolinewidth\": 2}}}, \"title\": {\"text\": \"Governments of the world\"}, \"uniformtext\": {\"minsize\": 12, \"mode\": \"hide\"}, \"width\": 950, \"xaxis\": {\"range\": [0, 1], \"showgrid\": false, \"visible\": false}, \"yaxis\": {\"range\": [0, 1], \"showgrid\": false, \"visible\": false}},                        {\"responsive\": true}                    ).then(function(){\n",
       "                            \n",
       "var gd = document.getElementById('09a9c596-7db4-4d62-acef-a004765ebd70');\n",
       "var x = new MutationObserver(function (mutations, observer) {{\n",
       "        var display = window.getComputedStyle(gd).display;\n",
       "        if (!display || display === 'none') {{\n",
       "            console.log([gd, 'removed!']);\n",
       "            Plotly.purge(gd);\n",
       "            observer.disconnect();\n",
       "        }}\n",
       "}});\n",
       "\n",
       "// Listen for the removal of the full notebook cells\n",
       "var notebookContainer = gd.closest('#notebook-container');\n",
       "if (notebookContainer) {{\n",
       "    x.observe(notebookContainer, {childList: true});\n",
       "}}\n",
       "\n",
       "// Listen for the clearing of the current output cell\n",
       "var outputEl = gd.closest('.output');\n",
       "if (outputEl) {{\n",
       "    x.observe(outputEl, {childList: true});\n",
       "}}\n",
       "\n",
       "                        })                };                });            </script>        </div>"
      ]
     },
     "metadata": {},
     "output_type": "display_data"
    }
   ],
   "source": [
    "color_discrete_map = {\n",
    "    \"Parliamentary Democracy\": \"#4fb0ff\",\n",
    "    \"Presidential Democracy\": \"#0564b3\",\n",
    "    \"Monarchy\": \"#ab006c\",\n",
    "    \"Dominant Party\": \"#400080\",\n",
    "    \"Foreign/Occupied\": \"#91ff00\",\n",
    "    \"Military-Personal\": \"#520101\",\n",
    "    \"Personal Dictatorship\": \"#916d00\",\n",
    "    \"Provisional - Military\": \"#859100\",\n",
    "    \"Party-Personal\": \"#3d9c6b\",\n",
    "    \"Military\": \"#144700\",\n",
    "    \"Party-Military\": \"#f4fc4c\",\n",
    "    \"Provisional - Civilian\": \"#c27670\",\n",
    "    \"Warlordism\": \"#eb0000\",\n",
    "    \"Party-Personal-Military Hybrid\": \"#eb8d00\",\n",
    "    \"(?)\": \"#cfcecc\"\n",
    "}\n",
    "\n",
    "\n",
    "fig = px.sunburst(combined_no_continents, path=['gov_democracy', 'government'], branchvalues=\"total\",\n",
    "                  color='government', color_discrete_map=color_discrete_map, width=950, height=750)\n",
    "fig.update_traces(rotation=0, textinfo='label+percent entry')\n",
    "\n",
    "fig.update_layout(\n",
    "    uniformtext_minsize=12,\n",
    "    uniformtext_mode='hide',\n",
    "    xaxis_showgrid=False,\n",
    "    yaxis_showgrid=False,\n",
    "    xaxis_visible=False,\n",
    "    yaxis_visible=False,\n",
    "    plot_bgcolor='rgba(0,0,0,0)',\n",
    "    xaxis_range=[0, 1],\n",
    "    yaxis_range=[0, 1],\n",
    "    title=\"Governments of the world\"\n",
    ")\n",
    "\n",
    "fig.add_annotation(\n",
    "    x=0.86,\n",
    "    y=0.28,\n",
    "    text=\"Provisional - Civilian 2%\",\n",
    "    showarrow=True,\n",
    "    arrowhead=0,\n",
    "    axref=\"x\",\n",
    "    ayref=\"y\",\n",
    "    xref=\"x\",\n",
    "    yref=\"y\",\n",
    "    ax=0.86,\n",
    "    ay=0.28,\n",
    "    xanchor='left'\n",
    ")\n",
    "\n",
    "fig.add_annotation(\n",
    "    x=0.87,\n",
    "    y=0.32,\n",
    "    text=\"Foreign/Occupied 1%\",\n",
    "    showarrow=True,\n",
    "    arrowhead=0,\n",
    "    axref=\"x\",\n",
    "    ayref=\"y\",\n",
    "    xref=\"x\",\n",
    "    yref=\"y\",\n",
    "    ax=0.87,\n",
    "    ay=0.32,\n",
    "    xanchor='left'\n",
    ")\n",
    "\n",
    "fig.add_annotation(\n",
    "    x=0.88,\n",
    "    y=0.36,\n",
    "    text=\"Military 1%\",\n",
    "    showarrow=True,\n",
    "    arrowhead=0,\n",
    "    axref=\"x\",\n",
    "    ayref=\"y\",\n",
    "    xref=\"x\",\n",
    "    yref=\"y\",\n",
    "    ax=0.88,\n",
    "    ay=0.36,\n",
    "    xanchor='left'\n",
    ")\n",
    "fig.add_annotation(\n",
    "    x=0.885,\n",
    "    y=0.395,\n",
    "    text=\"Military-Personal 1%\",\n",
    "    showarrow=True,\n",
    "    arrowhead=0,\n",
    "    axref=\"x\",\n",
    "    ayref=\"y\",\n",
    "    xref=\"x\",\n",
    "    yref=\"y\",\n",
    "    ax=0.885,\n",
    "    ay=0.395,\n",
    "    xanchor='left'\n",
    ")\n",
    "\n",
    "fig.add_annotation(\n",
    "    x=0.89,\n",
    "    y=0.428,\n",
    "    text=\"Provisional - Military 1%\",\n",
    "    showarrow=True,\n",
    "    arrowhead=0,\n",
    "    axref=\"x\",\n",
    "    ayref=\"y\",\n",
    "    xref=\"x\",\n",
    "    yref=\"y\",\n",
    "    ax=0.89,\n",
    "    ay=0.428,\n",
    "    xanchor='left'\n",
    ")\n",
    "\n",
    "fig.add_annotation(\n",
    "    x=0.877,\n",
    "    y=0.46,\n",
    "    text=\"Party-Military 1%\",\n",
    "    showarrow=True,\n",
    "    arrowhead=0,\n",
    "    axref=\"x\",\n",
    "    ayref=\"y\",\n",
    "    xref=\"x\",\n",
    "    yref=\"y\",\n",
    "    ax=0.9,\n",
    "    ay=0.455,\n",
    "    xanchor='left'\n",
    ")\n",
    "\n",
    "fig.add_annotation(\n",
    "    x=0.878,\n",
    "    y=0.475,\n",
    "    text=\"Warlordism 1%\",\n",
    "    showarrow=True,\n",
    "    arrowhead=0,\n",
    "    axref=\"x\",\n",
    "    ayref=\"y\",\n",
    "    xref=\"x\",\n",
    "    yref=\"y\",\n",
    "    ax=0.9,\n",
    "    ay=0.48,\n",
    "    xanchor='left'\n",
    ")\n",
    "\n",
    "fig.add_annotation(\n",
    "    x=0.879,\n",
    "    y=0.49,\n",
    "    text=\"Party-Personal-Military <br> Hybrid 1%\",\n",
    "    showarrow=True,\n",
    "    arrowhead=0,\n",
    "    axref=\"x\",\n",
    "    ayref=\"y\",\n",
    "    xref=\"x\",\n",
    "    yref=\"y\",\n",
    "    ax=0.9,\n",
    "    ay=0.52,\n",
    "    xanchor='left'\n",
    ")\n",
    "\n",
    "fig.show()"
   ]
  },
  {
   "cell_type": "markdown",
   "id": "technological-stranger",
   "metadata": {
    "papermill": {
     "duration": 0.068692,
     "end_time": "2021-07-08T13:09:12.382387",
     "exception": false,
     "start_time": "2021-07-08T13:09:12.313695",
     "status": "completed"
    },
    "tags": []
   },
   "source": [
    "<h1 style=\"color:black;background-color:white;font-family: Helvetica, sans-serif; font-size:150%;text-align:center; font-weight: 500;\"> <span style=\"color:#4fb0ff\">Parliamentary Democracy</span> is the most popular form of government. Overall, democratic governments are implemented in 65% of all countries </h1>\n",
    "\n",
    "<h1 style=\"color:black;background-color:white;font-family: Helvetica, sans-serif; font-size:150%;text-align:center; font-weight: 500;\"> Meanwhile, <span style=\"color: #916d00\">Personal Dictatorship</span> is the most prolific type of authoritarian  regime, being present in 16 countries in the world.  </h1>\n",
    "\n",
    "<h1 style=\"color:black;background-color:white;font-family: Helvetica, sans-serif; font-size:150%;text-align:center; font-weight: 500;\"> For me, it is especially surprising that <span style=\"color: #ab006c\">Monarchies</span> are actually not approaching extinction in the current year, being present in 12 different countries!</h1>"
   ]
  },
  {
   "cell_type": "code",
   "execution_count": 30,
   "id": "hairy-patient",
   "metadata": {
    "_kg_hide-input": true,
    "execution": {
     "iopub.execute_input": "2021-07-08T13:09:12.533483Z",
     "iopub.status.busy": "2021-07-08T13:09:12.532397Z",
     "iopub.status.idle": "2021-07-08T13:09:12.729969Z",
     "shell.execute_reply": "2021-07-08T13:09:12.729428Z",
     "shell.execute_reply.started": "2021-07-08T13:03:22.115286Z"
    },
    "papermill": {
     "duration": 0.279202,
     "end_time": "2021-07-08T13:09:12.730122",
     "exception": false,
     "start_time": "2021-07-08T13:09:12.450920",
     "status": "completed"
    },
    "tags": []
   },
   "outputs": [
    {
     "data": {
      "text/html": [
       "<div>                            <div id=\"c2618fc6-3a28-4bea-b976-564634e9acb5\" class=\"plotly-graph-div\" style=\"height:525px; width:100%;\"></div>            <script type=\"text/javascript\">                require([\"plotly\"], function(Plotly) {                    window.PLOTLYENV=window.PLOTLYENV || {};                                    if (document.getElementById(\"c2618fc6-3a28-4bea-b976-564634e9acb5\")) {                    Plotly.newPlot(                        \"c2618fc6-3a28-4bea-b976-564634e9acb5\",                        [{\"alignmentgroup\": \"True\", \"hovertemplate\": \"color=Dominant Party<br>x=%{x}<br>y=%{y}<br>text=%{text}<extra></extra>\", \"legendgroup\": \"Dominant Party\", \"marker\": {\"color\": \"#400080\"}, \"name\": \"Dominant Party\", \"offsetgroup\": \"Dominant Party\", \"orientation\": \"h\", \"showlegend\": true, \"text\": [45.98], \"textposition\": \"auto\", \"type\": \"bar\", \"x\": [45.98400000000001], \"xaxis\": \"x\", \"y\": [\"Dominant Party\"], \"yaxis\": \"y\"}, {\"alignmentgroup\": \"True\", \"hovertemplate\": \"color=Foreign/Occupied<br>x=%{x}<br>y=%{y}<br>text=%{text}<extra></extra>\", \"legendgroup\": \"Foreign/Occupied\", \"marker\": {\"color\": \"#91ff00\"}, \"name\": \"Foreign/Occupied\", \"offsetgroup\": \"Foreign/Occupied\", \"orientation\": \"h\", \"showlegend\": true, \"text\": [24.1], \"textposition\": \"auto\", \"type\": \"bar\", \"x\": [24.095], \"xaxis\": \"x\", \"y\": [\"Foreign/Occupied\"], \"yaxis\": \"y\"}, {\"alignmentgroup\": \"True\", \"hovertemplate\": \"color=Military<br>x=%{x}<br>y=%{y}<br>text=%{text}<extra></extra>\", \"legendgroup\": \"Military\", \"marker\": {\"color\": \"#144700\"}, \"name\": \"Military\", \"offsetgroup\": \"Military\", \"orientation\": \"h\", \"showlegend\": true, \"text\": [45.68], \"textposition\": \"auto\", \"type\": \"bar\", \"x\": [45.68], \"xaxis\": \"x\", \"y\": [\"Military\"], \"yaxis\": \"y\"}, {\"alignmentgroup\": \"True\", \"hovertemplate\": \"color=Military-Personal<br>x=%{x}<br>y=%{y}<br>text=%{text}<extra></extra>\", \"legendgroup\": \"Military-Personal\", \"marker\": {\"color\": \"#520101\"}, \"name\": \"Military-Personal\", \"offsetgroup\": \"Military-Personal\", \"orientation\": \"h\", \"showlegend\": true, \"text\": [42.04], \"textposition\": \"auto\", \"type\": \"bar\", \"x\": [42.045], \"xaxis\": \"x\", \"y\": [\"Military-Personal\"], \"yaxis\": \"y\"}, {\"alignmentgroup\": \"True\", \"hovertemplate\": \"color=Monarchy<br>x=%{x}<br>y=%{y}<br>text=%{text}<extra></extra>\", \"legendgroup\": \"Monarchy\", \"marker\": {\"color\": \"#ab006c\"}, \"name\": \"Monarchy\", \"offsetgroup\": \"Monarchy\", \"orientation\": \"h\", \"showlegend\": true, \"text\": [42.87], \"textposition\": \"auto\", \"type\": \"bar\", \"x\": [42.87083333333334], \"xaxis\": \"x\", \"y\": [\"Monarchy\"], \"yaxis\": \"y\"}, {\"alignmentgroup\": \"True\", \"hovertemplate\": \"color=Parliamentary Democracy<br>x=%{x}<br>y=%{y}<br>text=%{text}<extra></extra>\", \"legendgroup\": \"Parliamentary Democracy\", \"marker\": {\"color\": \"#4fb0ff\"}, \"name\": \"Parliamentary Democracy\", \"offsetgroup\": \"Parliamentary Democracy\", \"orientation\": \"h\", \"showlegend\": true, \"text\": [24.54], \"textposition\": \"auto\", \"type\": \"bar\", \"x\": [24.535671641791044], \"xaxis\": \"x\", \"y\": [\"Parliamentary Democracy\"], \"yaxis\": \"y\"}, {\"alignmentgroup\": \"True\", \"hovertemplate\": \"color=Party-Military<br>x=%{x}<br>y=%{y}<br>text=%{text}<extra></extra>\", \"legendgroup\": \"Party-Military\", \"marker\": {\"color\": \"#f4fc4c\"}, \"name\": \"Party-Military\", \"offsetgroup\": \"Party-Military\", \"orientation\": \"h\", \"showlegend\": true, \"text\": [50.66], \"textposition\": \"auto\", \"type\": \"bar\", \"x\": [50.66], \"xaxis\": \"x\", \"y\": [\"Party-Military\"], \"yaxis\": \"y\"}, {\"alignmentgroup\": \"True\", \"hovertemplate\": \"color=Party-Personal<br>x=%{x}<br>y=%{y}<br>text=%{text}<extra></extra>\", \"legendgroup\": \"Party-Personal\", \"marker\": {\"color\": \"#3d9c6b\"}, \"name\": \"Party-Personal\", \"offsetgroup\": \"Party-Personal\", \"orientation\": \"h\", \"showlegend\": true, \"text\": [60.73], \"textposition\": \"auto\", \"type\": \"bar\", \"x\": [60.72625], \"xaxis\": \"x\", \"y\": [\"Party-Personal\"], \"yaxis\": \"y\"}, {\"alignmentgroup\": \"True\", \"hovertemplate\": \"color=Party-Personal-Military Hybrid<br>x=%{x}<br>y=%{y}<br>text=%{text}<extra></extra>\", \"legendgroup\": \"Party-Personal-Military Hybrid\", \"marker\": {\"color\": \"#eb8d00\"}, \"name\": \"Party-Personal-Military Hybrid\", \"offsetgroup\": \"Party-Personal-Military Hybrid\", \"orientation\": \"h\", \"showlegend\": true, \"text\": [70.63], \"textposition\": \"auto\", \"type\": \"bar\", \"x\": [70.63], \"xaxis\": \"x\", \"y\": [\"Party-Personal-Military Hybrid\"], \"yaxis\": \"y\"}, {\"alignmentgroup\": \"True\", \"hovertemplate\": \"color=Personal Dictatorship<br>x=%{x}<br>y=%{y}<br>text=%{text}<extra></extra>\", \"legendgroup\": \"Personal Dictatorship\", \"marker\": {\"color\": \"#916d00\"}, \"name\": \"Personal Dictatorship\", \"offsetgroup\": \"Personal Dictatorship\", \"orientation\": \"h\", \"showlegend\": true, \"text\": [48.35], \"textposition\": \"auto\", \"type\": \"bar\", \"x\": [48.348125], \"xaxis\": \"x\", \"y\": [\"Personal Dictatorship\"], \"yaxis\": \"y\"}, {\"alignmentgroup\": \"True\", \"hovertemplate\": \"color=Presidential Democracy<br>x=%{x}<br>y=%{y}<br>text=%{text}<extra></extra>\", \"legendgroup\": \"Presidential Democracy\", \"marker\": {\"color\": \"#0564b3\"}, \"name\": \"Presidential Democracy\", \"offsetgroup\": \"Presidential Democracy\", \"orientation\": \"h\", \"showlegend\": true, \"text\": [31.78], \"textposition\": \"auto\", \"type\": \"bar\", \"x\": [31.775660377358502], \"xaxis\": \"x\", \"y\": [\"Presidential Democracy\"], \"yaxis\": \"y\"}, {\"alignmentgroup\": \"True\", \"hovertemplate\": \"color=Provisional - Civilian<br>x=%{x}<br>y=%{y}<br>text=%{text}<extra></extra>\", \"legendgroup\": \"Provisional - Civilian\", \"marker\": {\"color\": \"#c27670\"}, \"name\": \"Provisional - Civilian\", \"offsetgroup\": \"Provisional - Civilian\", \"orientation\": \"h\", \"showlegend\": true, \"text\": [54.71], \"textposition\": \"auto\", \"type\": \"bar\", \"x\": [54.71], \"xaxis\": \"x\", \"y\": [\"Provisional - Civilian\"], \"yaxis\": \"y\"}, {\"alignmentgroup\": \"True\", \"hovertemplate\": \"color=Provisional - Military<br>x=%{x}<br>y=%{y}<br>text=%{text}<extra></extra>\", \"legendgroup\": \"Provisional - Military\", \"marker\": {\"color\": \"#859100\"}, \"name\": \"Provisional - Military\", \"offsetgroup\": \"Provisional - Military\", \"orientation\": \"h\", \"showlegend\": true, \"text\": [36.85], \"textposition\": \"auto\", \"type\": \"bar\", \"x\": [36.85], \"xaxis\": \"x\", \"y\": [\"Provisional - Military\"], \"yaxis\": \"y\"}, {\"alignmentgroup\": \"True\", \"hovertemplate\": \"color=Warlordism<br>x=%{x}<br>y=%{y}<br>text=%{text}<extra></extra>\", \"legendgroup\": \"Warlordism\", \"marker\": {\"color\": \"#eb0000\"}, \"name\": \"Warlordism\", \"offsetgroup\": \"Warlordism\", \"orientation\": \"h\", \"showlegend\": true, \"text\": [62.35], \"textposition\": \"auto\", \"type\": \"bar\", \"x\": [62.35], \"xaxis\": \"x\", \"y\": [\"Warlordism\"], \"yaxis\": \"y\"}],                        {\"barmode\": \"relative\", \"coloraxis\": {\"showscale\": false}, \"legend\": {\"title\": {\"text\": \"color\"}, \"tracegroupgap\": 0}, \"margin\": {\"t\": 60}, \"showlegend\": false, \"template\": {\"data\": {\"bar\": [{\"error_x\": {\"color\": \"#2a3f5f\"}, \"error_y\": {\"color\": \"#2a3f5f\"}, \"marker\": {\"line\": {\"color\": \"#E5ECF6\", \"width\": 0.5}}, \"type\": \"bar\"}], \"barpolar\": [{\"marker\": {\"line\": {\"color\": \"#E5ECF6\", \"width\": 0.5}}, \"type\": \"barpolar\"}], \"carpet\": [{\"aaxis\": {\"endlinecolor\": \"#2a3f5f\", \"gridcolor\": \"white\", \"linecolor\": \"white\", \"minorgridcolor\": \"white\", \"startlinecolor\": \"#2a3f5f\"}, \"baxis\": {\"endlinecolor\": \"#2a3f5f\", \"gridcolor\": \"white\", \"linecolor\": \"white\", \"minorgridcolor\": \"white\", \"startlinecolor\": \"#2a3f5f\"}, \"type\": \"carpet\"}], \"choropleth\": [{\"colorbar\": {\"outlinewidth\": 0, \"ticks\": \"\"}, \"type\": \"choropleth\"}], \"contour\": [{\"colorbar\": {\"outlinewidth\": 0, \"ticks\": \"\"}, \"colorscale\": [[0.0, \"#0d0887\"], [0.1111111111111111, \"#46039f\"], [0.2222222222222222, \"#7201a8\"], [0.3333333333333333, \"#9c179e\"], [0.4444444444444444, \"#bd3786\"], [0.5555555555555556, \"#d8576b\"], [0.6666666666666666, \"#ed7953\"], [0.7777777777777778, \"#fb9f3a\"], [0.8888888888888888, \"#fdca26\"], [1.0, \"#f0f921\"]], \"type\": \"contour\"}], \"contourcarpet\": [{\"colorbar\": {\"outlinewidth\": 0, \"ticks\": \"\"}, \"type\": \"contourcarpet\"}], \"heatmap\": [{\"colorbar\": {\"outlinewidth\": 0, \"ticks\": \"\"}, \"colorscale\": [[0.0, \"#0d0887\"], [0.1111111111111111, \"#46039f\"], [0.2222222222222222, \"#7201a8\"], [0.3333333333333333, \"#9c179e\"], [0.4444444444444444, \"#bd3786\"], [0.5555555555555556, \"#d8576b\"], [0.6666666666666666, \"#ed7953\"], [0.7777777777777778, \"#fb9f3a\"], [0.8888888888888888, \"#fdca26\"], [1.0, \"#f0f921\"]], \"type\": \"heatmap\"}], \"heatmapgl\": [{\"colorbar\": {\"outlinewidth\": 0, \"ticks\": \"\"}, \"colorscale\": [[0.0, \"#0d0887\"], [0.1111111111111111, \"#46039f\"], [0.2222222222222222, \"#7201a8\"], [0.3333333333333333, \"#9c179e\"], [0.4444444444444444, \"#bd3786\"], [0.5555555555555556, \"#d8576b\"], [0.6666666666666666, \"#ed7953\"], [0.7777777777777778, \"#fb9f3a\"], [0.8888888888888888, \"#fdca26\"], [1.0, \"#f0f921\"]], \"type\": \"heatmapgl\"}], \"histogram\": [{\"marker\": {\"colorbar\": {\"outlinewidth\": 0, \"ticks\": \"\"}}, \"type\": \"histogram\"}], \"histogram2d\": [{\"colorbar\": {\"outlinewidth\": 0, \"ticks\": \"\"}, \"colorscale\": [[0.0, \"#0d0887\"], [0.1111111111111111, \"#46039f\"], [0.2222222222222222, \"#7201a8\"], [0.3333333333333333, \"#9c179e\"], [0.4444444444444444, \"#bd3786\"], [0.5555555555555556, \"#d8576b\"], [0.6666666666666666, \"#ed7953\"], [0.7777777777777778, \"#fb9f3a\"], [0.8888888888888888, \"#fdca26\"], [1.0, \"#f0f921\"]], \"type\": \"histogram2d\"}], \"histogram2dcontour\": [{\"colorbar\": {\"outlinewidth\": 0, \"ticks\": \"\"}, \"colorscale\": [[0.0, \"#0d0887\"], [0.1111111111111111, \"#46039f\"], [0.2222222222222222, \"#7201a8\"], [0.3333333333333333, \"#9c179e\"], [0.4444444444444444, \"#bd3786\"], [0.5555555555555556, \"#d8576b\"], [0.6666666666666666, \"#ed7953\"], [0.7777777777777778, \"#fb9f3a\"], [0.8888888888888888, \"#fdca26\"], [1.0, \"#f0f921\"]], \"type\": \"histogram2dcontour\"}], \"mesh3d\": [{\"colorbar\": {\"outlinewidth\": 0, \"ticks\": \"\"}, \"type\": \"mesh3d\"}], \"parcoords\": [{\"line\": {\"colorbar\": {\"outlinewidth\": 0, \"ticks\": \"\"}}, \"type\": \"parcoords\"}], \"pie\": [{\"automargin\": true, \"type\": \"pie\"}], \"scatter\": [{\"marker\": {\"colorbar\": {\"outlinewidth\": 0, \"ticks\": \"\"}}, \"type\": \"scatter\"}], \"scatter3d\": [{\"line\": {\"colorbar\": {\"outlinewidth\": 0, \"ticks\": \"\"}}, \"marker\": {\"colorbar\": {\"outlinewidth\": 0, \"ticks\": \"\"}}, \"type\": \"scatter3d\"}], \"scattercarpet\": [{\"marker\": {\"colorbar\": {\"outlinewidth\": 0, \"ticks\": \"\"}}, \"type\": \"scattercarpet\"}], \"scattergeo\": [{\"marker\": {\"colorbar\": {\"outlinewidth\": 0, \"ticks\": \"\"}}, \"type\": \"scattergeo\"}], \"scattergl\": [{\"marker\": {\"colorbar\": {\"outlinewidth\": 0, \"ticks\": \"\"}}, \"type\": \"scattergl\"}], \"scattermapbox\": [{\"marker\": {\"colorbar\": {\"outlinewidth\": 0, \"ticks\": \"\"}}, \"type\": \"scattermapbox\"}], \"scatterpolar\": [{\"marker\": {\"colorbar\": {\"outlinewidth\": 0, \"ticks\": \"\"}}, \"type\": \"scatterpolar\"}], \"scatterpolargl\": [{\"marker\": {\"colorbar\": {\"outlinewidth\": 0, \"ticks\": \"\"}}, \"type\": \"scatterpolargl\"}], \"scatterternary\": [{\"marker\": {\"colorbar\": {\"outlinewidth\": 0, \"ticks\": \"\"}}, \"type\": \"scatterternary\"}], \"surface\": [{\"colorbar\": {\"outlinewidth\": 0, \"ticks\": \"\"}, \"colorscale\": [[0.0, \"#0d0887\"], [0.1111111111111111, \"#46039f\"], [0.2222222222222222, \"#7201a8\"], [0.3333333333333333, \"#9c179e\"], [0.4444444444444444, \"#bd3786\"], [0.5555555555555556, \"#d8576b\"], [0.6666666666666666, \"#ed7953\"], [0.7777777777777778, \"#fb9f3a\"], [0.8888888888888888, \"#fdca26\"], [1.0, \"#f0f921\"]], \"type\": \"surface\"}], \"table\": [{\"cells\": {\"fill\": {\"color\": \"#EBF0F8\"}, \"line\": {\"color\": \"white\"}}, \"header\": {\"fill\": {\"color\": \"#C8D4E3\"}, \"line\": {\"color\": \"white\"}}, \"type\": \"table\"}]}, \"layout\": {\"annotationdefaults\": {\"arrowcolor\": \"#2a3f5f\", \"arrowhead\": 0, \"arrowwidth\": 1}, \"autotypenumbers\": \"strict\", \"coloraxis\": {\"colorbar\": {\"outlinewidth\": 0, \"ticks\": \"\"}}, \"colorscale\": {\"diverging\": [[0, \"#8e0152\"], [0.1, \"#c51b7d\"], [0.2, \"#de77ae\"], [0.3, \"#f1b6da\"], [0.4, \"#fde0ef\"], [0.5, \"#f7f7f7\"], [0.6, \"#e6f5d0\"], [0.7, \"#b8e186\"], [0.8, \"#7fbc41\"], [0.9, \"#4d9221\"], [1, \"#276419\"]], \"sequential\": [[0.0, \"#0d0887\"], [0.1111111111111111, \"#46039f\"], [0.2222222222222222, \"#7201a8\"], [0.3333333333333333, \"#9c179e\"], [0.4444444444444444, \"#bd3786\"], [0.5555555555555556, \"#d8576b\"], [0.6666666666666666, \"#ed7953\"], [0.7777777777777778, \"#fb9f3a\"], [0.8888888888888888, \"#fdca26\"], [1.0, \"#f0f921\"]], \"sequentialminus\": [[0.0, \"#0d0887\"], [0.1111111111111111, \"#46039f\"], [0.2222222222222222, \"#7201a8\"], [0.3333333333333333, \"#9c179e\"], [0.4444444444444444, \"#bd3786\"], [0.5555555555555556, \"#d8576b\"], [0.6666666666666666, \"#ed7953\"], [0.7777777777777778, \"#fb9f3a\"], [0.8888888888888888, \"#fdca26\"], [1.0, \"#f0f921\"]]}, \"colorway\": [\"#636efa\", \"#EF553B\", \"#00cc96\", \"#ab63fa\", \"#FFA15A\", \"#19d3f3\", \"#FF6692\", \"#B6E880\", \"#FF97FF\", \"#FECB52\"], \"font\": {\"color\": \"#2a3f5f\"}, \"geo\": {\"bgcolor\": \"white\", \"lakecolor\": \"white\", \"landcolor\": \"#E5ECF6\", \"showlakes\": true, \"showland\": true, \"subunitcolor\": \"white\"}, \"hoverlabel\": {\"align\": \"left\"}, \"hovermode\": \"closest\", \"mapbox\": {\"style\": \"light\"}, \"paper_bgcolor\": \"white\", \"plot_bgcolor\": \"#E5ECF6\", \"polar\": {\"angularaxis\": {\"gridcolor\": \"white\", \"linecolor\": \"white\", \"ticks\": \"\"}, \"bgcolor\": \"#E5ECF6\", \"radialaxis\": {\"gridcolor\": \"white\", \"linecolor\": \"white\", \"ticks\": \"\"}}, \"scene\": {\"xaxis\": {\"backgroundcolor\": \"#E5ECF6\", \"gridcolor\": \"white\", \"gridwidth\": 2, \"linecolor\": \"white\", \"showbackground\": true, \"ticks\": \"\", \"zerolinecolor\": \"white\"}, \"yaxis\": {\"backgroundcolor\": \"#E5ECF6\", \"gridcolor\": \"white\", \"gridwidth\": 2, \"linecolor\": \"white\", \"showbackground\": true, \"ticks\": \"\", \"zerolinecolor\": \"white\"}, \"zaxis\": {\"backgroundcolor\": \"#E5ECF6\", \"gridcolor\": \"white\", \"gridwidth\": 2, \"linecolor\": \"white\", \"showbackground\": true, \"ticks\": \"\", \"zerolinecolor\": \"white\"}}, \"shapedefaults\": {\"line\": {\"color\": \"#2a3f5f\"}}, \"ternary\": {\"aaxis\": {\"gridcolor\": \"white\", \"linecolor\": \"white\", \"ticks\": \"\"}, \"baxis\": {\"gridcolor\": \"white\", \"linecolor\": \"white\", \"ticks\": \"\"}, \"bgcolor\": \"#E5ECF6\", \"caxis\": {\"gridcolor\": \"white\", \"linecolor\": \"white\", \"ticks\": \"\"}}, \"title\": {\"x\": 0.05}, \"xaxis\": {\"automargin\": true, \"gridcolor\": \"white\", \"linecolor\": \"white\", \"ticks\": \"\", \"title\": {\"standoff\": 15}, \"zerolinecolor\": \"white\", \"zerolinewidth\": 2}, \"yaxis\": {\"automargin\": true, \"gridcolor\": \"white\", \"linecolor\": \"white\", \"ticks\": \"\", \"title\": {\"standoff\": 15}, \"zerolinecolor\": \"white\", \"zerolinewidth\": 2}}}, \"title\": {\"text\": \"Average scores of government types\"}, \"xaxis\": {\"anchor\": \"y\", \"domain\": [0.0, 1.0], \"title\": {\"text\": \"Global Score 2021\"}}, \"yaxis\": {\"anchor\": \"x\", \"categoryorder\": \"total descending\", \"domain\": [0.0, 1.0], \"title\": {\"text\": \"Government\"}}},                        {\"responsive\": true}                    ).then(function(){\n",
       "                            \n",
       "var gd = document.getElementById('c2618fc6-3a28-4bea-b976-564634e9acb5');\n",
       "var x = new MutationObserver(function (mutations, observer) {{\n",
       "        var display = window.getComputedStyle(gd).display;\n",
       "        if (!display || display === 'none') {{\n",
       "            console.log([gd, 'removed!']);\n",
       "            Plotly.purge(gd);\n",
       "            observer.disconnect();\n",
       "        }}\n",
       "}});\n",
       "\n",
       "// Listen for the removal of the full notebook cells\n",
       "var notebookContainer = gd.closest('#notebook-container');\n",
       "if (notebookContainer) {{\n",
       "    x.observe(notebookContainer, {childList: true});\n",
       "}}\n",
       "\n",
       "// Listen for the clearing of the current output cell\n",
       "var outputEl = gd.closest('.output');\n",
       "if (outputEl) {{\n",
       "    x.observe(outputEl, {childList: true});\n",
       "}}\n",
       "\n",
       "                        })                };                });            </script>        </div>"
      ]
     },
     "metadata": {},
     "output_type": "display_data"
    },
    {
     "data": {
      "text/html": [
       "<div>                            <div id=\"d190a36e-96a7-4806-80fe-f4932e2ddd7f\" class=\"plotly-graph-div\" style=\"height:300px; width:100%;\"></div>            <script type=\"text/javascript\">                require([\"plotly\"], function(Plotly) {                    window.PLOTLYENV=window.PLOTLYENV || {};                                    if (document.getElementById(\"d190a36e-96a7-4806-80fe-f4932e2ddd7f\")) {                    Plotly.newPlot(                        \"d190a36e-96a7-4806-80fe-f4932e2ddd7f\",                        [{\"alignmentgroup\": \"True\", \"hovertemplate\": \"color=Democracy<br>x=%{x}<br>y=%{y}<br>text=%{text}<extra></extra>\", \"legendgroup\": \"Democracy\", \"marker\": {\"color\": \"#636efa\"}, \"name\": \"Democracy\", \"offsetgroup\": \"Democracy\", \"orientation\": \"h\", \"showlegend\": true, \"text\": [27.73], \"textposition\": \"auto\", \"type\": \"bar\", \"x\": [27.733333333333324], \"xaxis\": \"x\", \"y\": [\"Democracy\"], \"yaxis\": \"y\"}, {\"alignmentgroup\": \"True\", \"hovertemplate\": \"color=Non-Democracy<br>x=%{x}<br>y=%{y}<br>text=%{text}<extra></extra>\", \"legendgroup\": \"Non-Democracy\", \"marker\": {\"color\": \"#EF553B\"}, \"name\": \"Non-Democracy\", \"offsetgroup\": \"Non-Democracy\", \"orientation\": \"h\", \"showlegend\": true, \"text\": [47.83], \"textposition\": \"auto\", \"type\": \"bar\", \"x\": [47.826153846153844], \"xaxis\": \"x\", \"y\": [\"Non-Democracy\"], \"yaxis\": \"y\"}],                        {\"barmode\": \"relative\", \"coloraxis\": {\"showscale\": false}, \"height\": 300, \"legend\": {\"title\": {\"text\": \"color\"}, \"tracegroupgap\": 0}, \"margin\": {\"t\": 60}, \"showlegend\": false, \"template\": {\"data\": {\"bar\": [{\"error_x\": {\"color\": \"#2a3f5f\"}, \"error_y\": {\"color\": \"#2a3f5f\"}, \"marker\": {\"line\": {\"color\": \"#E5ECF6\", \"width\": 0.5}}, \"type\": \"bar\"}], \"barpolar\": [{\"marker\": {\"line\": {\"color\": \"#E5ECF6\", \"width\": 0.5}}, \"type\": \"barpolar\"}], \"carpet\": [{\"aaxis\": {\"endlinecolor\": \"#2a3f5f\", \"gridcolor\": \"white\", \"linecolor\": \"white\", \"minorgridcolor\": \"white\", \"startlinecolor\": \"#2a3f5f\"}, \"baxis\": {\"endlinecolor\": \"#2a3f5f\", \"gridcolor\": \"white\", \"linecolor\": \"white\", \"minorgridcolor\": \"white\", \"startlinecolor\": \"#2a3f5f\"}, \"type\": \"carpet\"}], \"choropleth\": [{\"colorbar\": {\"outlinewidth\": 0, \"ticks\": \"\"}, \"type\": \"choropleth\"}], \"contour\": [{\"colorbar\": {\"outlinewidth\": 0, \"ticks\": \"\"}, \"colorscale\": [[0.0, \"#0d0887\"], [0.1111111111111111, \"#46039f\"], [0.2222222222222222, \"#7201a8\"], [0.3333333333333333, \"#9c179e\"], [0.4444444444444444, \"#bd3786\"], [0.5555555555555556, \"#d8576b\"], [0.6666666666666666, \"#ed7953\"], [0.7777777777777778, \"#fb9f3a\"], [0.8888888888888888, \"#fdca26\"], [1.0, \"#f0f921\"]], \"type\": \"contour\"}], \"contourcarpet\": [{\"colorbar\": {\"outlinewidth\": 0, \"ticks\": \"\"}, \"type\": \"contourcarpet\"}], \"heatmap\": [{\"colorbar\": {\"outlinewidth\": 0, \"ticks\": \"\"}, \"colorscale\": [[0.0, \"#0d0887\"], [0.1111111111111111, \"#46039f\"], [0.2222222222222222, \"#7201a8\"], [0.3333333333333333, \"#9c179e\"], [0.4444444444444444, \"#bd3786\"], [0.5555555555555556, \"#d8576b\"], [0.6666666666666666, \"#ed7953\"], [0.7777777777777778, \"#fb9f3a\"], [0.8888888888888888, \"#fdca26\"], [1.0, \"#f0f921\"]], \"type\": \"heatmap\"}], \"heatmapgl\": [{\"colorbar\": {\"outlinewidth\": 0, \"ticks\": \"\"}, \"colorscale\": [[0.0, \"#0d0887\"], [0.1111111111111111, \"#46039f\"], [0.2222222222222222, \"#7201a8\"], [0.3333333333333333, \"#9c179e\"], [0.4444444444444444, \"#bd3786\"], [0.5555555555555556, \"#d8576b\"], [0.6666666666666666, \"#ed7953\"], [0.7777777777777778, \"#fb9f3a\"], [0.8888888888888888, \"#fdca26\"], [1.0, \"#f0f921\"]], \"type\": \"heatmapgl\"}], \"histogram\": [{\"marker\": {\"colorbar\": {\"outlinewidth\": 0, \"ticks\": \"\"}}, \"type\": \"histogram\"}], \"histogram2d\": [{\"colorbar\": {\"outlinewidth\": 0, \"ticks\": \"\"}, \"colorscale\": [[0.0, \"#0d0887\"], [0.1111111111111111, \"#46039f\"], [0.2222222222222222, \"#7201a8\"], [0.3333333333333333, \"#9c179e\"], [0.4444444444444444, \"#bd3786\"], [0.5555555555555556, \"#d8576b\"], [0.6666666666666666, \"#ed7953\"], [0.7777777777777778, \"#fb9f3a\"], [0.8888888888888888, \"#fdca26\"], [1.0, \"#f0f921\"]], \"type\": \"histogram2d\"}], \"histogram2dcontour\": [{\"colorbar\": {\"outlinewidth\": 0, \"ticks\": \"\"}, \"colorscale\": [[0.0, \"#0d0887\"], [0.1111111111111111, \"#46039f\"], [0.2222222222222222, \"#7201a8\"], [0.3333333333333333, \"#9c179e\"], [0.4444444444444444, \"#bd3786\"], [0.5555555555555556, \"#d8576b\"], [0.6666666666666666, \"#ed7953\"], [0.7777777777777778, \"#fb9f3a\"], [0.8888888888888888, \"#fdca26\"], [1.0, \"#f0f921\"]], \"type\": \"histogram2dcontour\"}], \"mesh3d\": [{\"colorbar\": {\"outlinewidth\": 0, \"ticks\": \"\"}, \"type\": \"mesh3d\"}], \"parcoords\": [{\"line\": {\"colorbar\": {\"outlinewidth\": 0, \"ticks\": \"\"}}, \"type\": \"parcoords\"}], \"pie\": [{\"automargin\": true, \"type\": \"pie\"}], \"scatter\": [{\"marker\": {\"colorbar\": {\"outlinewidth\": 0, \"ticks\": \"\"}}, \"type\": \"scatter\"}], \"scatter3d\": [{\"line\": {\"colorbar\": {\"outlinewidth\": 0, \"ticks\": \"\"}}, \"marker\": {\"colorbar\": {\"outlinewidth\": 0, \"ticks\": \"\"}}, \"type\": \"scatter3d\"}], \"scattercarpet\": [{\"marker\": {\"colorbar\": {\"outlinewidth\": 0, \"ticks\": \"\"}}, \"type\": \"scattercarpet\"}], \"scattergeo\": [{\"marker\": {\"colorbar\": {\"outlinewidth\": 0, \"ticks\": \"\"}}, \"type\": \"scattergeo\"}], \"scattergl\": [{\"marker\": {\"colorbar\": {\"outlinewidth\": 0, \"ticks\": \"\"}}, \"type\": \"scattergl\"}], \"scattermapbox\": [{\"marker\": {\"colorbar\": {\"outlinewidth\": 0, \"ticks\": \"\"}}, \"type\": \"scattermapbox\"}], \"scatterpolar\": [{\"marker\": {\"colorbar\": {\"outlinewidth\": 0, \"ticks\": \"\"}}, \"type\": \"scatterpolar\"}], \"scatterpolargl\": [{\"marker\": {\"colorbar\": {\"outlinewidth\": 0, \"ticks\": \"\"}}, \"type\": \"scatterpolargl\"}], \"scatterternary\": [{\"marker\": {\"colorbar\": {\"outlinewidth\": 0, \"ticks\": \"\"}}, \"type\": \"scatterternary\"}], \"surface\": [{\"colorbar\": {\"outlinewidth\": 0, \"ticks\": \"\"}, \"colorscale\": [[0.0, \"#0d0887\"], [0.1111111111111111, \"#46039f\"], [0.2222222222222222, \"#7201a8\"], [0.3333333333333333, \"#9c179e\"], [0.4444444444444444, \"#bd3786\"], [0.5555555555555556, \"#d8576b\"], [0.6666666666666666, \"#ed7953\"], [0.7777777777777778, \"#fb9f3a\"], [0.8888888888888888, \"#fdca26\"], [1.0, \"#f0f921\"]], \"type\": \"surface\"}], \"table\": [{\"cells\": {\"fill\": {\"color\": \"#EBF0F8\"}, \"line\": {\"color\": \"white\"}}, \"header\": {\"fill\": {\"color\": \"#C8D4E3\"}, \"line\": {\"color\": \"white\"}}, \"type\": \"table\"}]}, \"layout\": {\"annotationdefaults\": {\"arrowcolor\": \"#2a3f5f\", \"arrowhead\": 0, \"arrowwidth\": 1}, \"autotypenumbers\": \"strict\", \"coloraxis\": {\"colorbar\": {\"outlinewidth\": 0, \"ticks\": \"\"}}, \"colorscale\": {\"diverging\": [[0, \"#8e0152\"], [0.1, \"#c51b7d\"], [0.2, \"#de77ae\"], [0.3, \"#f1b6da\"], [0.4, \"#fde0ef\"], [0.5, \"#f7f7f7\"], [0.6, \"#e6f5d0\"], [0.7, \"#b8e186\"], [0.8, \"#7fbc41\"], [0.9, \"#4d9221\"], [1, \"#276419\"]], \"sequential\": [[0.0, \"#0d0887\"], [0.1111111111111111, \"#46039f\"], [0.2222222222222222, \"#7201a8\"], [0.3333333333333333, \"#9c179e\"], [0.4444444444444444, \"#bd3786\"], [0.5555555555555556, \"#d8576b\"], [0.6666666666666666, \"#ed7953\"], [0.7777777777777778, \"#fb9f3a\"], [0.8888888888888888, \"#fdca26\"], [1.0, \"#f0f921\"]], \"sequentialminus\": [[0.0, \"#0d0887\"], [0.1111111111111111, \"#46039f\"], [0.2222222222222222, \"#7201a8\"], [0.3333333333333333, \"#9c179e\"], [0.4444444444444444, \"#bd3786\"], [0.5555555555555556, \"#d8576b\"], [0.6666666666666666, \"#ed7953\"], [0.7777777777777778, \"#fb9f3a\"], [0.8888888888888888, \"#fdca26\"], [1.0, \"#f0f921\"]]}, \"colorway\": [\"#636efa\", \"#EF553B\", \"#00cc96\", \"#ab63fa\", \"#FFA15A\", \"#19d3f3\", \"#FF6692\", \"#B6E880\", \"#FF97FF\", \"#FECB52\"], \"font\": {\"color\": \"#2a3f5f\"}, \"geo\": {\"bgcolor\": \"white\", \"lakecolor\": \"white\", \"landcolor\": \"#E5ECF6\", \"showlakes\": true, \"showland\": true, \"subunitcolor\": \"white\"}, \"hoverlabel\": {\"align\": \"left\"}, \"hovermode\": \"closest\", \"mapbox\": {\"style\": \"light\"}, \"paper_bgcolor\": \"white\", \"plot_bgcolor\": \"#E5ECF6\", \"polar\": {\"angularaxis\": {\"gridcolor\": \"white\", \"linecolor\": \"white\", \"ticks\": \"\"}, \"bgcolor\": \"#E5ECF6\", \"radialaxis\": {\"gridcolor\": \"white\", \"linecolor\": \"white\", \"ticks\": \"\"}}, \"scene\": {\"xaxis\": {\"backgroundcolor\": \"#E5ECF6\", \"gridcolor\": \"white\", \"gridwidth\": 2, \"linecolor\": \"white\", \"showbackground\": true, \"ticks\": \"\", \"zerolinecolor\": \"white\"}, \"yaxis\": {\"backgroundcolor\": \"#E5ECF6\", \"gridcolor\": \"white\", \"gridwidth\": 2, \"linecolor\": \"white\", \"showbackground\": true, \"ticks\": \"\", \"zerolinecolor\": \"white\"}, \"zaxis\": {\"backgroundcolor\": \"#E5ECF6\", \"gridcolor\": \"white\", \"gridwidth\": 2, \"linecolor\": \"white\", \"showbackground\": true, \"ticks\": \"\", \"zerolinecolor\": \"white\"}}, \"shapedefaults\": {\"line\": {\"color\": \"#2a3f5f\"}}, \"ternary\": {\"aaxis\": {\"gridcolor\": \"white\", \"linecolor\": \"white\", \"ticks\": \"\"}, \"baxis\": {\"gridcolor\": \"white\", \"linecolor\": \"white\", \"ticks\": \"\"}, \"bgcolor\": \"#E5ECF6\", \"caxis\": {\"gridcolor\": \"white\", \"linecolor\": \"white\", \"ticks\": \"\"}}, \"title\": {\"x\": 0.05}, \"xaxis\": {\"automargin\": true, \"gridcolor\": \"white\", \"linecolor\": \"white\", \"ticks\": \"\", \"title\": {\"standoff\": 15}, \"zerolinecolor\": \"white\", \"zerolinewidth\": 2}, \"yaxis\": {\"automargin\": true, \"gridcolor\": \"white\", \"linecolor\": \"white\", \"ticks\": \"\", \"title\": {\"standoff\": 15}, \"zerolinecolor\": \"white\", \"zerolinewidth\": 2}}}, \"title\": {\"text\": \"\"}, \"xaxis\": {\"anchor\": \"y\", \"domain\": [0.0, 1.0], \"title\": {\"text\": \"Global Score 2021\"}}, \"yaxis\": {\"anchor\": \"x\", \"categoryorder\": \"total descending\", \"domain\": [0.0, 1.0], \"title\": {\"text\": \"Government\"}}},                        {\"responsive\": true}                    ).then(function(){\n",
       "                            \n",
       "var gd = document.getElementById('d190a36e-96a7-4806-80fe-f4932e2ddd7f');\n",
       "var x = new MutationObserver(function (mutations, observer) {{\n",
       "        var display = window.getComputedStyle(gd).display;\n",
       "        if (!display || display === 'none') {{\n",
       "            console.log([gd, 'removed!']);\n",
       "            Plotly.purge(gd);\n",
       "            observer.disconnect();\n",
       "        }}\n",
       "}});\n",
       "\n",
       "// Listen for the removal of the full notebook cells\n",
       "var notebookContainer = gd.closest('#notebook-container');\n",
       "if (notebookContainer) {{\n",
       "    x.observe(notebookContainer, {childList: true});\n",
       "}}\n",
       "\n",
       "// Listen for the clearing of the current output cell\n",
       "var outputEl = gd.closest('.output');\n",
       "if (outputEl) {{\n",
       "    x.observe(outputEl, {childList: true});\n",
       "}}\n",
       "\n",
       "                        })                };                });            </script>        </div>"
      ]
     },
     "metadata": {},
     "output_type": "display_data"
    }
   ],
   "source": [
    "series=combined_no_continents.groupby('government')['Global Score 2021'].mean()\n",
    "\n",
    "fig = px.bar(\n",
    "    y=series.index,\n",
    "    x=series.values,\n",
    "    orientation='h',\n",
    "    color=series.index,\n",
    "    text=np.round(series.values,2),\n",
    "    color_discrete_map=color_discrete_map\n",
    ")\n",
    "\n",
    "fig.update_layout(\n",
    "    title=\"Average scores of government types\",\n",
    "    xaxis_title=\"Global Score 2021\",\n",
    "    yaxis_title=\"Government\",\n",
    "    coloraxis_showscale=False,\n",
    "    yaxis_categoryorder='total descending',\n",
    "    showlegend=False\n",
    ")\n",
    "\n",
    "fig.show()\n",
    "\n",
    "series=combined_no_continents.groupby('gov_democracy')['Global Score 2021'].mean()\n",
    "\n",
    "fig = px.bar(\n",
    "    y=series.index,\n",
    "    x=series.values,\n",
    "    orientation='h',\n",
    "    color=series.index,\n",
    "    text=np.round(series.values,2),\n",
    "    height=300\n",
    ")\n",
    "\n",
    "fig.update_layout(\n",
    "    title=\"\",\n",
    "    xaxis_title=\"Global Score 2021\",\n",
    "    yaxis_title=\"Government\",\n",
    "    coloraxis_showscale=False,\n",
    "    yaxis_categoryorder='total descending',\n",
    "    showlegend=False\n",
    ")\n",
    "\n",
    "fig.show()"
   ]
  },
  {
   "cell_type": "markdown",
   "id": "close-tumor",
   "metadata": {
    "papermill": {
     "duration": 0.070654,
     "end_time": "2021-07-08T13:09:12.871205",
     "exception": false,
     "start_time": "2021-07-08T13:09:12.800551",
     "status": "completed"
    },
    "tags": []
   },
   "source": [
    "<h1 style=\"color:black;background-color:white;font-family: Helvetica, sans-serif; font-size:150%;text-align:center; font-weight: 500;\"> While the <span style=\"color: #91ff00\">Foreign/Occupied</span> government type has the best average score going by sheer numbers, in reality it's only present in 2 countries.</h1>\n",
    "\n",
    "<h1 style=\"color:black;background-color:white;font-family: Helvetica, sans-serif; font-size:150%;text-align:center; font-weight: 500;\"> Therefore, I would argue that the government type that tends to encourage politicians to preserve people's right to freedom of press the most AND has a high real-world presence is <span style=\"color: #4fb0ff\">Parliamentary Democracy</span>.</h1>\n",
    "\n",
    "<h1 style=\"color:black;background-color:white;font-family: Helvetica, sans-serif; font-size:150%;text-align:center; font-weight: 500;\">Similarily, we could consider the government type of <span style=\"color: #3d9c6b\">Party-Personal</span> dictatorship as the worst of the prolific non-democratic regimes, being present in countries such as <span style=\"color: blue\">Turkey</span> and  <span style=\"color: blue\">North Korea</span>. </h1>\n",
    "\n",
    "<h1 style=\"color:black;background-color:white;font-family: Helvetica, sans-serif; font-size:150%;text-align:center; font-weight: 500;\"><span style=\"color: blue\">Democratic</span> government types tend to generally perform much better than <span style=\"color: red\">Non-democratic</span> ones. The average score difference between them is over 20 points! </h1>"
   ]
  },
  {
   "cell_type": "markdown",
   "id": "thorough-disability",
   "metadata": {
    "papermill": {
     "duration": 0.069614,
     "end_time": "2021-07-08T13:09:13.011125",
     "exception": false,
     "start_time": "2021-07-08T13:09:12.941511",
     "status": "completed"
    },
    "tags": []
   },
   "source": [
    "### **The most and the least free countries per government type**"
   ]
  },
  {
   "cell_type": "markdown",
   "id": "missing-optimum",
   "metadata": {
    "papermill": {
     "duration": 0.070731,
     "end_time": "2021-07-08T13:09:13.154996",
     "exception": false,
     "start_time": "2021-07-08T13:09:13.084265",
     "status": "completed"
    },
    "tags": []
   },
   "source": [
    "#### **Democracies** "
   ]
  },
  {
   "cell_type": "code",
   "execution_count": 31,
   "id": "administrative-respect",
   "metadata": {
    "_kg_hide-input": true,
    "execution": {
     "iopub.execute_input": "2021-07-08T13:09:13.351694Z",
     "iopub.status.busy": "2021-07-08T13:09:13.349241Z",
     "iopub.status.idle": "2021-07-08T13:09:13.450167Z",
     "shell.execute_reply": "2021-07-08T13:09:13.449056Z",
     "shell.execute_reply.started": "2021-07-08T13:03:22.268994Z"
    },
    "papermill": {
     "duration": 0.201786,
     "end_time": "2021-07-08T13:09:13.450378",
     "exception": false,
     "start_time": "2021-07-08T13:09:13.248592",
     "status": "completed"
    },
    "tags": []
   },
   "outputs": [
    {
     "data": {
      "text/html": [
       "<div>                            <div id=\"226ed497-6594-408d-be72-f7b0118900c5\" class=\"plotly-graph-div\" style=\"height:525px; width:100%;\"></div>            <script type=\"text/javascript\">                require([\"plotly\"], function(Plotly) {                    window.PLOTLYENV=window.PLOTLYENV || {};                                    if (document.getElementById(\"226ed497-6594-408d-be72-f7b0118900c5\")) {                    Plotly.newPlot(                        \"226ed497-6594-408d-be72-f7b0118900c5\",                        [{\"alignmentgroup\": \"True\", \"hovertemplate\": \"government=Parliamentary Democracy<br>Global Score 2021=%{text}<br>Country Name=%{y}<extra></extra>\", \"legendgroup\": \"Parliamentary Democracy\", \"marker\": {\"color\": \"#4fb0ff\"}, \"name\": \"Parliamentary Democracy\", \"offsetgroup\": \"Parliamentary Democracy\", \"orientation\": \"h\", \"showlegend\": true, \"text\": [55.57, 49.71, 46.86, 8.57, 7.24, 6.99, 6.72], \"textposition\": \"auto\", \"type\": \"bar\", \"x\": [55.57, 49.71, 46.86, 8.57, 7.24, 6.99, 6.72], \"xaxis\": \"x\", \"y\": [\"Iraq\", \"Bangladesh\", \"Pakistan\", \"Denmark\", \"Sweden\", \"Finland\", \"Norway\"], \"yaxis\": \"y\"}, {\"alignmentgroup\": \"True\", \"hovertemplate\": \"government=Presidential Democracy<br>Global Score 2021=%{text}<br>Country Name=%{y}<extra></extra>\", \"legendgroup\": \"Presidential Democracy\", \"marker\": {\"color\": \"#0564b3\"}, \"name\": \"Presidential Democracy\", \"offsetgroup\": \"Presidential Democracy\", \"orientation\": \"h\", \"showlegend\": true, \"text\": [49.35, 47.26, 8.76], \"textposition\": \"auto\", \"type\": \"bar\", \"x\": [49.35, 47.26, 8.76], \"xaxis\": \"x\", \"y\": [\"Honduras\", \"Algeria\", \"Costa Rica\"], \"yaxis\": \"y\"}],                        {\"barmode\": \"relative\", \"coloraxis\": {\"showscale\": false}, \"legend\": {\"font\": {\"color\": \"black\", \"family\": \"sans-serif\", \"size\": 12}, \"title\": {\"text\": \"government\"}, \"tracegroupgap\": 0, \"traceorder\": \"normal\", \"x\": 0.75, \"y\": 0.98}, \"margin\": {\"t\": 60}, \"shapes\": [{\"line\": {\"dash\": \"dash\", \"width\": 1}, \"type\": \"line\", \"x0\": 0, \"x1\": 1, \"xref\": \"x domain\", \"y0\": 4.5, \"y1\": 4.5, \"yref\": \"y\"}], \"template\": {\"data\": {\"bar\": [{\"error_x\": {\"color\": \"#2a3f5f\"}, \"error_y\": {\"color\": \"#2a3f5f\"}, \"marker\": {\"line\": {\"color\": \"#E5ECF6\", \"width\": 0.5}}, \"type\": \"bar\"}], \"barpolar\": [{\"marker\": {\"line\": {\"color\": \"#E5ECF6\", \"width\": 0.5}}, \"type\": \"barpolar\"}], \"carpet\": [{\"aaxis\": {\"endlinecolor\": \"#2a3f5f\", \"gridcolor\": \"white\", \"linecolor\": \"white\", \"minorgridcolor\": \"white\", \"startlinecolor\": \"#2a3f5f\"}, \"baxis\": {\"endlinecolor\": \"#2a3f5f\", \"gridcolor\": \"white\", \"linecolor\": \"white\", \"minorgridcolor\": \"white\", \"startlinecolor\": \"#2a3f5f\"}, \"type\": \"carpet\"}], \"choropleth\": [{\"colorbar\": {\"outlinewidth\": 0, \"ticks\": \"\"}, \"type\": \"choropleth\"}], \"contour\": [{\"colorbar\": {\"outlinewidth\": 0, \"ticks\": \"\"}, \"colorscale\": [[0.0, \"#0d0887\"], [0.1111111111111111, \"#46039f\"], [0.2222222222222222, \"#7201a8\"], [0.3333333333333333, \"#9c179e\"], [0.4444444444444444, \"#bd3786\"], [0.5555555555555556, \"#d8576b\"], [0.6666666666666666, \"#ed7953\"], [0.7777777777777778, \"#fb9f3a\"], [0.8888888888888888, \"#fdca26\"], [1.0, \"#f0f921\"]], \"type\": \"contour\"}], \"contourcarpet\": [{\"colorbar\": {\"outlinewidth\": 0, \"ticks\": \"\"}, \"type\": \"contourcarpet\"}], \"heatmap\": [{\"colorbar\": {\"outlinewidth\": 0, \"ticks\": \"\"}, \"colorscale\": [[0.0, \"#0d0887\"], [0.1111111111111111, \"#46039f\"], [0.2222222222222222, \"#7201a8\"], [0.3333333333333333, \"#9c179e\"], [0.4444444444444444, \"#bd3786\"], [0.5555555555555556, \"#d8576b\"], [0.6666666666666666, \"#ed7953\"], [0.7777777777777778, \"#fb9f3a\"], [0.8888888888888888, \"#fdca26\"], [1.0, \"#f0f921\"]], \"type\": \"heatmap\"}], \"heatmapgl\": [{\"colorbar\": {\"outlinewidth\": 0, \"ticks\": \"\"}, \"colorscale\": [[0.0, \"#0d0887\"], [0.1111111111111111, \"#46039f\"], [0.2222222222222222, \"#7201a8\"], [0.3333333333333333, \"#9c179e\"], [0.4444444444444444, \"#bd3786\"], [0.5555555555555556, \"#d8576b\"], [0.6666666666666666, \"#ed7953\"], [0.7777777777777778, \"#fb9f3a\"], [0.8888888888888888, \"#fdca26\"], [1.0, \"#f0f921\"]], \"type\": \"heatmapgl\"}], \"histogram\": [{\"marker\": {\"colorbar\": {\"outlinewidth\": 0, \"ticks\": \"\"}}, \"type\": \"histogram\"}], \"histogram2d\": [{\"colorbar\": {\"outlinewidth\": 0, \"ticks\": \"\"}, \"colorscale\": [[0.0, \"#0d0887\"], [0.1111111111111111, \"#46039f\"], [0.2222222222222222, \"#7201a8\"], [0.3333333333333333, \"#9c179e\"], [0.4444444444444444, \"#bd3786\"], [0.5555555555555556, \"#d8576b\"], [0.6666666666666666, \"#ed7953\"], [0.7777777777777778, \"#fb9f3a\"], [0.8888888888888888, \"#fdca26\"], [1.0, \"#f0f921\"]], \"type\": \"histogram2d\"}], \"histogram2dcontour\": [{\"colorbar\": {\"outlinewidth\": 0, \"ticks\": \"\"}, \"colorscale\": [[0.0, \"#0d0887\"], [0.1111111111111111, \"#46039f\"], [0.2222222222222222, \"#7201a8\"], [0.3333333333333333, \"#9c179e\"], [0.4444444444444444, \"#bd3786\"], [0.5555555555555556, \"#d8576b\"], [0.6666666666666666, \"#ed7953\"], [0.7777777777777778, \"#fb9f3a\"], [0.8888888888888888, \"#fdca26\"], [1.0, \"#f0f921\"]], \"type\": \"histogram2dcontour\"}], \"mesh3d\": [{\"colorbar\": {\"outlinewidth\": 0, \"ticks\": \"\"}, \"type\": \"mesh3d\"}], \"parcoords\": [{\"line\": {\"colorbar\": {\"outlinewidth\": 0, \"ticks\": \"\"}}, \"type\": \"parcoords\"}], \"pie\": [{\"automargin\": true, \"type\": \"pie\"}], \"scatter\": [{\"marker\": {\"colorbar\": {\"outlinewidth\": 0, \"ticks\": \"\"}}, \"type\": \"scatter\"}], \"scatter3d\": [{\"line\": {\"colorbar\": {\"outlinewidth\": 0, \"ticks\": \"\"}}, \"marker\": {\"colorbar\": {\"outlinewidth\": 0, \"ticks\": \"\"}}, \"type\": \"scatter3d\"}], \"scattercarpet\": [{\"marker\": {\"colorbar\": {\"outlinewidth\": 0, \"ticks\": \"\"}}, \"type\": \"scattercarpet\"}], \"scattergeo\": [{\"marker\": {\"colorbar\": {\"outlinewidth\": 0, \"ticks\": \"\"}}, \"type\": \"scattergeo\"}], \"scattergl\": [{\"marker\": {\"colorbar\": {\"outlinewidth\": 0, \"ticks\": \"\"}}, \"type\": \"scattergl\"}], \"scattermapbox\": [{\"marker\": {\"colorbar\": {\"outlinewidth\": 0, \"ticks\": \"\"}}, \"type\": \"scattermapbox\"}], \"scatterpolar\": [{\"marker\": {\"colorbar\": {\"outlinewidth\": 0, \"ticks\": \"\"}}, \"type\": \"scatterpolar\"}], \"scatterpolargl\": [{\"marker\": {\"colorbar\": {\"outlinewidth\": 0, \"ticks\": \"\"}}, \"type\": \"scatterpolargl\"}], \"scatterternary\": [{\"marker\": {\"colorbar\": {\"outlinewidth\": 0, \"ticks\": \"\"}}, \"type\": \"scatterternary\"}], \"surface\": [{\"colorbar\": {\"outlinewidth\": 0, \"ticks\": \"\"}, \"colorscale\": [[0.0, \"#0d0887\"], [0.1111111111111111, \"#46039f\"], [0.2222222222222222, \"#7201a8\"], [0.3333333333333333, \"#9c179e\"], [0.4444444444444444, \"#bd3786\"], [0.5555555555555556, \"#d8576b\"], [0.6666666666666666, \"#ed7953\"], [0.7777777777777778, \"#fb9f3a\"], [0.8888888888888888, \"#fdca26\"], [1.0, \"#f0f921\"]], \"type\": \"surface\"}], \"table\": [{\"cells\": {\"fill\": {\"color\": \"#EBF0F8\"}, \"line\": {\"color\": \"white\"}}, \"header\": {\"fill\": {\"color\": \"#C8D4E3\"}, \"line\": {\"color\": \"white\"}}, \"type\": \"table\"}]}, \"layout\": {\"annotationdefaults\": {\"arrowcolor\": \"#2a3f5f\", \"arrowhead\": 0, \"arrowwidth\": 1}, \"autotypenumbers\": \"strict\", \"coloraxis\": {\"colorbar\": {\"outlinewidth\": 0, \"ticks\": \"\"}}, \"colorscale\": {\"diverging\": [[0, \"#8e0152\"], [0.1, \"#c51b7d\"], [0.2, \"#de77ae\"], [0.3, \"#f1b6da\"], [0.4, \"#fde0ef\"], [0.5, \"#f7f7f7\"], [0.6, \"#e6f5d0\"], [0.7, \"#b8e186\"], [0.8, \"#7fbc41\"], [0.9, \"#4d9221\"], [1, \"#276419\"]], \"sequential\": [[0.0, \"#0d0887\"], [0.1111111111111111, \"#46039f\"], [0.2222222222222222, \"#7201a8\"], [0.3333333333333333, \"#9c179e\"], [0.4444444444444444, \"#bd3786\"], [0.5555555555555556, \"#d8576b\"], [0.6666666666666666, \"#ed7953\"], [0.7777777777777778, \"#fb9f3a\"], [0.8888888888888888, \"#fdca26\"], [1.0, \"#f0f921\"]], \"sequentialminus\": [[0.0, \"#0d0887\"], [0.1111111111111111, \"#46039f\"], [0.2222222222222222, \"#7201a8\"], [0.3333333333333333, \"#9c179e\"], [0.4444444444444444, \"#bd3786\"], [0.5555555555555556, \"#d8576b\"], [0.6666666666666666, \"#ed7953\"], [0.7777777777777778, \"#fb9f3a\"], [0.8888888888888888, \"#fdca26\"], [1.0, \"#f0f921\"]]}, \"colorway\": [\"#636efa\", \"#EF553B\", \"#00cc96\", \"#ab63fa\", \"#FFA15A\", \"#19d3f3\", \"#FF6692\", \"#B6E880\", \"#FF97FF\", \"#FECB52\"], \"font\": {\"color\": \"#2a3f5f\"}, \"geo\": {\"bgcolor\": \"white\", \"lakecolor\": \"white\", \"landcolor\": \"#E5ECF6\", \"showlakes\": true, \"showland\": true, \"subunitcolor\": \"white\"}, \"hoverlabel\": {\"align\": \"left\"}, \"hovermode\": \"closest\", \"mapbox\": {\"style\": \"light\"}, \"paper_bgcolor\": \"white\", \"plot_bgcolor\": \"#E5ECF6\", \"polar\": {\"angularaxis\": {\"gridcolor\": \"white\", \"linecolor\": \"white\", \"ticks\": \"\"}, \"bgcolor\": \"#E5ECF6\", \"radialaxis\": {\"gridcolor\": \"white\", \"linecolor\": \"white\", \"ticks\": \"\"}}, \"scene\": {\"xaxis\": {\"backgroundcolor\": \"#E5ECF6\", \"gridcolor\": \"white\", \"gridwidth\": 2, \"linecolor\": \"white\", \"showbackground\": true, \"ticks\": \"\", \"zerolinecolor\": \"white\"}, \"yaxis\": {\"backgroundcolor\": \"#E5ECF6\", \"gridcolor\": \"white\", \"gridwidth\": 2, \"linecolor\": \"white\", \"showbackground\": true, \"ticks\": \"\", \"zerolinecolor\": \"white\"}, \"zaxis\": {\"backgroundcolor\": \"#E5ECF6\", \"gridcolor\": \"white\", \"gridwidth\": 2, \"linecolor\": \"white\", \"showbackground\": true, \"ticks\": \"\", \"zerolinecolor\": \"white\"}}, \"shapedefaults\": {\"line\": {\"color\": \"#2a3f5f\"}}, \"ternary\": {\"aaxis\": {\"gridcolor\": \"white\", \"linecolor\": \"white\", \"ticks\": \"\"}, \"baxis\": {\"gridcolor\": \"white\", \"linecolor\": \"white\", \"ticks\": \"\"}, \"bgcolor\": \"#E5ECF6\", \"caxis\": {\"gridcolor\": \"white\", \"linecolor\": \"white\", \"ticks\": \"\"}}, \"title\": {\"x\": 0.05}, \"xaxis\": {\"automargin\": true, \"gridcolor\": \"white\", \"linecolor\": \"white\", \"ticks\": \"\", \"title\": {\"standoff\": 15}, \"zerolinecolor\": \"white\", \"zerolinewidth\": 2}, \"yaxis\": {\"automargin\": true, \"gridcolor\": \"white\", \"linecolor\": \"white\", \"ticks\": \"\", \"title\": {\"standoff\": 15}, \"zerolinecolor\": \"white\", \"zerolinewidth\": 2}}}, \"title\": {\"text\": \"Top and bottom 5 democratic countries\"}, \"xaxis\": {\"anchor\": \"y\", \"domain\": [0.0, 1.0], \"title\": {\"text\": \"Global Score 2021\"}}, \"yaxis\": {\"anchor\": \"x\", \"categoryorder\": \"total descending\", \"domain\": [0.0, 1.0], \"title\": {\"text\": \"Country\"}}},                        {\"responsive\": true}                    ).then(function(){\n",
       "                            \n",
       "var gd = document.getElementById('226ed497-6594-408d-be72-f7b0118900c5');\n",
       "var x = new MutationObserver(function (mutations, observer) {{\n",
       "        var display = window.getComputedStyle(gd).display;\n",
       "        if (!display || display === 'none') {{\n",
       "            console.log([gd, 'removed!']);\n",
       "            Plotly.purge(gd);\n",
       "            observer.disconnect();\n",
       "        }}\n",
       "}});\n",
       "\n",
       "// Listen for the removal of the full notebook cells\n",
       "var notebookContainer = gd.closest('#notebook-container');\n",
       "if (notebookContainer) {{\n",
       "    x.observe(notebookContainer, {childList: true});\n",
       "}}\n",
       "\n",
       "// Listen for the clearing of the current output cell\n",
       "var outputEl = gd.closest('.output');\n",
       "if (outputEl) {{\n",
       "    x.observe(outputEl, {childList: true});\n",
       "}}\n",
       "\n",
       "                        })                };                });            </script>        </div>"
      ]
     },
     "metadata": {},
     "output_type": "display_data"
    }
   ],
   "source": [
    "df = combined.loc[combined['gov_democracy'] == 'Democracy', :].sort_values(by='Global Score 2021', ascending=False)\n",
    "\n",
    "df = pd.concat([pd.DataFrame(df.head(5)), pd.DataFrame(df.tail(5))])\n",
    "\n",
    "fig = px.bar(\n",
    "    data_frame=df,\n",
    "    y='Country Name',\n",
    "    x='Global Score 2021',\n",
    "    orientation='h',\n",
    "    text='Global Score 2021',\n",
    "    color='government',\n",
    "    color_discrete_map=color_discrete_map\n",
    ")\n",
    "\n",
    "fig.update_layout(\n",
    "    title=\"Top and bottom 5 democratic countries\",\n",
    "    xaxis_title=\"Global Score 2021\",\n",
    "    yaxis_title=\"Country\",\n",
    "    coloraxis_showscale=False,\n",
    "    yaxis_categoryorder='total descending'\n",
    ")\n",
    "\n",
    "fig.update_layout(\n",
    "    legend=dict(\n",
    "        x=0.75,\n",
    "        y=0.98,\n",
    "        traceorder=\"normal\",\n",
    "        font=dict(\n",
    "            family=\"sans-serif\",\n",
    "            size=12,\n",
    "            color=\"black\"\n",
    "        ),\n",
    "    )\n",
    ")\n",
    "fig.add_hline(y=4.5, line_width=1, line_dash=\"dash\")"
   ]
  },
  {
   "cell_type": "markdown",
   "id": "indie-chapel",
   "metadata": {
    "papermill": {
     "duration": 0.086033,
     "end_time": "2021-07-08T13:09:13.630920",
     "exception": false,
     "start_time": "2021-07-08T13:09:13.544887",
     "status": "completed"
    },
    "tags": []
   },
   "source": [
    "#### **Non-Democracies**"
   ]
  },
  {
   "cell_type": "code",
   "execution_count": 32,
   "id": "champion-tract",
   "metadata": {
    "_kg_hide-input": true,
    "execution": {
     "iopub.execute_input": "2021-07-08T13:09:13.800373Z",
     "iopub.status.busy": "2021-07-08T13:09:13.799304Z",
     "iopub.status.idle": "2021-07-08T13:09:13.884938Z",
     "shell.execute_reply": "2021-07-08T13:09:13.885452Z",
     "shell.execute_reply.started": "2021-07-08T13:03:22.337406Z"
    },
    "papermill": {
     "duration": 0.182352,
     "end_time": "2021-07-08T13:09:13.885622",
     "exception": false,
     "start_time": "2021-07-08T13:09:13.703270",
     "status": "completed"
    },
    "tags": []
   },
   "outputs": [
    {
     "data": {
      "text/html": [
       "<div>                            <div id=\"6d5c38d9-56ab-41cc-9197-f2aa13976190\" class=\"plotly-graph-div\" style=\"height:525px; width:100%;\"></div>            <script type=\"text/javascript\">                require([\"plotly\"], function(Plotly) {                    window.PLOTLYENV=window.PLOTLYENV || {};                                    if (document.getElementById(\"6d5c38d9-56ab-41cc-9197-f2aa13976190\")) {                    Plotly.newPlot(                        \"6d5c38d9-56ab-41cc-9197-f2aa13976190\",                        [{\"alignmentgroup\": \"True\", \"hovertemplate\": \"government=Party-Personal<br>Global Score 2021=%{text}<br>Country Name=%{y}<extra></extra>\", \"legendgroup\": \"Party-Personal\", \"marker\": {\"color\": \"#3d9c6b\"}, \"name\": \"Party-Personal\", \"offsetgroup\": \"Party-Personal\", \"orientation\": \"h\", \"showlegend\": true, \"text\": [81.45, 81.28, 80.03], \"textposition\": \"auto\", \"type\": \"bar\", \"x\": [81.45, 81.28, 80.03], \"xaxis\": \"x\", \"y\": [\"Eritrea\", \"North Korea\", \"Turkmenistan\"], \"yaxis\": \"y\"}, {\"alignmentgroup\": \"True\", \"hovertemplate\": \"government=Dominant Party<br>Global Score 2021=%{text}<br>Country Name=%{y}<extra></extra>\", \"legendgroup\": \"Dominant Party\", \"marker\": {\"color\": \"#400080\"}, \"name\": \"Dominant Party\", \"offsetgroup\": \"Dominant Party\", \"orientation\": \"h\", \"showlegend\": true, \"text\": [78.72, 23.25, 19.72], \"textposition\": \"auto\", \"type\": \"bar\", \"x\": [78.72, 23.25, 19.72], \"xaxis\": \"x\", \"y\": [\"China\", \"Botswana\", \"Namibia\"], \"yaxis\": \"y\"}, {\"alignmentgroup\": \"True\", \"hovertemplate\": \"government=Personal Dictatorship<br>Global Score 2021=%{text}<br>Country Name=%{y}<extra></extra>\", \"legendgroup\": \"Personal Dictatorship\", \"marker\": {\"color\": \"#916d00\"}, \"name\": \"Personal Dictatorship\", \"offsetgroup\": \"Personal Dictatorship\", \"orientation\": \"h\", \"showlegend\": true, \"text\": [78.62], \"textposition\": \"auto\", \"type\": \"bar\", \"x\": [78.62], \"xaxis\": \"x\", \"y\": [\"Djibouti\"], \"yaxis\": \"y\"}, {\"alignmentgroup\": \"True\", \"hovertemplate\": \"government=Monarchy<br>Global Score 2021=%{text}<br>Country Name=%{y}<extra></extra>\", \"legendgroup\": \"Monarchy\", \"marker\": {\"color\": \"#ab006c\"}, \"name\": \"Monarchy\", \"offsetgroup\": \"Monarchy\", \"orientation\": \"h\", \"showlegend\": true, \"text\": [24.59, 19.49], \"textposition\": \"auto\", \"type\": \"bar\", \"x\": [24.59, 19.49], \"xaxis\": \"x\", \"y\": [\"Tonga\", \"Liechtenstein\"], \"yaxis\": \"y\"}, {\"alignmentgroup\": \"True\", \"hovertemplate\": \"government=Foreign/Occupied<br>Global Score 2021=%{text}<br>Country Name=%{y}<extra></extra>\", \"legendgroup\": \"Foreign/Occupied\", \"marker\": {\"color\": \"#91ff00\"}, \"name\": \"Foreign/Occupied\", \"offsetgroup\": \"Foreign/Occupied\", \"orientation\": \"h\", \"showlegend\": true, \"text\": [19.85], \"textposition\": \"auto\", \"type\": \"bar\", \"x\": [19.85], \"xaxis\": \"x\", \"y\": [\"Cyprus\"], \"yaxis\": \"y\"}],                        {\"barmode\": \"relative\", \"coloraxis\": {\"showscale\": false}, \"legend\": {\"font\": {\"color\": \"black\", \"family\": \"sans-serif\", \"size\": 12}, \"title\": {\"text\": \"government\"}, \"tracegroupgap\": 0, \"traceorder\": \"normal\", \"x\": 0.77, \"y\": 0.98}, \"margin\": {\"t\": 60}, \"shapes\": [{\"line\": {\"dash\": \"dash\", \"width\": 1}, \"type\": \"line\", \"x0\": 0, \"x1\": 1, \"xref\": \"x domain\", \"y0\": 4.5, \"y1\": 4.5, \"yref\": \"y\"}], \"template\": {\"data\": {\"bar\": [{\"error_x\": {\"color\": \"#2a3f5f\"}, \"error_y\": {\"color\": \"#2a3f5f\"}, \"marker\": {\"line\": {\"color\": \"#E5ECF6\", \"width\": 0.5}}, \"type\": \"bar\"}], \"barpolar\": [{\"marker\": {\"line\": {\"color\": \"#E5ECF6\", \"width\": 0.5}}, \"type\": \"barpolar\"}], \"carpet\": [{\"aaxis\": {\"endlinecolor\": \"#2a3f5f\", \"gridcolor\": \"white\", \"linecolor\": \"white\", \"minorgridcolor\": \"white\", \"startlinecolor\": \"#2a3f5f\"}, \"baxis\": {\"endlinecolor\": \"#2a3f5f\", \"gridcolor\": \"white\", \"linecolor\": \"white\", \"minorgridcolor\": \"white\", \"startlinecolor\": \"#2a3f5f\"}, \"type\": \"carpet\"}], \"choropleth\": [{\"colorbar\": {\"outlinewidth\": 0, \"ticks\": \"\"}, \"type\": \"choropleth\"}], \"contour\": [{\"colorbar\": {\"outlinewidth\": 0, \"ticks\": \"\"}, \"colorscale\": [[0.0, \"#0d0887\"], [0.1111111111111111, \"#46039f\"], [0.2222222222222222, \"#7201a8\"], [0.3333333333333333, \"#9c179e\"], [0.4444444444444444, \"#bd3786\"], [0.5555555555555556, \"#d8576b\"], [0.6666666666666666, \"#ed7953\"], [0.7777777777777778, \"#fb9f3a\"], [0.8888888888888888, \"#fdca26\"], [1.0, \"#f0f921\"]], \"type\": \"contour\"}], \"contourcarpet\": [{\"colorbar\": {\"outlinewidth\": 0, \"ticks\": \"\"}, \"type\": \"contourcarpet\"}], \"heatmap\": [{\"colorbar\": {\"outlinewidth\": 0, \"ticks\": \"\"}, \"colorscale\": [[0.0, \"#0d0887\"], [0.1111111111111111, \"#46039f\"], [0.2222222222222222, \"#7201a8\"], [0.3333333333333333, \"#9c179e\"], [0.4444444444444444, \"#bd3786\"], [0.5555555555555556, \"#d8576b\"], [0.6666666666666666, \"#ed7953\"], [0.7777777777777778, \"#fb9f3a\"], [0.8888888888888888, \"#fdca26\"], [1.0, \"#f0f921\"]], \"type\": \"heatmap\"}], \"heatmapgl\": [{\"colorbar\": {\"outlinewidth\": 0, \"ticks\": \"\"}, \"colorscale\": [[0.0, \"#0d0887\"], [0.1111111111111111, \"#46039f\"], [0.2222222222222222, \"#7201a8\"], [0.3333333333333333, \"#9c179e\"], [0.4444444444444444, \"#bd3786\"], [0.5555555555555556, \"#d8576b\"], [0.6666666666666666, \"#ed7953\"], [0.7777777777777778, \"#fb9f3a\"], [0.8888888888888888, \"#fdca26\"], [1.0, \"#f0f921\"]], \"type\": \"heatmapgl\"}], \"histogram\": [{\"marker\": {\"colorbar\": {\"outlinewidth\": 0, \"ticks\": \"\"}}, \"type\": \"histogram\"}], \"histogram2d\": [{\"colorbar\": {\"outlinewidth\": 0, \"ticks\": \"\"}, \"colorscale\": [[0.0, \"#0d0887\"], [0.1111111111111111, \"#46039f\"], [0.2222222222222222, \"#7201a8\"], [0.3333333333333333, \"#9c179e\"], [0.4444444444444444, \"#bd3786\"], [0.5555555555555556, \"#d8576b\"], [0.6666666666666666, \"#ed7953\"], [0.7777777777777778, \"#fb9f3a\"], [0.8888888888888888, \"#fdca26\"], [1.0, \"#f0f921\"]], \"type\": \"histogram2d\"}], \"histogram2dcontour\": [{\"colorbar\": {\"outlinewidth\": 0, \"ticks\": \"\"}, \"colorscale\": [[0.0, \"#0d0887\"], [0.1111111111111111, \"#46039f\"], [0.2222222222222222, \"#7201a8\"], [0.3333333333333333, \"#9c179e\"], [0.4444444444444444, \"#bd3786\"], [0.5555555555555556, \"#d8576b\"], [0.6666666666666666, \"#ed7953\"], [0.7777777777777778, \"#fb9f3a\"], [0.8888888888888888, \"#fdca26\"], [1.0, \"#f0f921\"]], \"type\": \"histogram2dcontour\"}], \"mesh3d\": [{\"colorbar\": {\"outlinewidth\": 0, \"ticks\": \"\"}, \"type\": \"mesh3d\"}], \"parcoords\": [{\"line\": {\"colorbar\": {\"outlinewidth\": 0, \"ticks\": \"\"}}, \"type\": \"parcoords\"}], \"pie\": [{\"automargin\": true, \"type\": \"pie\"}], \"scatter\": [{\"marker\": {\"colorbar\": {\"outlinewidth\": 0, \"ticks\": \"\"}}, \"type\": \"scatter\"}], \"scatter3d\": [{\"line\": {\"colorbar\": {\"outlinewidth\": 0, \"ticks\": \"\"}}, \"marker\": {\"colorbar\": {\"outlinewidth\": 0, \"ticks\": \"\"}}, \"type\": \"scatter3d\"}], \"scattercarpet\": [{\"marker\": {\"colorbar\": {\"outlinewidth\": 0, \"ticks\": \"\"}}, \"type\": \"scattercarpet\"}], \"scattergeo\": [{\"marker\": {\"colorbar\": {\"outlinewidth\": 0, \"ticks\": \"\"}}, \"type\": \"scattergeo\"}], \"scattergl\": [{\"marker\": {\"colorbar\": {\"outlinewidth\": 0, \"ticks\": \"\"}}, \"type\": \"scattergl\"}], \"scattermapbox\": [{\"marker\": {\"colorbar\": {\"outlinewidth\": 0, \"ticks\": \"\"}}, \"type\": \"scattermapbox\"}], \"scatterpolar\": [{\"marker\": {\"colorbar\": {\"outlinewidth\": 0, \"ticks\": \"\"}}, \"type\": \"scatterpolar\"}], \"scatterpolargl\": [{\"marker\": {\"colorbar\": {\"outlinewidth\": 0, \"ticks\": \"\"}}, \"type\": \"scatterpolargl\"}], \"scatterternary\": [{\"marker\": {\"colorbar\": {\"outlinewidth\": 0, \"ticks\": \"\"}}, \"type\": \"scatterternary\"}], \"surface\": [{\"colorbar\": {\"outlinewidth\": 0, \"ticks\": \"\"}, \"colorscale\": [[0.0, \"#0d0887\"], [0.1111111111111111, \"#46039f\"], [0.2222222222222222, \"#7201a8\"], [0.3333333333333333, \"#9c179e\"], [0.4444444444444444, \"#bd3786\"], [0.5555555555555556, \"#d8576b\"], [0.6666666666666666, \"#ed7953\"], [0.7777777777777778, \"#fb9f3a\"], [0.8888888888888888, \"#fdca26\"], [1.0, \"#f0f921\"]], \"type\": \"surface\"}], \"table\": [{\"cells\": {\"fill\": {\"color\": \"#EBF0F8\"}, \"line\": {\"color\": \"white\"}}, \"header\": {\"fill\": {\"color\": \"#C8D4E3\"}, \"line\": {\"color\": \"white\"}}, \"type\": \"table\"}]}, \"layout\": {\"annotationdefaults\": {\"arrowcolor\": \"#2a3f5f\", \"arrowhead\": 0, \"arrowwidth\": 1}, \"autotypenumbers\": \"strict\", \"coloraxis\": {\"colorbar\": {\"outlinewidth\": 0, \"ticks\": \"\"}}, \"colorscale\": {\"diverging\": [[0, \"#8e0152\"], [0.1, \"#c51b7d\"], [0.2, \"#de77ae\"], [0.3, \"#f1b6da\"], [0.4, \"#fde0ef\"], [0.5, \"#f7f7f7\"], [0.6, \"#e6f5d0\"], [0.7, \"#b8e186\"], [0.8, \"#7fbc41\"], [0.9, \"#4d9221\"], [1, \"#276419\"]], \"sequential\": [[0.0, \"#0d0887\"], [0.1111111111111111, \"#46039f\"], [0.2222222222222222, \"#7201a8\"], [0.3333333333333333, \"#9c179e\"], [0.4444444444444444, \"#bd3786\"], [0.5555555555555556, \"#d8576b\"], [0.6666666666666666, \"#ed7953\"], [0.7777777777777778, \"#fb9f3a\"], [0.8888888888888888, \"#fdca26\"], [1.0, \"#f0f921\"]], \"sequentialminus\": [[0.0, \"#0d0887\"], [0.1111111111111111, \"#46039f\"], [0.2222222222222222, \"#7201a8\"], [0.3333333333333333, \"#9c179e\"], [0.4444444444444444, \"#bd3786\"], [0.5555555555555556, \"#d8576b\"], [0.6666666666666666, \"#ed7953\"], [0.7777777777777778, \"#fb9f3a\"], [0.8888888888888888, \"#fdca26\"], [1.0, \"#f0f921\"]]}, \"colorway\": [\"#636efa\", \"#EF553B\", \"#00cc96\", \"#ab63fa\", \"#FFA15A\", \"#19d3f3\", \"#FF6692\", \"#B6E880\", \"#FF97FF\", \"#FECB52\"], \"font\": {\"color\": \"#2a3f5f\"}, \"geo\": {\"bgcolor\": \"white\", \"lakecolor\": \"white\", \"landcolor\": \"#E5ECF6\", \"showlakes\": true, \"showland\": true, \"subunitcolor\": \"white\"}, \"hoverlabel\": {\"align\": \"left\"}, \"hovermode\": \"closest\", \"mapbox\": {\"style\": \"light\"}, \"paper_bgcolor\": \"white\", \"plot_bgcolor\": \"#E5ECF6\", \"polar\": {\"angularaxis\": {\"gridcolor\": \"white\", \"linecolor\": \"white\", \"ticks\": \"\"}, \"bgcolor\": \"#E5ECF6\", \"radialaxis\": {\"gridcolor\": \"white\", \"linecolor\": \"white\", \"ticks\": \"\"}}, \"scene\": {\"xaxis\": {\"backgroundcolor\": \"#E5ECF6\", \"gridcolor\": \"white\", \"gridwidth\": 2, \"linecolor\": \"white\", \"showbackground\": true, \"ticks\": \"\", \"zerolinecolor\": \"white\"}, \"yaxis\": {\"backgroundcolor\": \"#E5ECF6\", \"gridcolor\": \"white\", \"gridwidth\": 2, \"linecolor\": \"white\", \"showbackground\": true, \"ticks\": \"\", \"zerolinecolor\": \"white\"}, \"zaxis\": {\"backgroundcolor\": \"#E5ECF6\", \"gridcolor\": \"white\", \"gridwidth\": 2, \"linecolor\": \"white\", \"showbackground\": true, \"ticks\": \"\", \"zerolinecolor\": \"white\"}}, \"shapedefaults\": {\"line\": {\"color\": \"#2a3f5f\"}}, \"ternary\": {\"aaxis\": {\"gridcolor\": \"white\", \"linecolor\": \"white\", \"ticks\": \"\"}, \"baxis\": {\"gridcolor\": \"white\", \"linecolor\": \"white\", \"ticks\": \"\"}, \"bgcolor\": \"#E5ECF6\", \"caxis\": {\"gridcolor\": \"white\", \"linecolor\": \"white\", \"ticks\": \"\"}}, \"title\": {\"x\": 0.05}, \"xaxis\": {\"automargin\": true, \"gridcolor\": \"white\", \"linecolor\": \"white\", \"ticks\": \"\", \"title\": {\"standoff\": 15}, \"zerolinecolor\": \"white\", \"zerolinewidth\": 2}, \"yaxis\": {\"automargin\": true, \"gridcolor\": \"white\", \"linecolor\": \"white\", \"ticks\": \"\", \"title\": {\"standoff\": 15}, \"zerolinecolor\": \"white\", \"zerolinewidth\": 2}}}, \"title\": {\"text\": \"Top and bottom 5 non-democratic countries\"}, \"xaxis\": {\"anchor\": \"y\", \"domain\": [0.0, 1.0], \"title\": {\"text\": \"Global Score 2021\"}}, \"yaxis\": {\"anchor\": \"x\", \"categoryorder\": \"total descending\", \"domain\": [0.0, 1.0], \"title\": {\"text\": \"Country\"}}},                        {\"responsive\": true}                    ).then(function(){\n",
       "                            \n",
       "var gd = document.getElementById('6d5c38d9-56ab-41cc-9197-f2aa13976190');\n",
       "var x = new MutationObserver(function (mutations, observer) {{\n",
       "        var display = window.getComputedStyle(gd).display;\n",
       "        if (!display || display === 'none') {{\n",
       "            console.log([gd, 'removed!']);\n",
       "            Plotly.purge(gd);\n",
       "            observer.disconnect();\n",
       "        }}\n",
       "}});\n",
       "\n",
       "// Listen for the removal of the full notebook cells\n",
       "var notebookContainer = gd.closest('#notebook-container');\n",
       "if (notebookContainer) {{\n",
       "    x.observe(notebookContainer, {childList: true});\n",
       "}}\n",
       "\n",
       "// Listen for the clearing of the current output cell\n",
       "var outputEl = gd.closest('.output');\n",
       "if (outputEl) {{\n",
       "    x.observe(outputEl, {childList: true});\n",
       "}}\n",
       "\n",
       "                        })                };                });            </script>        </div>"
      ]
     },
     "metadata": {},
     "output_type": "display_data"
    }
   ],
   "source": [
    "df = combined.loc[combined['gov_democracy'] == 'Non-Democracy',\n",
    "                  :].sort_values(by='Global Score 2021', ascending=False)\n",
    "\n",
    "df = df.drop(df.loc[df['Country Name'] == 'Cyprus', :].head(1).index)\n",
    "\n",
    "# Cyprus is on 2 continents so we need to drop one\n",
    "df = pd.concat([pd.DataFrame(df.head(5)), pd.DataFrame(df.tail(5))])\n",
    "\n",
    "# Change North Korea's display name for readability\n",
    "df.loc[df['Country Name'] == 'Korea, Democratic People\\'s Republic of',\n",
    "       'Country Name'] = 'North Korea'\n",
    "\n",
    "fig = px.bar(\n",
    "    data_frame=df,\n",
    "    y='Country Name',\n",
    "    x='Global Score 2021',\n",
    "    orientation='h',\n",
    "    text='Global Score 2021',\n",
    "    color='government',\n",
    "    color_discrete_map=color_discrete_map\n",
    ")\n",
    "\n",
    "fig.update_layout(\n",
    "    title=\"Top and bottom 5 non-democratic countries\",\n",
    "    xaxis_title=\"Global Score 2021\",\n",
    "    yaxis_title=\"Country\",\n",
    "    coloraxis_showscale=False,\n",
    "    yaxis_categoryorder='total descending'\n",
    ")\n",
    "\n",
    "fig.update_layout(\n",
    "    legend=dict(\n",
    "        x=0.77,\n",
    "        y=0.98,\n",
    "        traceorder=\"normal\",\n",
    "        font=dict(\n",
    "            family=\"sans-serif\",\n",
    "            size=12,\n",
    "            color=\"black\"\n",
    "        ),\n",
    "    )\n",
    ")\n",
    "fig.add_hline(y=4.5, line_width=1, line_dash=\"dash\")"
   ]
  },
  {
   "cell_type": "markdown",
   "id": "raising-ancient",
   "metadata": {
    "papermill": {
     "duration": 0.072243,
     "end_time": "2021-07-08T13:09:14.031545",
     "exception": false,
     "start_time": "2021-07-08T13:09:13.959302",
     "status": "completed"
    },
    "tags": []
   },
   "source": [
    "<h1 style=\"color:black;background-color:white;font-family: Helvetica, sans-serif; font-size:150%;text-align:center; font-weight: 500;\"> The gap between the least free (at least if we consider freedom of press) democratic country of <span style=\"color: #4fb0ff\">Iraq</span> and the least free non-democratic country - <span style=\"color: #3d9c6b\">Eritrea</span> is an astounding <span style=\"color: red\">25,88</span> points!</h1>\n",
    "\n",
    "<h1 style=\"color:black;background-color:white;font-family: Helvetica, sans-serif; font-size:150%;text-align:center; font-weight: 500;\"> Not only do average authoritharian governments repress their residents' rights much more than their democratic counterparts, but the nations with the least free press are also all non-democratic! </h1>"
   ]
  },
  {
   "cell_type": "markdown",
   "id": "independent-facing",
   "metadata": {
    "papermill": {
     "duration": 0.072564,
     "end_time": "2021-07-08T13:09:14.178351",
     "exception": false,
     "start_time": "2021-07-08T13:09:14.105787",
     "status": "completed"
    },
    "tags": []
   },
   "source": [
    "## **Summary**"
   ]
  },
  {
   "cell_type": "code",
   "execution_count": 33,
   "id": "scheduled-latin",
   "metadata": {
    "_kg_hide-input": true,
    "execution": {
     "iopub.execute_input": "2021-07-08T13:09:14.325137Z",
     "iopub.status.busy": "2021-07-08T13:09:14.324140Z",
     "iopub.status.idle": "2021-07-08T13:09:14.331379Z",
     "shell.execute_reply": "2021-07-08T13:09:14.330860Z",
     "shell.execute_reply.started": "2021-07-08T13:03:22.420161Z"
    },
    "papermill": {
     "duration": 0.081778,
     "end_time": "2021-07-08T13:09:14.331534",
     "exception": false,
     "start_time": "2021-07-08T13:09:14.249756",
     "status": "completed"
    },
    "tags": []
   },
   "outputs": [
    {
     "data": {
      "text/html": [
       "<div class=\"flourish-embed flourish-cards\" data-src=\"visualisation/6654651\"><script src=\"https://public.flourish.studio/resources/embed.js\"></script></div>"
      ],
      "text/plain": [
       "<IPython.core.display.HTML object>"
      ]
     },
     "execution_count": 33,
     "metadata": {},
     "output_type": "execute_result"
    }
   ],
   "source": [
    "HTML('''<div class=\"flourish-embed flourish-cards\" data-src=\"visualisation/6654651\"><script src=\"https://public.flourish.studio/resources/embed.js\"></script></div>''')"
   ]
  },
  {
   "cell_type": "markdown",
   "id": "international-stamp",
   "metadata": {
    "papermill": {
     "duration": 0.074448,
     "end_time": "2021-07-08T13:09:14.478605",
     "exception": false,
     "start_time": "2021-07-08T13:09:14.404157",
     "status": "completed"
    },
    "tags": []
   },
   "source": [
    "![](https://www.azquotes.com/picture-quotes/quote-freedom-of-the-press-if-it-means-anything-at-all-means-the-freedom-to-criticize-and-george-orwell-38-15-15.jpg)"
   ]
  },
  {
   "cell_type": "markdown",
   "id": "encouraging-manor",
   "metadata": {
    "papermill": {
     "duration": 0.071481,
     "end_time": "2021-07-08T13:09:14.623246",
     "exception": false,
     "start_time": "2021-07-08T13:09:14.551765",
     "status": "completed"
    },
    "tags": []
   },
   "source": [
    "<h1 style=\"color:black;background-color:white;font-family: Helvetica, sans-serif; font-size:250%;text-align:center; font-weight: 500;\">Thank you for your attention!</h1>"
   ]
  }
 ],
 "metadata": {
  "kernelspec": {
   "display_name": "Python 3",
   "language": "python",
   "name": "python3"
  },
  "language_info": {
   "codemirror_mode": {
    "name": "ipython",
    "version": 3
   },
   "file_extension": ".py",
   "mimetype": "text/x-python",
   "name": "python",
   "nbconvert_exporter": "python",
   "pygments_lexer": "ipython3",
   "version": "3.7.10"
  },
  "papermill": {
   "default_parameters": {},
   "duration": 104.124858,
   "end_time": "2021-07-08T13:09:16.045325",
   "environment_variables": {},
   "exception": null,
   "input_path": "__notebook__.ipynb",
   "output_path": "__notebook__.ipynb",
   "parameters": {},
   "start_time": "2021-07-08T13:07:31.920467",
   "version": "2.3.3"
  }
 },
 "nbformat": 4,
 "nbformat_minor": 5
}
